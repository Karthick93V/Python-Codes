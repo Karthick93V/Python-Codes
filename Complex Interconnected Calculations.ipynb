{
  "cells": [
    {
      "metadata": {
        "trusted": true
      },
      "cell_type": "code",
      "source": "# Transactional Processing\n# Ensure correctness of individual entries\n# Access to recent data, from the last few hours or days\n# Updates data\n# Fast real-time access\n# Usually a single data source",
      "execution_count": 1,
      "outputs": []
    },
    {
      "metadata": {
        "trusted": true
      },
      "cell_type": "code",
      "source": "# Analytical Processing\n# Analyzes large batches of data\n# Access to older data going back months, or even years\n# Mostly reads data\n# Long running jobs\n# Multiple data sources",
      "execution_count": 2,
      "outputs": []
    },
    {
      "metadata": {
        "trusted": true
      },
      "cell_type": "code",
      "source": "# For Analytical Processing use-cases, Python is a serious alternative to running SQL on data warehouses\n# Essential Analytical Building Blocks\n# Conditional Execution\n# Repeated Execution\n# Re-use of Logic",
      "execution_count": 4,
      "outputs": []
    },
    {
      "metadata": {
        "trusted": true
      },
      "cell_type": "code",
      "source": "if 25 < 30:\n    print(\"25 is less than 30\")",
      "execution_count": 3,
      "outputs": [
        {
          "output_type": "stream",
          "text": "25 is less than 30\n",
          "name": "stdout"
        }
      ]
    },
    {
      "metadata": {
        "trusted": true
      },
      "cell_type": "code",
      "source": "if 25 > 30:\n    print(\"Really? Is 25 is greater than 30\")",
      "execution_count": 4,
      "outputs": []
    },
    {
      "metadata": {
        "trusted": true
      },
      "cell_type": "code",
      "source": "if 35 == 25:\n    print (\" If 35 is equal to 25 prints this statement\")",
      "execution_count": 5,
      "outputs": []
    },
    {
      "metadata": {
        "trusted": true
      },
      "cell_type": "code",
      "source": "if not 35 == 25:\n    print(\"35 and 25 are NOT exactly the same value\")",
      "execution_count": 6,
      "outputs": [
        {
          "output_type": "stream",
          "text": "35 and 25 are NOT exactly the same value\n",
          "name": "stdout"
        }
      ]
    },
    {
      "metadata": {
        "trusted": true
      },
      "cell_type": "code",
      "source": "num = 225\nif num > 0:\n    print (\" The number is greater than 0:\",num)",
      "execution_count": 7,
      "outputs": [
        {
          "output_type": "stream",
          "text": "(' The number is greater than 0:', 225)\n",
          "name": "stdout"
        }
      ]
    },
    {
      "metadata": {
        "trusted": true
      },
      "cell_type": "code",
      "source": "if 35 + 165 == 100 + 100:\n    print (\" Both are equal\")",
      "execution_count": 8,
      "outputs": [
        {
          "output_type": "stream",
          "text": " Both are equal\n",
          "name": "stdout"
        }
      ]
    },
    {
      "metadata": {
        "trusted": true
      },
      "cell_type": "code",
      "source": "salary = 1000\nexpenses = 770",
      "execution_count": 9,
      "outputs": []
    },
    {
      "metadata": {
        "trusted": true
      },
      "cell_type": "code",
      "source": "living_within_means = False\n\nif salary - expenses > 0:\n    living_within_means = True",
      "execution_count": 13,
      "outputs": []
    },
    {
      "metadata": {
        "trusted": true
      },
      "cell_type": "code",
      "source": "print(\"Am I living within my means ?\", living_within_means)",
      "execution_count": 14,
      "outputs": [
        {
          "output_type": "stream",
          "text": "('Am I living within my means ?', True)\n",
          "name": "stdout"
        }
      ]
    },
    {
      "metadata": {
        "trusted": true
      },
      "cell_type": "code",
      "source": "if 100>50>10:\n    print(\"100>50>10\")",
      "execution_count": 15,
      "outputs": [
        {
          "output_type": "stream",
          "text": "100>50>10\n",
          "name": "stdout"
        }
      ]
    },
    {
      "metadata": {
        "trusted": true
      },
      "cell_type": "code",
      "source": "if 100< 50 < 10:\n    print(\"Nothing will be printed\")",
      "execution_count": 16,
      "outputs": []
    },
    {
      "metadata": {
        "trusted": true
      },
      "cell_type": "code",
      "source": "salary = 1000\nexpenses = 770\n\nliving_within_means = salary - expenses > 0\n\nif living_within_means and expenses > 500:\n    print(\"I'm glaad you're saving but perhaps your expenses could be lower\")",
      "execution_count": 3,
      "outputs": [
        {
          "output_type": "stream",
          "text": "I'm glaad you're saving but perhaps your expenses could be lower\n",
          "name": "stdout"
        }
      ]
    },
    {
      "metadata": {
        "trusted": true
      },
      "cell_type": "code",
      "source": "if 2<=5 or 7>=8 :\n    print(\"This is printed because 2 is definitely less than 5\")",
      "execution_count": 4,
      "outputs": [
        {
          "output_type": "stream",
          "text": "This is printed because 2 is definitely less than 5\n",
          "name": "stdout"
        }
      ]
    },
    {
      "metadata": {
        "trusted": true
      },
      "cell_type": "code",
      "source": "salary = 1000\nexpenses = 770\n\nsavings = 0\n\nif salary > expenses:\n    savings = salary - expenses\n    print(\"Savings for the month:\", savings)",
      "execution_count": 5,
      "outputs": [
        {
          "output_type": "stream",
          "text": "('Savings for the month:', 230)\n",
          "name": "stdout"
        }
      ]
    },
    {
      "metadata": {
        "trusted": true
      },
      "cell_type": "code",
      "source": "salary = 1000\nexpenses = 770\n\nif salary > expenses:\n    print(\"Savings for the month:\", salary - expenses)\nelse:\n    print(\"Loans to tide you over:\", expenses - salary)",
      "execution_count": 6,
      "outputs": [
        {
          "output_type": "stream",
          "text": "('Savings for the month:', 230)\n",
          "name": "stdout"
        }
      ]
    },
    {
      "metadata": {
        "trusted": true
      },
      "cell_type": "code",
      "source": "salary = 1000\nexpenses = 1100\n\nif salary > expenses:\n    print(\"Saving of the month:\",salary - expenses)\nelse:\n    print(\"Loans to tide you over:\", expenses - salary)",
      "execution_count": 15,
      "outputs": [
        {
          "output_type": "stream",
          "text": "('Loans to tide you over:', 100)\n",
          "name": "stdout"
        }
      ]
    },
    {
      "metadata": {
        "trusted": true
      },
      "cell_type": "code",
      "source": "some_list = [3,5,2,9,10,100,22,5,1]\n\nif min(some_list) < 0:\n    print(\"The smallest value is negative\")\nelse:\n    print(\"The smallest value is positive\")",
      "execution_count": 20,
      "outputs": [
        {
          "output_type": "stream",
          "text": "The smallest value is positive\n",
          "name": "stdout"
        }
      ]
    },
    {
      "metadata": {
        "trusted": true
      },
      "cell_type": "code",
      "source": "salary = 1000\nexpenses = 770\n\nsavings = 0\nloans = 0\n\nif salary > expenses :\n    savings = salary - expenses\n    print(\"Savings for the month:\", savings)\nelse:\n    loans = expenses - savings\n    print(\"Loan for this month:\", loans)\n    \nprint(\"Savings:\", savings, \"Loans:\", loans)",
      "execution_count": 24,
      "outputs": [
        {
          "output_type": "stream",
          "text": "('Savings for the month:', 230)\n('Savings:', 230, 'Loans:', 0)\n",
          "name": "stdout"
        }
      ]
    },
    {
      "metadata": {
        "trusted": true
      },
      "cell_type": "code",
      "source": "classic_cars = ['Pierre Arrow',\"Oldsmobile\", 'Mustang']\n\nsports_cars = ['Agera','Regera', 'Chiron', 'Veyron']\n\nplanes = ['A380', 'A747', 'A370']",
      "execution_count": 27,
      "outputs": []
    },
    {
      "metadata": {
        "trusted": true
      },
      "cell_type": "code",
      "source": "if len(classic_cars) < 5:\n    print(\"That isn't a very high list of classic_cars\")",
      "execution_count": 28,
      "outputs": [
        {
          "output_type": "stream",
          "text": "That isn't a very high list of classic_cars\n",
          "name": "stdout"
        }
      ]
    },
    {
      "metadata": {
        "trusted": true
      },
      "cell_type": "code",
      "source": "transporation = 'Chiron'\n\nif transporation in classic_cars:\n    print(\"Your type of transportation is a classic car\")\n    \nif transporation in sports_cars:\n    print(\"Your type of transportation is a sports car\")\n    \nif transporation in planes:\n    print(\"Your type of transportation is a planes\")",
      "execution_count": 30,
      "outputs": [
        {
          "output_type": "stream",
          "text": "Your type of transportation is a sports car\n",
          "name": "stdout"
        }
      ]
    },
    {
      "metadata": {
        "trusted": true
      },
      "cell_type": "code",
      "source": "luxury_cars_and_their_horsepowers = {\"Phantom\": 414,\n                                    \"Cullinan\" : 420,\n                                    \"Wraith\" : 465,\n                                    \"Ghost\" : 420,\n                                    \"Dawn\" : 480}",
      "execution_count": 33,
      "outputs": []
    },
    {
      "metadata": {
        "trusted": true
      },
      "cell_type": "code",
      "source": "if \"Phantom\" in luxury_cars_and_their_horsepowers:\n    print(\"The Phantom is in the luxury_cars_and_their_horsepowers\")",
      "execution_count": 34,
      "outputs": [
        {
          "output_type": "stream",
          "text": "The Phantom is in the luxury_cars_and_their_horsepowers\n",
          "name": "stdout"
        }
      ]
    },
    {
      "metadata": {
        "trusted": true
      },
      "cell_type": "code",
      "source": "if \"Maybach\" not in luxury_cars_and_their_horsepowers:\n    print(\"The Maybach is not in the luxury_cars_and_their_horsepowers\")",
      "execution_count": 35,
      "outputs": [
        {
          "output_type": "stream",
          "text": "The Maybach is not in the luxury_cars_and_their_horsepowers\n",
          "name": "stdout"
        }
      ]
    },
    {
      "metadata": {
        "trusted": true
      },
      "cell_type": "code",
      "source": "# Note : elif , order matters.For example if the first condition is less than 100 and math_core is 20 then it will be true.\n#so the conditon value will be in the ascending order\n\nmath_score = 100\n\nif math_score < 20:\n    print(\"I'm afraid that is not a good score\",  math_score)\n    \nelif math_score < 50:\n    print(\"Oh you can definitely do better than this\", math_score)\n    \nelif math_score < 80:\n    print(\"Ahh you are close to the highest grade you can get\", math_score)\n    \nelif math_score < 100:\n    print(\"You did great at math\", math_score)\n    \nelse:\n    print(\"Centum\")",
      "execution_count": 42,
      "outputs": [
        {
          "output_type": "stream",
          "text": "Centum\n",
          "name": "stdout"
        }
      ]
    },
    {
      "metadata": {
        "trusted": true
      },
      "cell_type": "code",
      "source": "classic_cars = [\"Pierce Arrow\", \"Oldsmobile\", \"Mustang\"]",
      "execution_count": 43,
      "outputs": []
    },
    {
      "metadata": {
        "trusted": true
      },
      "cell_type": "code",
      "source": "for car in classic_cars:\n    print(car)",
      "execution_count": 44,
      "outputs": [
        {
          "output_type": "stream",
          "text": "Pierce Arrow\nOldsmobile\nMustang\n",
          "name": "stdout"
        }
      ]
    },
    {
      "metadata": {
        "trusted": true
      },
      "cell_type": "code",
      "source": "car",
      "execution_count": 45,
      "outputs": [
        {
          "output_type": "execute_result",
          "execution_count": 45,
          "data": {
            "text/plain": "'Mustang'"
          },
          "metadata": {}
        }
      ]
    },
    {
      "metadata": {
        "trusted": true
      },
      "cell_type": "code",
      "source": "sports_car = [\"Agera\", \"Regera\", \"Chiron\",\"Veyron\"]",
      "execution_count": 46,
      "outputs": []
    },
    {
      "metadata": {
        "trusted": true
      },
      "cell_type": "code",
      "source": "for car in sports_cars:\n    print(car)",
      "execution_count": 47,
      "outputs": [
        {
          "output_type": "stream",
          "text": "Agera\nRegera\nChiron\nVeyron\n",
          "name": "stdout"
        }
      ]
    },
    {
      "metadata": {
        "trusted": true
      },
      "cell_type": "code",
      "source": "car",
      "execution_count": 48,
      "outputs": [
        {
          "output_type": "execute_result",
          "execution_count": 48,
          "data": {
            "text/plain": "'Veyron'"
          },
          "metadata": {}
        }
      ]
    },
    {
      "metadata": {
        "trusted": true
      },
      "cell_type": "code",
      "source": "for character in [\"P\", \"h\", \"a\", \"n\", \"t\", \"o\", \"m\"]:\n    print(character)",
      "execution_count": 49,
      "outputs": [
        {
          "output_type": "stream",
          "text": "P\nh\na\nn\nt\no\nm\n",
          "name": "stdout"
        }
      ]
    },
    {
      "metadata": {
        "trusted": true
      },
      "cell_type": "code",
      "source": "character",
      "execution_count": 50,
      "outputs": [
        {
          "output_type": "execute_result",
          "execution_count": 50,
          "data": {
            "text/plain": "'m'"
          },
          "metadata": {}
        }
      ]
    },
    {
      "metadata": {
        "trusted": true
      },
      "cell_type": "code",
      "source": "for character in \"Phantom\":\n    print(character)",
      "execution_count": 51,
      "outputs": [
        {
          "output_type": "stream",
          "text": "P\nh\na\nn\nt\no\nm\n",
          "name": "stdout"
        }
      ]
    },
    {
      "metadata": {
        "trusted": true
      },
      "cell_type": "code",
      "source": "character = [\"Phantom\"]",
      "execution_count": 52,
      "outputs": []
    },
    {
      "metadata": {
        "trusted": true
      },
      "cell_type": "code",
      "source": "for value in character:\n    print(value)",
      "execution_count": 53,
      "outputs": [
        {
          "output_type": "stream",
          "text": "Phantom\n",
          "name": "stdout"
        }
      ]
    },
    {
      "metadata": {
        "trusted": true
      },
      "cell_type": "code",
      "source": "# Strings are iterable whereas the numbers are not an iterable",
      "execution_count": 54,
      "outputs": []
    },
    {
      "metadata": {
        "trusted": true
      },
      "cell_type": "code",
      "source": "cameras = (\"Canon EOS 500D\",\n          \"Nikon D90\",\n          \"Canon EOS 50D\",\n          \"Canon EOS 450D\")",
      "execution_count": 55,
      "outputs": []
    },
    {
      "metadata": {
        "trusted": true
      },
      "cell_type": "code",
      "source": "for camera in cameras:\n    print (camera)",
      "execution_count": 56,
      "outputs": [
        {
          "output_type": "stream",
          "text": "Canon EOS 500D\nNikon D90\nCanon EOS 50D\nCanon EOS 450D\n",
          "name": "stdout"
        }
      ]
    },
    {
      "metadata": {
        "trusted": true
      },
      "cell_type": "code",
      "source": "num_list = (100, 800, 330, 220, 400, 900, 1100)",
      "execution_count": 57,
      "outputs": []
    },
    {
      "metadata": {
        "trusted": true
      },
      "cell_type": "code",
      "source": "for num in num_list:\n    if num < 500:\n        print(\"<500:\", num)\n    else:\n        print(\">=500\",num)",
      "execution_count": 58,
      "outputs": [
        {
          "output_type": "stream",
          "text": "('<500:', 100)\n('>=500', 800)\n('<500:', 330)\n('<500:', 220)\n('<500:', 400)\n('>=500', 900)\n('>=500', 1100)\n",
          "name": "stdout"
        }
      ]
    },
    {
      "metadata": {
        "trusted": true
      },
      "cell_type": "code",
      "source": "r = range(10)\n\nr",
      "execution_count": 59,
      "outputs": [
        {
          "output_type": "execute_result",
          "execution_count": 59,
          "data": {
            "text/plain": "[0, 1, 2, 3, 4, 5, 6, 7, 8, 9]"
          },
          "metadata": {}
        }
      ]
    },
    {
      "metadata": {
        "trusted": true
      },
      "cell_type": "code",
      "source": "tuple(r)",
      "execution_count": 60,
      "outputs": [
        {
          "output_type": "execute_result",
          "execution_count": 60,
          "data": {
            "text/plain": "(0, 1, 2, 3, 4, 5, 6, 7, 8, 9)"
          },
          "metadata": {}
        }
      ]
    },
    {
      "metadata": {
        "trusted": true
      },
      "cell_type": "code",
      "source": "list(r)",
      "execution_count": 61,
      "outputs": [
        {
          "output_type": "execute_result",
          "execution_count": 61,
          "data": {
            "text/plain": "[0, 1, 2, 3, 4, 5, 6, 7, 8, 9]"
          },
          "metadata": {}
        }
      ]
    },
    {
      "metadata": {
        "trusted": true
      },
      "cell_type": "code",
      "source": "list(range(2,10))",
      "execution_count": 62,
      "outputs": [
        {
          "output_type": "execute_result",
          "execution_count": 62,
          "data": {
            "text/plain": "[2, 3, 4, 5, 6, 7, 8, 9]"
          },
          "metadata": {}
        }
      ]
    },
    {
      "metadata": {
        "trusted": true
      },
      "cell_type": "code",
      "source": "list(range(-4, 8))",
      "execution_count": 63,
      "outputs": [
        {
          "output_type": "execute_result",
          "execution_count": 63,
          "data": {
            "text/plain": "[-4, -3, -2, -1, 0, 1, 2, 3, 4, 5, 6, 7]"
          },
          "metadata": {}
        }
      ]
    },
    {
      "metadata": {
        "trusted": true
      },
      "cell_type": "code",
      "source": "for i in range(6):\n    print(i)",
      "execution_count": 65,
      "outputs": [
        {
          "output_type": "stream",
          "text": "0\n1\n2\n3\n4\n5\n",
          "name": "stdout"
        }
      ]
    },
    {
      "metadata": {
        "trusted": true
      },
      "cell_type": "code",
      "source": "for i in range(2,8):\n    print(i)",
      "execution_count": 66,
      "outputs": [
        {
          "output_type": "stream",
          "text": "2\n3\n4\n5\n6\n7\n",
          "name": "stdout"
        }
      ]
    },
    {
      "metadata": {
        "trusted": true
      },
      "cell_type": "code",
      "source": "for i in range (2, 11, 2):\n    print(i)",
      "execution_count": 67,
      "outputs": [
        {
          "output_type": "stream",
          "text": "2\n4\n6\n8\n10\n",
          "name": "stdout"
        }
      ]
    },
    {
      "metadata": {
        "trusted": true
      },
      "cell_type": "code",
      "source": "for i in range (2, 11, 3):\n    print (i)",
      "execution_count": 68,
      "outputs": [
        {
          "output_type": "stream",
          "text": "2\n5\n8\n",
          "name": "stdout"
        }
      ]
    },
    {
      "metadata": {
        "trusted": true
      },
      "cell_type": "code",
      "source": "# The use of a underscore use of a real variable indicates that you want to ignore the value produced \n# by the range function within the for loop\n\nfor _ in range(7):\n    print(\"Python is great for Data Science\")\n    \n",
      "execution_count": 69,
      "outputs": [
        {
          "output_type": "stream",
          "text": "Python is great for Data Science\nPython is great for Data Science\nPython is great for Data Science\nPython is great for Data Science\nPython is great for Data Science\nPython is great for Data Science\nPython is great for Data Science\n",
          "name": "stdout"
        }
      ]
    },
    {
      "metadata": {
        "trusted": true
      },
      "cell_type": "code",
      "source": "names_and_ages = {\"John\" : 53,\n                 \"Alice\" : 57,\n                 \"Bill\" : 14,\n                 \"Dave\" : 25}",
      "execution_count": 70,
      "outputs": []
    },
    {
      "metadata": {
        "trusted": true
      },
      "cell_type": "code",
      "source": "for key in names_and_ages:\n    print(key)",
      "execution_count": 72,
      "outputs": [
        {
          "output_type": "stream",
          "text": "Dave\nJohn\nAlice\nBill\n",
          "name": "stdout"
        }
      ]
    },
    {
      "metadata": {
        "trusted": true
      },
      "cell_type": "code",
      "source": "# To get the key an corresponding value of the dict, use the lookup function in the print statement together the dict values\nfor key in names_and_ages:\n    print(\"Name:\", key, \"Age: \",names_and_ages[key])",
      "execution_count": 73,
      "outputs": [
        {
          "output_type": "stream",
          "text": "('Name:', 'Dave', 'Age: ', 25)\n('Name:', 'John', 'Age: ', 53)\n('Name:', 'Alice', 'Age: ', 57)\n('Name:', 'Bill', 'Age: ', 14)\n",
          "name": "stdout"
        }
      ]
    },
    {
      "metadata": {
        "trusted": true
      },
      "cell_type": "code",
      "source": "names_and_ages.keys()",
      "execution_count": 74,
      "outputs": [
        {
          "output_type": "execute_result",
          "execution_count": 74,
          "data": {
            "text/plain": "['Dave', 'John', 'Alice', 'Bill']"
          },
          "metadata": {}
        }
      ]
    },
    {
      "metadata": {
        "trusted": true
      },
      "cell_type": "code",
      "source": "for key in names_and_ages.keys():\n    print(key)",
      "execution_count": 75,
      "outputs": [
        {
          "output_type": "stream",
          "text": "Dave\nJohn\nAlice\nBill\n",
          "name": "stdout"
        }
      ]
    },
    {
      "metadata": {
        "trusted": true
      },
      "cell_type": "code",
      "source": "names_and_ages.values()",
      "execution_count": 76,
      "outputs": [
        {
          "output_type": "execute_result",
          "execution_count": 76,
          "data": {
            "text/plain": "[25, 53, 57, 14]"
          },
          "metadata": {}
        }
      ]
    },
    {
      "metadata": {
        "trusted": true
      },
      "cell_type": "code",
      "source": "names_and_ages.items()",
      "execution_count": 77,
      "outputs": [
        {
          "output_type": "execute_result",
          "execution_count": 77,
          "data": {
            "text/plain": "[('Dave', 25), ('John', 53), ('Alice', 57), ('Bill', 14)]"
          },
          "metadata": {}
        }
      ]
    },
    {
      "metadata": {
        "trusted": true
      },
      "cell_type": "code",
      "source": "for key,val in names_and_ages.items():\n    print(key, val)",
      "execution_count": 78,
      "outputs": [
        {
          "output_type": "stream",
          "text": "('Dave', 25)\n('John', 53)\n('Alice', 57)\n('Bill', 14)\n",
          "name": "stdout"
        }
      ]
    },
    {
      "metadata": {
        "trusted": true
      },
      "cell_type": "code",
      "source": "while True:\n    print(\"Will be printed when the condition evalutes to true\")",
      "execution_count": 82,
      "outputs": [
        {
          "output_type": "stream",
          "text": "Will be printed when the condition evalutes to true\nWill be printed when the condition evalutes to true\nWill be printed when the condition evalutes to true\nWill be printed when the condition evalutes to true\nWill be printed when the condition evalutes to true\nWill be printed when the condition evalutes to true\nWill be printed when the condition evalutes to true\nWill be printed when the condition evalutes to true\nWill be printed when the condition evalutes to true\nWill be printed when the condition evalutes to true\nWill be printed when the condition evalutes to true\nWill be printed when the condition evalutes to true\nWill be printed when the condition evalutes to true\nWill be printed when the condition evalutes to true\nWill be printed when the condition evalutes to true\nWill be printed when the condition evalutes to true\nWill be printed when the condition evalutes to true\nWill be printed when the condition evalutes to true\nWill be printed when the condition evalutes to true\nWill be printed when the condition evalutes to true\nWill be printed when the condition evalutes to true\nWill be printed when the condition evalutes to true\nWill be printed when the condition evalutes to true\nWill be printed when the condition evalutes to true\nWill be printed when the condition evalutes to true\nWill be printed when the condition evalutes to true\nWill be printed when the condition evalutes to true\nWill be printed when the condition evalutes to true\nWill be printed when the condition evalutes to true\nWill be printed when the condition evalutes to true\nWill be printed when the condition evalutes to true\nWill be printed when the condition evalutes to true\nWill be printed when the condition evalutes to true\nWill be printed when the condition evalutes to true\nWill be printed when the condition evalutes to true\nWill be printed when the condition evalutes to true\nWill be printed when the condition evalutes to true\nWill be printed when the condition evalutes to true\nWill be printed when the condition evalutes to true\nWill be printed when the condition evalutes to true\nWill be printed when the condition evalutes to true\nWill be printed when the condition evalutes to true\nWill be printed when the condition evalutes to true\nWill be printed when the condition evalutes to true\nWill be printed when the condition evalutes to true\nWill be printed when the condition evalutes to true\nWill be printed when the condition evalutes to true\nWill be printed when the condition evalutes to true\nWill be printed when the condition evalutes to true\nWill be printed when the condition evalutes to true\nWill be printed when the condition evalutes to true\nWill be printed when the condition evalutes to true\nWill be printed when the condition evalutes to true\nWill be printed when the condition evalutes to true\nWill be printed when the condition evalutes to true\nWill be printed when the condition evalutes to true\nWill be printed when the condition evalutes to true\nWill be printed when the condition evalutes to true\nWill be printed when the condition evalutes to true\nWill be printed when the condition evalutes to true\nWill be printed when the condition evalutes to true\nWill be printed when the condition evalutes to true\nWill be printed when the condition evalutes to true\nWill be printed when the condition evalutes to true\nWill be printed when the condition evalutes to true\nWill be printed when the condition evalutes to true\nWill be printed when the condition evalutes to true\nWill be printed when the condition evalutes to true\nWill be printed when the condition evalutes to true\nWill be printed when the condition evalutes to true\nWill be printed when the condition evalutes to true\nWill be printed when the condition evalutes to true\nWill be printed when the condition evalutes to true\nWill be printed when the condition evalutes to true\nWill be printed when the condition evalutes to true\nWill be printed when the condition evalutes to true\nWill be printed when the condition evalutes to true\nWill be printed when the condition evalutes to true\nWill be printed when the condition evalutes to true\nWill be printed when the condition evalutes to true\nWill be printed when the condition evalutes to true\nWill be printed when the condition evalutes to true\nWill be printed when the condition evalutes to true\nWill be printed when the condition evalutes to true\nWill be printed when the condition evalutes to true\nWill be printed when the condition evalutes to true\nWill be printed when the condition evalutes to true\nWill be printed when the condition evalutes to true\nWill be printed when the condition evalutes to true\nWill be printed when the condition evalutes to true\nWill be printed when the condition evalutes to true\nWill be printed when the condition evalutes to true\nWill be printed when the condition evalutes to true\nWill be printed when the condition evalutes to true\nWill be printed when the condition evalutes to true\nWill be printed when the condition evalutes to true\nWill be printed when the condition evalutes to true\nWill be printed when the condition evalutes to true\nWill be printed when the condition evalutes to true\nWill be printed when the condition evalutes to true\nWill be printed when the condition evalutes to true\nWill be printed when the condition evalutes to true\nWill be printed when the condition evalutes to true\nWill be printed when the condition evalutes to true\nWill be printed when the condition evalutes to true\nWill be printed when the condition evalutes to true\nWill be printed when the condition evalutes to true\nWill be printed when the condition evalutes to true\nWill be printed when the condition evalutes to true\nWill be printed when the condition evalutes to true\nWill be printed when the condition evalutes to true\nWill be printed when the condition evalutes to true\nWill be printed when the condition evalutes to true\nWill be printed when the condition evalutes to true\nWill be printed when the condition evalutes to true\nWill be printed when the condition evalutes to true\nWill be printed when the condition evalutes to true\nWill be printed when the condition evalutes to true\nWill be printed when the condition evalutes to true\nWill be printed when the condition evalutes to true\nWill be printed when the condition evalutes to true\nWill be printed when the condition evalutes to true\nWill be printed when the condition evalutes to true\nWill be printed when the condition evalutes to true\nWill be printed when the condition evalutes to true\nWill be printed when the condition evalutes to true\nWill be printed when the condition evalutes to true\nWill be printed when the condition evalutes to true\nWill be printed when the condition evalutes to true\nWill be printed when the condition evalutes to true\nWill be printed when the condition evalutes to true\nWill be printed when the condition evalutes to true\nWill be printed when the condition evalutes to true\nWill be printed when the condition evalutes to true\nWill be printed when the condition evalutes to true\nWill be printed when the condition evalutes to true\nWill be printed when the condition evalutes to true\nWill be printed when the condition evalutes to true\nWill be printed when the condition evalutes to true\nWill be printed when the condition evalutes to true\nWill be printed when the condition evalutes to true\nWill be printed when the condition evalutes to true\nWill be printed when the condition evalutes to true\nWill be printed when the condition evalutes to true\nWill be printed when the condition evalutes to true\nWill be printed when the condition evalutes to true\nWill be printed when the condition evalutes to true\nWill be printed when the condition evalutes to true\nWill be printed when the condition evalutes to true\nWill be printed when the condition evalutes to true\nWill be printed when the condition evalutes to true\nWill be printed when the condition evalutes to true\nWill be printed when the condition evalutes to true\nWill be printed when the condition evalutes to true\nWill be printed when the condition evalutes to true\nWill be printed when the condition evalutes to true\nWill be printed when the condition evalutes to true\nWill be printed when the condition evalutes to true\nWill be printed when the condition evalutes to true\nWill be printed when the condition evalutes to true\nWill be printed when the condition evalutes to true\nWill be printed when the condition evalutes to true\nWill be printed when the condition evalutes to true\nWill be printed when the condition evalutes to true\nWill be printed when the condition evalutes to true\nWill be printed when the condition evalutes to true\nWill be printed when the condition evalutes to true\nWill be printed when the condition evalutes to true\nWill be printed when the condition evalutes to true\nWill be printed when the condition evalutes to true\nWill be printed when the condition evalutes to true\nWill be printed when the condition evalutes to true\nWill be printed when the condition evalutes to true\nWill be printed when the condition evalutes to true\nWill be printed when the condition evalutes to true\nWill be printed when the condition evalutes to true\nWill be printed when the condition evalutes to true\nWill be printed when the condition evalutes to true\nWill be printed when the condition evalutes to true\nWill be printed when the condition evalutes to true\nWill be printed when the condition evalutes to true\nWill be printed when the condition evalutes to true\nWill be printed when the condition evalutes to true\nWill be printed when the condition evalutes to true\nWill be printed when the condition evalutes to true\nWill be printed when the condition evalutes to true\nWill be printed when the condition evalutes to true\nWill be printed when the condition evalutes to true\nWill be printed when the condition evalutes to true\nWill be printed when the condition evalutes to true\nWill be printed when the condition evalutes to true\nWill be printed when the condition evalutes to true\nWill be printed when the condition evalutes to true\nWill be printed when the condition evalutes to true\nWill be printed when the condition evalutes to true\nWill be printed when the condition evalutes to true\nWill be printed when the condition evalutes to true\nWill be printed when the condition evalutes to true\nWill be printed when the condition evalutes to true\nWill be printed when the condition evalutes to true\nWill be printed when the condition evalutes to true\nWill be printed when the condition evalutes to true\nWill be printed when the condition evalutes to true\nWill be printed when the condition evalutes to true\nWill be printed when the condition evalutes to true\nWill be printed when the condition evalutes to true\nWill be printed when the condition evalutes to true\nWill be printed when the condition evalutes to true\nWill be printed when the condition evalutes to true\nWill be printed when the condition evalutes to true\nWill be printed when the condition evalutes to true\nWill be printed when the condition evalutes to true\nWill be printed when the condition evalutes to true\nWill be printed when the condition evalutes to true\nWill be printed when the condition evalutes to true\nWill be printed when the condition evalutes to true\nWill be printed when the condition evalutes to true\nWill be printed when the condition evalutes to true\nWill be printed when the condition evalutes to true\nWill be printed when the condition evalutes to true\nWill be printed when the condition evalutes to true\nWill be printed when the condition evalutes to true\nWill be printed when the condition evalutes to true\nWill be printed when the condition evalutes to true\nWill be printed when the condition evalutes to true\nWill be printed when the condition evalutes to true\nWill be printed when the condition evalutes to true\nWill be printed when the condition evalutes to true\nWill be printed when the condition evalutes to true\nWill be printed when the condition evalutes to true\nWill be printed when the condition evalutes to true\nWill be printed when the condition evalutes to true\nWill be printed when the condition evalutes to true\nWill be printed when the condition evalutes to true\nWill be printed when the condition evalutes to true\nWill be printed when the condition evalutes to true\nWill be printed when the condition evalutes to true\nWill be printed when the condition evalutes to true\nWill be printed when the condition evalutes to true\nWill be printed when the condition evalutes to true\nWill be printed when the condition evalutes to true\nWill be printed when the condition evalutes to true\nWill be printed when the condition evalutes to true\nWill be printed when the condition evalutes to true\nWill be printed when the condition evalutes to true\nWill be printed when the condition evalutes to true\nWill be printed when the condition evalutes to true\nWill be printed when the condition evalutes to true\nWill be printed when the condition evalutes to true\nWill be printed when the condition evalutes to true\nWill be printed when the condition evalutes to true\nWill be printed when the condition evalutes to true\nWill be printed when the condition evalutes to true\nWill be printed when the condition evalutes to true\nWill be printed when the condition evalutes to true\nWill be printed when the condition evalutes to true\nWill be printed when the condition evalutes to true\nWill be printed when the condition evalutes to true\nWill be printed when the condition evalutes to true\nWill be printed when the condition evalutes to true\nWill be printed when the condition evalutes to true\nWill be printed when the condition evalutes to true\nWill be printed when the condition evalutes to true\nWill be printed when the condition evalutes to true\nWill be printed when the condition evalutes to true\nWill be printed when the condition evalutes to true\nWill be printed when the condition evalutes to true\nWill be printed when the condition evalutes to true\nWill be printed when the condition evalutes to true\nWill be printed when the condition evalutes to true\nWill be printed when the condition evalutes to true\nWill be printed when the condition evalutes to true\nWill be printed when the condition evalutes to true\nWill be printed when the condition evalutes to true\nWill be printed when the condition evalutes to true\nWill be printed when the condition evalutes to true\nWill be printed when the condition evalutes to true\nWill be printed when the condition evalutes to true\nWill be printed when the condition evalutes to true\nWill be printed when the condition evalutes to true\nWill be printed when the condition evalutes to true\nWill be printed when the condition evalutes to true\nWill be printed when the condition evalutes to true\nWill be printed when the condition evalutes to true\nWill be printed when the condition evalutes to true\nWill be printed when the condition evalutes to true\nWill be printed when the condition evalutes to true\nWill be printed when the condition evalutes to true\nWill be printed when the condition evalutes to true\nWill be printed when the condition evalutes to true\nWill be printed when the condition evalutes to true\nWill be printed when the condition evalutes to true\nWill be printed when the condition evalutes to true\nWill be printed when the condition evalutes to true\nWill be printed when the condition evalutes to true\nWill be printed when the condition evalutes to true\nWill be printed when the condition evalutes to true\nWill be printed when the condition evalutes to true\nWill be printed when the condition evalutes to true\nWill be printed when the condition evalutes to true\nWill be printed when the condition evalutes to true\nWill be printed when the condition evalutes to true\nWill be printed when the condition evalutes to true\nWill be printed when the condition evalutes to true\nWill be printed when the condition evalutes to true\nWill be printed when the condition evalutes to true\nWill be printed when the condition evalutes to true\nWill be printed when the condition evalutes to true\nWill be printed when the condition evalutes to true\nWill be printed when the condition evalutes to true\nWill be printed when the condition evalutes to true\nWill be printed when the condition evalutes to true\nWill be printed when the condition evalutes to true\nWill be printed when the condition evalutes to true\nWill be printed when the condition evalutes to true\nWill be printed when the condition evalutes to true\nWill be printed when the condition evalutes to true\nWill be printed when the condition evalutes to true\nWill be printed when the condition evalutes to true\nWill be printed when the condition evalutes to true\nWill be printed when the condition evalutes to true\nWill be printed when the condition evalutes to true\nWill be printed when the condition evalutes to true\nWill be printed when the condition evalutes to true\nWill be printed when the condition evalutes to true\nWill be printed when the condition evalutes to true\nWill be printed when the condition evalutes to true\nWill be printed when the condition evalutes to true\nWill be printed when the condition evalutes to true\nWill be printed when the condition evalutes to true\nWill be printed when the condition evalutes to true\nWill be printed when the condition evalutes to true\nWill be printed when the condition evalutes to true\nWill be printed when the condition evalutes to true\nWill be printed when the condition evalutes to true\nWill be printed when the condition evalutes to true\nWill be printed when the condition evalutes to true\nWill be printed when the condition evalutes to true\nWill be printed when the condition evalutes to true\nWill be printed when the condition evalutes to true\nWill be printed when the condition evalutes to true\nWill be printed when the condition evalutes to true\nWill be printed when the condition evalutes to true\nWill be printed when the condition evalutes to true\nWill be printed when the condition evalutes to true\nWill be printed when the condition evalutes to true\nWill be printed when the condition evalutes to true\nWill be printed when the condition evalutes to true\nWill be printed when the condition evalutes to true\nWill be printed when the condition evalutes to true\nWill be printed when the condition evalutes to true\nWill be printed when the condition evalutes to true\nWill be printed when the condition evalutes to true\nWill be printed when the condition evalutes to true\nWill be printed when the condition evalutes to true\nWill be printed when the condition evalutes to true\nWill be printed when the condition evalutes to true\nWill be printed when the condition evalutes to true\nWill be printed when the condition evalutes to true\nWill be printed when the condition evalutes to true\nWill be printed when the condition evalutes to true\nWill be printed when the condition evalutes to true\nWill be printed when the condition evalutes to true\nWill be printed when the condition evalutes to true\nWill be printed when the condition evalutes to true\nWill be printed when the condition evalutes to true\nWill be printed when the condition evalutes to true\nWill be printed when the condition evalutes to true\nWill be printed when the condition evalutes to true\nWill be printed when the condition evalutes to true\nWill be printed when the condition evalutes to true\nWill be printed when the condition evalutes to true\nWill be printed when the condition evalutes to true\nWill be printed when the condition evalutes to true\nWill be printed when the condition evalutes to true\nWill be printed when the condition evalutes to true\nWill be printed when the condition evalutes to true\nWill be printed when the condition evalutes to true\nWill be printed when the condition evalutes to true\nWill be printed when the condition evalutes to true\nWill be printed when the condition evalutes to true\nWill be printed when the condition evalutes to true\nWill be printed when the condition evalutes to true\nWill be printed when the condition evalutes to true\nWill be printed when the condition evalutes to true\nWill be printed when the condition evalutes to true\nWill be printed when the condition evalutes to true\nWill be printed when the condition evalutes to true\nWill be printed when the condition evalutes to true\nWill be printed when the condition evalutes to true\nWill be printed when the condition evalutes to true\nWill be printed when the condition evalutes to true\nWill be printed when the condition evalutes to true\nWill be printed when the condition evalutes to true\nWill be printed when the condition evalutes to true\nWill be printed when the condition evalutes to true\nWill be printed when the condition evalutes to true\nWill be printed when the condition evalutes to true\nWill be printed when the condition evalutes to true\nWill be printed when the condition evalutes to true\nWill be printed when the condition evalutes to true\nWill be printed when the condition evalutes to true\nWill be printed when the condition evalutes to true\nWill be printed when the condition evalutes to true\nWill be printed when the condition evalutes to true\nWill be printed when the condition evalutes to true\nWill be printed when the condition evalutes to true\nWill be printed when the condition evalutes to true\nWill be printed when the condition evalutes to true\nWill be printed when the condition evalutes to true\nWill be printed when the condition evalutes to true\nWill be printed when the condition evalutes to true\nWill be printed when the condition evalutes to true\nWill be printed when the condition evalutes to true\nWill be printed when the condition evalutes to true\nWill be printed when the condition evalutes to true\nWill be printed when the condition evalutes to true\nWill be printed when the condition evalutes to true\nWill be printed when the condition evalutes to true\nWill be printed when the condition evalutes to true\nWill be printed when the condition evalutes to true\nWill be printed when the condition evalutes to true\nWill be printed when the condition evalutes to true\nWill be printed when the condition evalutes to true\nWill be printed when the condition evalutes to true\nWill be printed when the condition evalutes to true\nWill be printed when the condition evalutes to true\nWill be printed when the condition evalutes to true\nWill be printed when the condition evalutes to true\nWill be printed when the condition evalutes to true\nWill be printed when the condition evalutes to true\nWill be printed when the condition evalutes to true\nWill be printed when the condition evalutes to true\nWill be printed when the condition evalutes to true\nWill be printed when the condition evalutes to true\nWill be printed when the condition evalutes to true\nWill be printed when the condition evalutes to true\nWill be printed when the condition evalutes to true\nWill be printed when the condition evalutes to true\nWill be printed when the condition evalutes to true\nWill be printed when the condition evalutes to true\nWill be printed when the condition evalutes to true\nWill be printed when the condition evalutes to true\nWill be printed when the condition evalutes to true\nWill be printed when the condition evalutes to true\nWill be printed when the condition evalutes to true\nWill be printed when the condition evalutes to true\nWill be printed when the condition evalutes to true\nWill be printed when the condition evalutes to true\nWill be printed when the condition evalutes to true\nWill be printed when the condition evalutes to true\nWill be printed when the condition evalutes to true\nWill be printed when the condition evalutes to true\nWill be printed when the condition evalutes to true\nWill be printed when the condition evalutes to true\nWill be printed when the condition evalutes to true\nWill be printed when the condition evalutes to true\nWill be printed when the condition evalutes to true\nWill be printed when the condition evalutes to true\nWill be printed when the condition evalutes to true\nWill be printed when the condition evalutes to true\nWill be printed when the condition evalutes to true\nWill be printed when the condition evalutes to true\nWill be printed when the condition evalutes to true\nWill be printed when the condition evalutes to true\nWill be printed when the condition evalutes to true\nWill be printed when the condition evalutes to true\nWill be printed when the condition evalutes to true\nWill be printed when the condition evalutes to true\nWill be printed when the condition evalutes to true\nWill be printed when the condition evalutes to true\nWill be printed when the condition evalutes to true\nWill be printed when the condition evalutes to true\nWill be printed when the condition evalutes to true\nWill be printed when the condition evalutes to true\nWill be printed when the condition evalutes to true\nWill be printed when the condition evalutes to true\nWill be printed when the condition evalutes to true\nWill be printed when the condition evalutes to true\nWill be printed when the condition evalutes to true\nWill be printed when the condition evalutes to true\nWill be printed when the condition evalutes to true\nWill be printed when the condition evalutes to true\nWill be printed when the condition evalutes to true\nWill be printed when the condition evalutes to true\nWill be printed when the condition evalutes to true\nWill be printed when the condition evalutes to true\nWill be printed when the condition evalutes to true\nWill be printed when the condition evalutes to true\nWill be printed when the condition evalutes to true\nWill be printed when the condition evalutes to true\nWill be printed when the condition evalutes to true\nWill be printed when the condition evalutes to true\nWill be printed when the condition evalutes to true\nWill be printed when the condition evalutes to true\nWill be printed when the condition evalutes to true\nWill be printed when the condition evalutes to true\nWill be printed when the condition evalutes to true\nWill be printed when the condition evalutes to true\nWill be printed when the condition evalutes to true\nWill be printed when the condition evalutes to true\nWill be printed when the condition evalutes to true\nWill be printed when the condition evalutes to true\nWill be printed when the condition evalutes to true\nWill be printed when the condition evalutes to true\nWill be printed when the condition evalutes to true\nWill be printed when the condition evalutes to true\nWill be printed when the condition evalutes to true\nWill be printed when the condition evalutes to true\nWill be printed when the condition evalutes to true\nWill be printed when the condition evalutes to true\nWill be printed when the condition evalutes to true\nWill be printed when the condition evalutes to true\nWill be printed when the condition evalutes to true\nWill be printed when the condition evalutes to true\nWill be printed when the condition evalutes to true\nWill be printed when the condition evalutes to true\nWill be printed when the condition evalutes to true\nWill be printed when the condition evalutes to true\nWill be printed when the condition evalutes to true\nWill be printed when the condition evalutes to true\nWill be printed when the condition evalutes to true\nWill be printed when the condition evalutes to true\nWill be printed when the condition evalutes to true\nWill be printed when the condition evalutes to true\nWill be printed when the condition evalutes to true\nWill be printed when the condition evalutes to true\nWill be printed when the condition evalutes to true\nWill be printed when the condition evalutes to true\nWill be printed when the condition evalutes to true\nWill be printed when the condition evalutes to true\nWill be printed when the condition evalutes to true\nWill be printed when the condition evalutes to true\nWill be printed when the condition evalutes to true\nWill be printed when the condition evalutes to true\nWill be printed when the condition evalutes to true\nWill be printed when the condition evalutes to true\nWill be printed when the condition evalutes to true\nWill be printed when the condition evalutes to true\nWill be printed when the condition evalutes to true\nWill be printed when the condition evalutes to true\nWill be printed when the condition evalutes to true\nWill be printed when the condition evalutes to true\nWill be printed when the condition evalutes to true\nWill be printed when the condition evalutes to true\nWill be printed when the condition evalutes to true\nWill be printed when the condition evalutes to true\nWill be printed when the condition evalutes to true\nWill be printed when the condition evalutes to true\nWill be printed when the condition evalutes to true\nWill be printed when the condition evalutes to true\nWill be printed when the condition evalutes to true\nWill be printed when the condition evalutes to true\nWill be printed when the condition evalutes to true\nWill be printed when the condition evalutes to true\nWill be printed when the condition evalutes to true\nWill be printed when the condition evalutes to true\nWill be printed when the condition evalutes to true\nWill be printed when the condition evalutes to true\nWill be printed when the condition evalutes to true\nWill be printed when the condition evalutes to true\nWill be printed when the condition evalutes to true\nWill be printed when the condition evalutes to true\nWill be printed when the condition evalutes to true\nWill be printed when the condition evalutes to true\nWill be printed when the condition evalutes to true\nWill be printed when the condition evalutes to true\nWill be printed when the condition evalutes to true\nWill be printed when the condition evalutes to true\nWill be printed when the condition evalutes to true\nWill be printed when the condition evalutes to true\nWill be printed when the condition evalutes to true\nWill be printed when the condition evalutes to true\nWill be printed when the condition evalutes to true\nWill be printed when the condition evalutes to true\nWill be printed when the condition evalutes to true\nWill be printed when the condition evalutes to true\nWill be printed when the condition evalutes to true\nWill be printed when the condition evalutes to true\nWill be printed when the condition evalutes to true\nWill be printed when the condition evalutes to true\nWill be printed when the condition evalutes to true\nWill be printed when the condition evalutes to true\nWill be printed when the condition evalutes to true\nWill be printed when the condition evalutes to true\nWill be printed when the condition evalutes to true\nWill be printed when the condition evalutes to true\nWill be printed when the condition evalutes to true\nWill be printed when the condition evalutes to true\nWill be printed when the condition evalutes to true\nWill be printed when the condition evalutes to true\nWill be printed when the condition evalutes to true\nWill be printed when the condition evalutes to true\nWill be printed when the condition evalutes to true\nWill be printed when the condition evalutes to true\nWill be printed when the condition evalutes to true\nWill be printed when the condition evalutes to true\nWill be printed when the condition evalutes to true\nWill be printed when the condition evalutes to true\nWill be printed when the condition evalutes to true\nWill be printed when the condition evalutes to true\nWill be printed when the condition evalutes to true\nWill be printed when the condition evalutes to true\nWill be printed when the condition evalutes to true\nWill be printed when the condition evalutes to true\nWill be printed when the condition evalutes to true\nWill be printed when the condition evalutes to true\nWill be printed when the condition evalutes to true\nWill be printed when the condition evalutes to true\nWill be printed when the condition evalutes to true\nWill be printed when the condition evalutes to true\nWill be printed when the condition evalutes to true\nWill be printed when the condition evalutes to true\nWill be printed when the condition evalutes to true\nWill be printed when the condition evalutes to true\nWill be printed when the condition evalutes to true\nWill be printed when the condition evalutes to true\nWill be printed when the condition evalutes to true\nWill be printed when the condition evalutes to true\nWill be printed when the condition evalutes to true\nWill be printed when the condition evalutes to true\nWill be printed when the condition evalutes to true\nWill be printed when the condition evalutes to true\nWill be printed when the condition evalutes to true\nWill be printed when the condition evalutes to true\nWill be printed when the condition evalutes to true\nWill be printed when the condition evalutes to true\nWill be printed when the condition evalutes to true\nWill be printed when the condition evalutes to true\nWill be printed when the condition evalutes to true\nWill be printed when the condition evalutes to true\nWill be printed when the condition evalutes to true\nWill be printed when the condition evalutes to true\nWill be printed when the condition evalutes to true\nWill be printed when the condition evalutes to true\nWill be printed when the condition evalutes to true\nWill be printed when the condition evalutes to true\nWill be printed when the condition evalutes to true\nWill be printed when the condition evalutes to true\nWill be printed when the condition evalutes to true\nWill be printed when the condition evalutes to true\nWill be printed when the condition evalutes to true\nWill be printed when the condition evalutes to true\nWill be printed when the condition evalutes to true\nWill be printed when the condition evalutes to true\nWill be printed when the condition evalutes to true\nWill be printed when the condition evalutes to true\nWill be printed when the condition evalutes to true\nWill be printed when the condition evalutes to true\nWill be printed when the condition evalutes to true\nWill be printed when the condition evalutes to true\nWill be printed when the condition evalutes to true\nWill be printed when the condition evalutes to true\nWill be printed when the condition evalutes to true\nWill be printed when the condition evalutes to true\nWill be printed when the condition evalutes to true\nWill be printed when the condition evalutes to true\nWill be printed when the condition evalutes to true\nWill be printed when the condition evalutes to true\nWill be printed when the condition evalutes to true\nWill be printed when the condition evalutes to true\nWill be printed when the condition evalutes to true\nWill be printed when the condition evalutes to true\nWill be printed when the condition evalutes to true\nWill be printed when the condition evalutes to true\nWill be printed when the condition evalutes to true\nWill be printed when the condition evalutes to true\nWill be printed when the condition evalutes to true\nWill be printed when the condition evalutes to true\nWill be printed when the condition evalutes to true\nWill be printed when the condition evalutes to true\nWill be printed when the condition evalutes to true\nWill be printed when the condition evalutes to true\nWill be printed when the condition evalutes to true\nWill be printed when the condition evalutes to true\nWill be printed when the condition evalutes to true\nWill be printed when the condition evalutes to true\nWill be printed when the condition evalutes to true\nWill be printed when the condition evalutes to true\nWill be printed when the condition evalutes to true\nWill be printed when the condition evalutes to true\nWill be printed when the condition evalutes to true\nWill be printed when the condition evalutes to true\nWill be printed when the condition evalutes to true\nWill be printed when the condition evalutes to true\nWill be printed when the condition evalutes to true\nWill be printed when the condition evalutes to true\nWill be printed when the condition evalutes to true\nWill be printed when the condition evalutes to true\nWill be printed when the condition evalutes to true\nWill be printed when the condition evalutes to true\nWill be printed when the condition evalutes to true\nWill be printed when the condition evalutes to true\nWill be printed when the condition evalutes to true\nWill be printed when the condition evalutes to true\nWill be printed when the condition evalutes to true\nWill be printed when the condition evalutes to true\nWill be printed when the condition evalutes to true\nWill be printed when the condition evalutes to true\nWill be printed when the condition evalutes to true\nWill be printed when the condition evalutes to true\nWill be printed when the condition evalutes to true\nWill be printed when the condition evalutes to true\nWill be printed when the condition evalutes to true\nWill be printed when the condition evalutes to true\nWill be printed when the condition evalutes to true\nWill be printed when the condition evalutes to true\nWill be printed when the condition evalutes to true\nWill be printed when the condition evalutes to true\nWill be printed when the condition evalutes to true\nWill be printed when the condition evalutes to true\nWill be printed when the condition evalutes to true\nWill be printed when the condition evalutes to true\nWill be printed when the condition evalutes to true\nWill be printed when the condition evalutes to true\nWill be printed when the condition evalutes to true\nWill be printed when the condition evalutes to true\nWill be printed when the condition evalutes to true\nWill be printed when the condition evalutes to true\nWill be printed when the condition evalutes to true\nWill be printed when the condition evalutes to true\nWill be printed when the condition evalutes to true\nWill be printed when the condition evalutes to true\nWill be printed when the condition evalutes to true\nWill be printed when the condition evalutes to true\nWill be printed when the condition evalutes to true\nWill be printed when the condition evalutes to true\nWill be printed when the condition evalutes to true\nWill be printed when the condition evalutes to true\nWill be printed when the condition evalutes to true\nWill be printed when the condition evalutes to true\nWill be printed when the condition evalutes to true\nWill be printed when the condition evalutes to true\nWill be printed when the condition evalutes to true\nWill be printed when the condition evalutes to true\nWill be printed when the condition evalutes to true\nWill be printed when the condition evalutes to true\nWill be printed when the condition evalutes to true\nWill be printed when the condition evalutes to true\nWill be printed when the condition evalutes to true\nWill be printed when the condition evalutes to true\nWill be printed when the condition evalutes to true\nWill be printed when the condition evalutes to true\nWill be printed when the condition evalutes to true\nWill be printed when the condition evalutes to true\nWill be printed when the condition evalutes to true\nWill be printed when the condition evalutes to true\nWill be printed when the condition evalutes to true\nWill be printed when the condition evalutes to true\nWill be printed when the condition evalutes to true\nWill be printed when the condition evalutes to true\nWill be printed when the condition evalutes to true\nWill be printed when the condition evalutes to true\nWill be printed when the condition evalutes to true\n",
          "name": "stdout"
        },
        {
          "output_type": "stream",
          "text": "Will be printed when the condition evalutes to true\nWill be printed when the condition evalutes to true\nWill be printed when the condition evalutes to true\nWill be printed when the condition evalutes to true\nWill be printed when the condition evalutes to true\nWill be printed when the condition evalutes to true\nWill be printed when the condition evalutes to true\nWill be printed when the condition evalutes to true\nWill be printed when the condition evalutes to true\nWill be printed when the condition evalutes to true\nWill be printed when the condition evalutes to true\nWill be printed when the condition evalutes to true\nWill be printed when the condition evalutes to true\nWill be printed when the condition evalutes to true\nWill be printed when the condition evalutes to true\nWill be printed when the condition evalutes to true\nWill be printed when the condition evalutes to true\nWill be printed when the condition evalutes to true\nWill be printed when the condition evalutes to true\nWill be printed when the condition evalutes to true\nWill be printed when the condition evalutes to true\nWill be printed when the condition evalutes to true\nWill be printed when the condition evalutes to true\nWill be printed when the condition evalutes to true\nWill be printed when the condition evalutes to true\nWill be printed when the condition evalutes to true\nWill be printed when the condition evalutes to true\nWill be printed when the condition evalutes to true\nWill be printed when the condition evalutes to true\nWill be printed when the condition evalutes to true\nWill be printed when the condition evalutes to true\nWill be printed when the condition evalutes to true\nWill be printed when the condition evalutes to true\nWill be printed when the condition evalutes to true\nWill be printed when the condition evalutes to true\nWill be printed when the condition evalutes to true\nWill be printed when the condition evalutes to true\nWill be printed when the condition evalutes to true\nWill be printed when the condition evalutes to true\nWill be printed when the condition evalutes to true\nWill be printed when the condition evalutes to true\nWill be printed when the condition evalutes to true\nWill be printed when the condition evalutes to true\nWill be printed when the condition evalutes to true\nWill be printed when the condition evalutes to true\nWill be printed when the condition evalutes to true\nWill be printed when the condition evalutes to true\nWill be printed when the condition evalutes to true\nWill be printed when the condition evalutes to true\nWill be printed when the condition evalutes to true\nWill be printed when the condition evalutes to true\nWill be printed when the condition evalutes to true\nWill be printed when the condition evalutes to true\nWill be printed when the condition evalutes to true\nWill be printed when the condition evalutes to true\nWill be printed when the condition evalutes to true\nWill be printed when the condition evalutes to true\nWill be printed when the condition evalutes to true\nWill be printed when the condition evalutes to true\nWill be printed when the condition evalutes to true\nWill be printed when the condition evalutes to true\nWill be printed when the condition evalutes to true\nWill be printed when the condition evalutes to true\nWill be printed when the condition evalutes to true\nWill be printed when the condition evalutes to true\nWill be printed when the condition evalutes to true\nWill be printed when the condition evalutes to true\nWill be printed when the condition evalutes to true\nWill be printed when the condition evalutes to true\nWill be printed when the condition evalutes to true\nWill be printed when the condition evalutes to true\nWill be printed when the condition evalutes to true\nWill be printed when the condition evalutes to true\nWill be printed when the condition evalutes to true\nWill be printed when the condition evalutes to true\nWill be printed when the condition evalutes to true\nWill be printed when the condition evalutes to true\nWill be printed when the condition evalutes to true\nWill be printed when the condition evalutes to true\nWill be printed when the condition evalutes to true\nWill be printed when the condition evalutes to true\nWill be printed when the condition evalutes to true\nWill be printed when the condition evalutes to true\nWill be printed when the condition evalutes to true\nWill be printed when the condition evalutes to true\nWill be printed when the condition evalutes to true\nWill be printed when the condition evalutes to true\nWill be printed when the condition evalutes to true\nWill be printed when the condition evalutes to true\nWill be printed when the condition evalutes to true\nWill be printed when the condition evalutes to true\nWill be printed when the condition evalutes to true\nWill be printed when the condition evalutes to true\nWill be printed when the condition evalutes to true\nWill be printed when the condition evalutes to true\nWill be printed when the condition evalutes to true\nWill be printed when the condition evalutes to true\nWill be printed when the condition evalutes to true\nWill be printed when the condition evalutes to true\nWill be printed when the condition evalutes to true\nWill be printed when the condition evalutes to true\nWill be printed when the condition evalutes to true\nWill be printed when the condition evalutes to true\nWill be printed when the condition evalutes to true\nWill be printed when the condition evalutes to true\nWill be printed when the condition evalutes to true\nWill be printed when the condition evalutes to true\nWill be printed when the condition evalutes to true\nWill be printed when the condition evalutes to true\nWill be printed when the condition evalutes to true\nWill be printed when the condition evalutes to true\nWill be printed when the condition evalutes to true\nWill be printed when the condition evalutes to true\nWill be printed when the condition evalutes to true\nWill be printed when the condition evalutes to true\nWill be printed when the condition evalutes to true\nWill be printed when the condition evalutes to true\nWill be printed when the condition evalutes to true\nWill be printed when the condition evalutes to true\nWill be printed when the condition evalutes to true\nWill be printed when the condition evalutes to true\nWill be printed when the condition evalutes to true\nWill be printed when the condition evalutes to true\nWill be printed when the condition evalutes to true\nWill be printed when the condition evalutes to true\nWill be printed when the condition evalutes to true\nWill be printed when the condition evalutes to true\nWill be printed when the condition evalutes to true\nWill be printed when the condition evalutes to true\nWill be printed when the condition evalutes to true\nWill be printed when the condition evalutes to true\nWill be printed when the condition evalutes to true\nWill be printed when the condition evalutes to true\nWill be printed when the condition evalutes to true\nWill be printed when the condition evalutes to true\nWill be printed when the condition evalutes to true\nWill be printed when the condition evalutes to true\nWill be printed when the condition evalutes to true\nWill be printed when the condition evalutes to true\nWill be printed when the condition evalutes to true\nWill be printed when the condition evalutes to true\nWill be printed when the condition evalutes to true\nWill be printed when the condition evalutes to true\nWill be printed when the condition evalutes to true\nWill be printed when the condition evalutes to true\nWill be printed when the condition evalutes to true\nWill be printed when the condition evalutes to true\nWill be printed when the condition evalutes to true\nWill be printed when the condition evalutes to true\nWill be printed when the condition evalutes to true\nWill be printed when the condition evalutes to true\nWill be printed when the condition evalutes to true\nWill be printed when the condition evalutes to true\nWill be printed when the condition evalutes to true\nWill be printed when the condition evalutes to true\nWill be printed when the condition evalutes to true\nWill be printed when the condition evalutes to true\nWill be printed when the condition evalutes to true\nWill be printed when the condition evalutes to true\nWill be printed when the condition evalutes to true\nWill be printed when the condition evalutes to true\nWill be printed when the condition evalutes to true\nWill be printed when the condition evalutes to true\nWill be printed when the condition evalutes to true\nWill be printed when the condition evalutes to true\nWill be printed when the condition evalutes to true\nWill be printed when the condition evalutes to true\nWill be printed when the condition evalutes to true\nWill be printed when the condition evalutes to true\nWill be printed when the condition evalutes to true\nWill be printed when the condition evalutes to true\nWill be printed when the condition evalutes to true\nWill be printed when the condition evalutes to true\nWill be printed when the condition evalutes to true\nWill be printed when the condition evalutes to true\nWill be printed when the condition evalutes to true\nWill be printed when the condition evalutes to true\nWill be printed when the condition evalutes to true\nWill be printed when the condition evalutes to true\nWill be printed when the condition evalutes to true\nWill be printed when the condition evalutes to true\nWill be printed when the condition evalutes to true\nWill be printed when the condition evalutes to true\nWill be printed when the condition evalutes to true\nWill be printed when the condition evalutes to true\nWill be printed when the condition evalutes to true\nWill be printed when the condition evalutes to true\nWill be printed when the condition evalutes to true\nWill be printed when the condition evalutes to true\nWill be printed when the condition evalutes to true\nWill be printed when the condition evalutes to true\nWill be printed when the condition evalutes to true\nWill be printed when the condition evalutes to true\nWill be printed when the condition evalutes to true\nWill be printed when the condition evalutes to true\nWill be printed when the condition evalutes to true\nWill be printed when the condition evalutes to true\nWill be printed when the condition evalutes to true\nWill be printed when the condition evalutes to true\nWill be printed when the condition evalutes to true\nWill be printed when the condition evalutes to true\nWill be printed when the condition evalutes to true\nWill be printed when the condition evalutes to true\nWill be printed when the condition evalutes to true\nWill be printed when the condition evalutes to true\nWill be printed when the condition evalutes to true\nWill be printed when the condition evalutes to true\nWill be printed when the condition evalutes to true\nWill be printed when the condition evalutes to true\nWill be printed when the condition evalutes to true\nWill be printed when the condition evalutes to true\nWill be printed when the condition evalutes to true\n",
          "name": "stdout"
        },
        {
          "output_type": "stream",
          "text": "Will be printed when the condition evalutes to true\nWill be printed when the condition evalutes to true\nWill be printed when the condition evalutes to true\nWill be printed when the condition evalutes to true\nWill be printed when the condition evalutes to true\nWill be printed when the condition evalutes to true\nWill be printed when the condition evalutes to true\nWill be printed when the condition evalutes to true\nWill be printed when the condition evalutes to true\nWill be printed when the condition evalutes to true\nWill be printed when the condition evalutes to true\nWill be printed when the condition evalutes to true\nWill be printed when the condition evalutes to true\nWill be printed when the condition evalutes to true\nWill be printed when the condition evalutes to true\nWill be printed when the condition evalutes to true\nWill be printed when the condition evalutes to true\nWill be printed when the condition evalutes to true\nWill be printed when the condition evalutes to true\nWill be printed when the condition evalutes to true\nWill be printed when the condition evalutes to true\nWill be printed when the condition evalutes to true\nWill be printed when the condition evalutes to true\nWill be printed when the condition evalutes to true\nWill be printed when the condition evalutes to true\nWill be printed when the condition evalutes to true\nWill be printed when the condition evalutes to true\nWill be printed when the condition evalutes to true\nWill be printed when the condition evalutes to true\nWill be printed when the condition evalutes to true\nWill be printed when the condition evalutes to true\nWill be printed when the condition evalutes to true\nWill be printed when the condition evalutes to true\nWill be printed when the condition evalutes to true\nWill be printed when the condition evalutes to true\nWill be printed when the condition evalutes to true\nWill be printed when the condition evalutes to true\nWill be printed when the condition evalutes to true\nWill be printed when the condition evalutes to true\nWill be printed when the condition evalutes to true\nWill be printed when the condition evalutes to true\nWill be printed when the condition evalutes to true\nWill be printed when the condition evalutes to true\nWill be printed when the condition evalutes to true\nWill be printed when the condition evalutes to true\nWill be printed when the condition evalutes to true\nWill be printed when the condition evalutes to true\nWill be printed when the condition evalutes to true\nWill be printed when the condition evalutes to true\nWill be printed when the condition evalutes to true\nWill be printed when the condition evalutes to true\nWill be printed when the condition evalutes to true\nWill be printed when the condition evalutes to true\nWill be printed when the condition evalutes to true\nWill be printed when the condition evalutes to true\nWill be printed when the condition evalutes to true\nWill be printed when the condition evalutes to true\nWill be printed when the condition evalutes to true\nWill be printed when the condition evalutes to true\nWill be printed when the condition evalutes to true\nWill be printed when the condition evalutes to true\nWill be printed when the condition evalutes to true\nWill be printed when the condition evalutes to true\nWill be printed when the condition evalutes to true\nWill be printed when the condition evalutes to true\nWill be printed when the condition evalutes to true\nWill be printed when the condition evalutes to true\nWill be printed when the condition evalutes to true\nWill be printed when the condition evalutes to true\nWill be printed when the condition evalutes to true\nWill be printed when the condition evalutes to true\nWill be printed when the condition evalutes to true\nWill be printed when the condition evalutes to true\nWill be printed when the condition evalutes to true\nWill be printed when the condition evalutes to true\nWill be printed when the condition evalutes to true\nWill be printed when the condition evalutes to true\nWill be printed when the condition evalutes to true\nWill be printed when the condition evalutes to true\nWill be printed when the condition evalutes to true\nWill be printed when the condition evalutes to true\nWill be printed when the condition evalutes to true\nWill be printed when the condition evalutes to true\nWill be printed when the condition evalutes to true\nWill be printed when the condition evalutes to true\nWill be printed when the condition evalutes to true\nWill be printed when the condition evalutes to true\nWill be printed when the condition evalutes to true\nWill be printed when the condition evalutes to true\nWill be printed when the condition evalutes to true\nWill be printed when the condition evalutes to true\nWill be printed when the condition evalutes to true\nWill be printed when the condition evalutes to true\nWill be printed when the condition evalutes to true\nWill be printed when the condition evalutes to true\nWill be printed when the condition evalutes to true\nWill be printed when the condition evalutes to true\nWill be printed when the condition evalutes to true\nWill be printed when the condition evalutes to true\nWill be printed when the condition evalutes to true\nWill be printed when the condition evalutes to true\nWill be printed when the condition evalutes to true\nWill be printed when the condition evalutes to true\nWill be printed when the condition evalutes to true\nWill be printed when the condition evalutes to true\nWill be printed when the condition evalutes to true\nWill be printed when the condition evalutes to true\nWill be printed when the condition evalutes to true\nWill be printed when the condition evalutes to true\nWill be printed when the condition evalutes to true\nWill be printed when the condition evalutes to true\nWill be printed when the condition evalutes to true\nWill be printed when the condition evalutes to true\nWill be printed when the condition evalutes to true\nWill be printed when the condition evalutes to true\nWill be printed when the condition evalutes to true\nWill be printed when the condition evalutes to true\nWill be printed when the condition evalutes to true\nWill be printed when the condition evalutes to true\nWill be printed when the condition evalutes to true\nWill be printed when the condition evalutes to true\nWill be printed when the condition evalutes to true\nWill be printed when the condition evalutes to true\nWill be printed when the condition evalutes to true\nWill be printed when the condition evalutes to true\nWill be printed when the condition evalutes to true\nWill be printed when the condition evalutes to true\nWill be printed when the condition evalutes to true\nWill be printed when the condition evalutes to true\nWill be printed when the condition evalutes to true\nWill be printed when the condition evalutes to true\nWill be printed when the condition evalutes to true\nWill be printed when the condition evalutes to true\nWill be printed when the condition evalutes to true\nWill be printed when the condition evalutes to true\nWill be printed when the condition evalutes to true\nWill be printed when the condition evalutes to true\nWill be printed when the condition evalutes to true\nWill be printed when the condition evalutes to true\nWill be printed when the condition evalutes to true\nWill be printed when the condition evalutes to true\nWill be printed when the condition evalutes to true\nWill be printed when the condition evalutes to true\nWill be printed when the condition evalutes to true\nWill be printed when the condition evalutes to true\nWill be printed when the condition evalutes to true\nWill be printed when the condition evalutes to true\nWill be printed when the condition evalutes to true\nWill be printed when the condition evalutes to true\nWill be printed when the condition evalutes to true\nWill be printed when the condition evalutes to true\nWill be printed when the condition evalutes to true\nWill be printed when the condition evalutes to true\nWill be printed when the condition evalutes to true\nWill be printed when the condition evalutes to true\nWill be printed when the condition evalutes to true\nWill be printed when the condition evalutes to true\nWill be printed when the condition evalutes to true\nWill be printed when the condition evalutes to true\nWill be printed when the condition evalutes to true\nWill be printed when the condition evalutes to true\nWill be printed when the condition evalutes to true\nWill be printed when the condition evalutes to true\nWill be printed when the condition evalutes to true\nWill be printed when the condition evalutes to true\nWill be printed when the condition evalutes to true\nWill be printed when the condition evalutes to true\nWill be printed when the condition evalutes to true\nWill be printed when the condition evalutes to true\nWill be printed when the condition evalutes to true\nWill be printed when the condition evalutes to true\nWill be printed when the condition evalutes to true\nWill be printed when the condition evalutes to true\nWill be printed when the condition evalutes to true\nWill be printed when the condition evalutes to true\nWill be printed when the condition evalutes to true\nWill be printed when the condition evalutes to true\nWill be printed when the condition evalutes to true\nWill be printed when the condition evalutes to true\nWill be printed when the condition evalutes to true\nWill be printed when the condition evalutes to true\nWill be printed when the condition evalutes to true\nWill be printed when the condition evalutes to true\nWill be printed when the condition evalutes to true\nWill be printed when the condition evalutes to true\nWill be printed when the condition evalutes to true\nWill be printed when the condition evalutes to true\nWill be printed when the condition evalutes to true\nWill be printed when the condition evalutes to true\nWill be printed when the condition evalutes to true\nWill be printed when the condition evalutes to true\nWill be printed when the condition evalutes to true\nWill be printed when the condition evalutes to true\nWill be printed when the condition evalutes to true\nWill be printed when the condition evalutes to true\nWill be printed when the condition evalutes to true\nWill be printed when the condition evalutes to true\nWill be printed when the condition evalutes to true\nWill be printed when the condition evalutes to true\nWill be printed when the condition evalutes to true\nWill be printed when the condition evalutes to true\nWill be printed when the condition evalutes to true\nWill be printed when the condition evalutes to true\nWill be printed when the condition evalutes to true\nWill be printed when the condition evalutes to true\nWill be printed when the condition evalutes to true\nWill be printed when the condition evalutes to true\nWill be printed when the condition evalutes to true\nWill be printed when the condition evalutes to true\nWill be printed when the condition evalutes to true\nWill be printed when the condition evalutes to true\nWill be printed when the condition evalutes to true\nWill be printed when the condition evalutes to true\nWill be printed when the condition evalutes to true\nWill be printed when the condition evalutes to true\nWill be printed when the condition evalutes to true\nWill be printed when the condition evalutes to true\nWill be printed when the condition evalutes to true\nWill be printed when the condition evalutes to true\nWill be printed when the condition evalutes to true\nWill be printed when the condition evalutes to true\nWill be printed when the condition evalutes to true\nWill be printed when the condition evalutes to true\nWill be printed when the condition evalutes to true\nWill be printed when the condition evalutes to true\nWill be printed when the condition evalutes to true\nWill be printed when the condition evalutes to true\nWill be printed when the condition evalutes to true\nWill be printed when the condition evalutes to true\nWill be printed when the condition evalutes to true\nWill be printed when the condition evalutes to true\nWill be printed when the condition evalutes to true\nWill be printed when the condition evalutes to true\nWill be printed when the condition evalutes to true\nWill be printed when the condition evalutes to true\nWill be printed when the condition evalutes to true\nWill be printed when the condition evalutes to true\nWill be printed when the condition evalutes to true\nWill be printed when the condition evalutes to true\nWill be printed when the condition evalutes to true\nWill be printed when the condition evalutes to true\nWill be printed when the condition evalutes to true\nWill be printed when the condition evalutes to true\nWill be printed when the condition evalutes to true\nWill be printed when the condition evalutes to true\nWill be printed when the condition evalutes to true\nWill be printed when the condition evalutes to true\nWill be printed when the condition evalutes to true\nWill be printed when the condition evalutes to true\nWill be printed when the condition evalutes to true\nWill be printed when the condition evalutes to true\nWill be printed when the condition evalutes to true\nWill be printed when the condition evalutes to true\nWill be printed when the condition evalutes to true\nWill be printed when the condition evalutes to true\nWill be printed when the condition evalutes to true\nWill be printed when the condition evalutes to true\nWill be printed when the condition evalutes to true\nWill be printed when the condition evalutes to true\nWill be printed when the condition evalutes to true\nWill be printed when the condition evalutes to true\nWill be printed when the condition evalutes to true\nWill be printed when the condition evalutes to true\nWill be printed when the condition evalutes to true\nWill be printed when the condition evalutes to true\nWill be printed when the condition evalutes to true\nWill be printed when the condition evalutes to true\nWill be printed when the condition evalutes to true\nWill be printed when the condition evalutes to true\nWill be printed when the condition evalutes to true\nWill be printed when the condition evalutes to true\nWill be printed when the condition evalutes to true\nWill be printed when the condition evalutes to true\nWill be printed when the condition evalutes to true\nWill be printed when the condition evalutes to true\nWill be printed when the condition evalutes to true\nWill be printed when the condition evalutes to true\nWill be printed when the condition evalutes to true\nWill be printed when the condition evalutes to true\nWill be printed when the condition evalutes to true\nWill be printed when the condition evalutes to true\nWill be printed when the condition evalutes to true\nWill be printed when the condition evalutes to true\nWill be printed when the condition evalutes to true\nWill be printed when the condition evalutes to true\nWill be printed when the condition evalutes to true\nWill be printed when the condition evalutes to true\nWill be printed when the condition evalutes to true\nWill be printed when the condition evalutes to true\nWill be printed when the condition evalutes to true\nWill be printed when the condition evalutes to true\nWill be printed when the condition evalutes to true\nWill be printed when the condition evalutes to true\nWill be printed when the condition evalutes to true\nWill be printed when the condition evalutes to true\nWill be printed when the condition evalutes to true\nWill be printed when the condition evalutes to true\nWill be printed when the condition evalutes to true\nWill be printed when the condition evalutes to true\nWill be printed when the condition evalutes to true\nWill be printed when the condition evalutes to true\nWill be printed when the condition evalutes to true\nWill be printed when the condition evalutes to true\nWill be printed when the condition evalutes to true\nWill be printed when the condition evalutes to true\nWill be printed when the condition evalutes to true\nWill be printed when the condition evalutes to true\nWill be printed when the condition evalutes to true\nWill be printed when the condition evalutes to true\nWill be printed when the condition evalutes to true\nWill be printed when the condition evalutes to true\nWill be printed when the condition evalutes to true\nWill be printed when the condition evalutes to true\nWill be printed when the condition evalutes to true\nWill be printed when the condition evalutes to true\nWill be printed when the condition evalutes to true\nWill be printed when the condition evalutes to true\nWill be printed when the condition evalutes to true\nWill be printed when the condition evalutes to true\nWill be printed when the condition evalutes to true\nWill be printed when the condition evalutes to true\nWill be printed when the condition evalutes to true\nWill be printed when the condition evalutes to true\nWill be printed when the condition evalutes to true\nWill be printed when the condition evalutes to true\nWill be printed when the condition evalutes to true\nWill be printed when the condition evalutes to true\nWill be printed when the condition evalutes to true\nWill be printed when the condition evalutes to true\nWill be printed when the condition evalutes to true\nWill be printed when the condition evalutes to true\nWill be printed when the condition evalutes to true\nWill be printed when the condition evalutes to true\nWill be printed when the condition evalutes to true\nWill be printed when the condition evalutes to true\nWill be printed when the condition evalutes to true\nWill be printed when the condition evalutes to true\nWill be printed when the condition evalutes to true\nWill be printed when the condition evalutes to true\nWill be printed when the condition evalutes to true\nWill be printed when the condition evalutes to true\nWill be printed when the condition evalutes to true\nWill be printed when the condition evalutes to true\nWill be printed when the condition evalutes to true\nWill be printed when the condition evalutes to true\nWill be printed when the condition evalutes to true\nWill be printed when the condition evalutes to true\nWill be printed when the condition evalutes to true\nWill be printed when the condition evalutes to true\nWill be printed when the condition evalutes to true\nWill be printed when the condition evalutes to true\nWill be printed when the condition evalutes to true\nWill be printed when the condition evalutes to true\nWill be printed when the condition evalutes to true\nWill be printed when the condition evalutes to true\nWill be printed when the condition evalutes to true\nWill be printed when the condition evalutes to true\nWill be printed when the condition evalutes to true\nWill be printed when the condition evalutes to true\nWill be printed when the condition evalutes to true\nWill be printed when the condition evalutes to true\nWill be printed when the condition evalutes to true\nWill be printed when the condition evalutes to true\nWill be printed when the condition evalutes to true\nWill be printed when the condition evalutes to true\nWill be printed when the condition evalutes to true\nWill be printed when the condition evalutes to true\nWill be printed when the condition evalutes to true\nWill be printed when the condition evalutes to true\nWill be printed when the condition evalutes to true\nWill be printed when the condition evalutes to true\nWill be printed when the condition evalutes to true\nWill be printed when the condition evalutes to true\nWill be printed when the condition evalutes to true\nWill be printed when the condition evalutes to true\nWill be printed when the condition evalutes to true\nWill be printed when the condition evalutes to true\n",
          "name": "stdout"
        },
        {
          "output_type": "stream",
          "text": "Will be printed when the condition evalutes to true\nWill be printed when the condition evalutes to true\nWill be printed when the condition evalutes to true\nWill be printed when the condition evalutes to true\nWill be printed when the condition evalutes to true\nWill be printed when the condition evalutes to true\nWill be printed when the condition evalutes to true\nWill be printed when the condition evalutes to true\nWill be printed when the condition evalutes to true\nWill be printed when the condition evalutes to true\nWill be printed when the condition evalutes to true\nWill be printed when the condition evalutes to true\nWill be printed when the condition evalutes to true\nWill be printed when the condition evalutes to true\nWill be printed when the condition evalutes to true\nWill be printed when the condition evalutes to true\nWill be printed when the condition evalutes to true\nWill be printed when the condition evalutes to true\nWill be printed when the condition evalutes to true\nWill be printed when the condition evalutes to true\nWill be printed when the condition evalutes to true\nWill be printed when the condition evalutes to true\nWill be printed when the condition evalutes to true\nWill be printed when the condition evalutes to true\nWill be printed when the condition evalutes to true\nWill be printed when the condition evalutes to true\nWill be printed when the condition evalutes to true\nWill be printed when the condition evalutes to true\nWill be printed when the condition evalutes to true\nWill be printed when the condition evalutes to true\nWill be printed when the condition evalutes to true\nWill be printed when the condition evalutes to true\nWill be printed when the condition evalutes to true\nWill be printed when the condition evalutes to true\nWill be printed when the condition evalutes to true\nWill be printed when the condition evalutes to true\nWill be printed when the condition evalutes to true\nWill be printed when the condition evalutes to true\nWill be printed when the condition evalutes to true\nWill be printed when the condition evalutes to true\nWill be printed when the condition evalutes to true\nWill be printed when the condition evalutes to true\nWill be printed when the condition evalutes to true\nWill be printed when the condition evalutes to true\nWill be printed when the condition evalutes to true\nWill be printed when the condition evalutes to true\nWill be printed when the condition evalutes to true\nWill be printed when the condition evalutes to true\nWill be printed when the condition evalutes to true\nWill be printed when the condition evalutes to true\nWill be printed when the condition evalutes to true\nWill be printed when the condition evalutes to true\nWill be printed when the condition evalutes to true\nWill be printed when the condition evalutes to true\nWill be printed when the condition evalutes to true\nWill be printed when the condition evalutes to true\nWill be printed when the condition evalutes to true\nWill be printed when the condition evalutes to true\nWill be printed when the condition evalutes to true\nWill be printed when the condition evalutes to true\nWill be printed when the condition evalutes to true\nWill be printed when the condition evalutes to true\nWill be printed when the condition evalutes to true\nWill be printed when the condition evalutes to true\nWill be printed when the condition evalutes to true\nWill be printed when the condition evalutes to true\nWill be printed when the condition evalutes to true\nWill be printed when the condition evalutes to true\nWill be printed when the condition evalutes to true\nWill be printed when the condition evalutes to true\nWill be printed when the condition evalutes to true\nWill be printed when the condition evalutes to true\nWill be printed when the condition evalutes to true\nWill be printed when the condition evalutes to true\nWill be printed when the condition evalutes to true\nWill be printed when the condition evalutes to true\nWill be printed when the condition evalutes to true\nWill be printed when the condition evalutes to true\nWill be printed when the condition evalutes to true\nWill be printed when the condition evalutes to true\nWill be printed when the condition evalutes to true\nWill be printed when the condition evalutes to true\nWill be printed when the condition evalutes to true\nWill be printed when the condition evalutes to true\nWill be printed when the condition evalutes to true\nWill be printed when the condition evalutes to true\nWill be printed when the condition evalutes to true\nWill be printed when the condition evalutes to true\nWill be printed when the condition evalutes to true\nWill be printed when the condition evalutes to true\nWill be printed when the condition evalutes to true\nWill be printed when the condition evalutes to true\nWill be printed when the condition evalutes to true\nWill be printed when the condition evalutes to true\nWill be printed when the condition evalutes to true\nWill be printed when the condition evalutes to true\nWill be printed when the condition evalutes to true\nWill be printed when the condition evalutes to true\nWill be printed when the condition evalutes to true\nWill be printed when the condition evalutes to true\nWill be printed when the condition evalutes to true\nWill be printed when the condition evalutes to true\nWill be printed when the condition evalutes to true\nWill be printed when the condition evalutes to true\nWill be printed when the condition evalutes to true\nWill be printed when the condition evalutes to true\nWill be printed when the condition evalutes to true\nWill be printed when the condition evalutes to true\nWill be printed when the condition evalutes to true\nWill be printed when the condition evalutes to true\nWill be printed when the condition evalutes to true\nWill be printed when the condition evalutes to true\nWill be printed when the condition evalutes to true\nWill be printed when the condition evalutes to true\nWill be printed when the condition evalutes to true\nWill be printed when the condition evalutes to true\nWill be printed when the condition evalutes to true\nWill be printed when the condition evalutes to true\nWill be printed when the condition evalutes to true\nWill be printed when the condition evalutes to true\nWill be printed when the condition evalutes to true\nWill be printed when the condition evalutes to true\nWill be printed when the condition evalutes to true\nWill be printed when the condition evalutes to true\nWill be printed when the condition evalutes to true\nWill be printed when the condition evalutes to true\nWill be printed when the condition evalutes to true\nWill be printed when the condition evalutes to true\nWill be printed when the condition evalutes to true\nWill be printed when the condition evalutes to true\nWill be printed when the condition evalutes to true\nWill be printed when the condition evalutes to true\nWill be printed when the condition evalutes to true\nWill be printed when the condition evalutes to true\nWill be printed when the condition evalutes to true\nWill be printed when the condition evalutes to true\nWill be printed when the condition evalutes to true\nWill be printed when the condition evalutes to true\nWill be printed when the condition evalutes to true\nWill be printed when the condition evalutes to true\nWill be printed when the condition evalutes to true\nWill be printed when the condition evalutes to true\nWill be printed when the condition evalutes to true\nWill be printed when the condition evalutes to true\nWill be printed when the condition evalutes to true\nWill be printed when the condition evalutes to true\nWill be printed when the condition evalutes to true\nWill be printed when the condition evalutes to true\nWill be printed when the condition evalutes to true\nWill be printed when the condition evalutes to true\nWill be printed when the condition evalutes to true\nWill be printed when the condition evalutes to true\nWill be printed when the condition evalutes to true\nWill be printed when the condition evalutes to true\nWill be printed when the condition evalutes to true\nWill be printed when the condition evalutes to true\nWill be printed when the condition evalutes to true\nWill be printed when the condition evalutes to true\nWill be printed when the condition evalutes to true\nWill be printed when the condition evalutes to true\nWill be printed when the condition evalutes to true\nWill be printed when the condition evalutes to true\nWill be printed when the condition evalutes to true\nWill be printed when the condition evalutes to true\nWill be printed when the condition evalutes to true\nWill be printed when the condition evalutes to true\nWill be printed when the condition evalutes to true\nWill be printed when the condition evalutes to true\nWill be printed when the condition evalutes to true\nWill be printed when the condition evalutes to true\nWill be printed when the condition evalutes to true\nWill be printed when the condition evalutes to true\nWill be printed when the condition evalutes to true\nWill be printed when the condition evalutes to true\nWill be printed when the condition evalutes to true\nWill be printed when the condition evalutes to true\nWill be printed when the condition evalutes to true\nWill be printed when the condition evalutes to true\nWill be printed when the condition evalutes to true\nWill be printed when the condition evalutes to true\nWill be printed when the condition evalutes to true\nWill be printed when the condition evalutes to true\nWill be printed when the condition evalutes to true\nWill be printed when the condition evalutes to true\nWill be printed when the condition evalutes to true\nWill be printed when the condition evalutes to true\nWill be printed when the condition evalutes to true\nWill be printed when the condition evalutes to true\nWill be printed when the condition evalutes to true\nWill be printed when the condition evalutes to true\nWill be printed when the condition evalutes to true\nWill be printed when the condition evalutes to true\nWill be printed when the condition evalutes to true\nWill be printed when the condition evalutes to true\nWill be printed when the condition evalutes to true\nWill be printed when the condition evalutes to true\nWill be printed when the condition evalutes to true\nWill be printed when the condition evalutes to true\nWill be printed when the condition evalutes to true\nWill be printed when the condition evalutes to true\nWill be printed when the condition evalutes to true\nWill be printed when the condition evalutes to true\nWill be printed when the condition evalutes to true\nWill be printed when the condition evalutes to true\nWill be printed when the condition evalutes to true\nWill be printed when the condition evalutes to true\nWill be printed when the condition evalutes to true\nWill be printed when the condition evalutes to true\nWill be printed when the condition evalutes to true\nWill be printed when the condition evalutes to true\nWill be printed when the condition evalutes to true\nWill be printed when the condition evalutes to true\nWill be printed when the condition evalutes to true\nWill be printed when the condition evalutes to true\nWill be printed when the condition evalutes to true\nWill be printed when the condition evalutes to true\nWill be printed when the condition evalutes to true\nWill be printed when the condition evalutes to true\nWill be printed when the condition evalutes to true\nWill be printed when the condition evalutes to true\nWill be printed when the condition evalutes to true\nWill be printed when the condition evalutes to true\nWill be printed when the condition evalutes to true\nWill be printed when the condition evalutes to true\nWill be printed when the condition evalutes to true\nWill be printed when the condition evalutes to true\nWill be printed when the condition evalutes to true\nWill be printed when the condition evalutes to true\nWill be printed when the condition evalutes to true\nWill be printed when the condition evalutes to true\nWill be printed when the condition evalutes to true\nWill be printed when the condition evalutes to true\nWill be printed when the condition evalutes to true\nWill be printed when the condition evalutes to true\nWill be printed when the condition evalutes to true\nWill be printed when the condition evalutes to true\nWill be printed when the condition evalutes to true\nWill be printed when the condition evalutes to true\nWill be printed when the condition evalutes to true\nWill be printed when the condition evalutes to true\nWill be printed when the condition evalutes to true\nWill be printed when the condition evalutes to true\nWill be printed when the condition evalutes to true\nWill be printed when the condition evalutes to true\nWill be printed when the condition evalutes to true\nWill be printed when the condition evalutes to true\nWill be printed when the condition evalutes to true\nWill be printed when the condition evalutes to true\nWill be printed when the condition evalutes to true\nWill be printed when the condition evalutes to true\nWill be printed when the condition evalutes to true\nWill be printed when the condition evalutes to true\nWill be printed when the condition evalutes to true\nWill be printed when the condition evalutes to true\nWill be printed when the condition evalutes to true\nWill be printed when the condition evalutes to true\nWill be printed when the condition evalutes to true\nWill be printed when the condition evalutes to true\nWill be printed when the condition evalutes to true\nWill be printed when the condition evalutes to true\nWill be printed when the condition evalutes to true\nWill be printed when the condition evalutes to true\nWill be printed when the condition evalutes to true\nWill be printed when the condition evalutes to true\nWill be printed when the condition evalutes to true\nWill be printed when the condition evalutes to true\nWill be printed when the condition evalutes to true\nWill be printed when the condition evalutes to true\nWill be printed when the condition evalutes to true\nWill be printed when the condition evalutes to true\nWill be printed when the condition evalutes to true\nWill be printed when the condition evalutes to true\nWill be printed when the condition evalutes to true\nWill be printed when the condition evalutes to true\nWill be printed when the condition evalutes to true\nWill be printed when the condition evalutes to true\nWill be printed when the condition evalutes to true\nWill be printed when the condition evalutes to true\nWill be printed when the condition evalutes to true\nWill be printed when the condition evalutes to true\nWill be printed when the condition evalutes to true\nWill be printed when the condition evalutes to true\nWill be printed when the condition evalutes to true\nWill be printed when the condition evalutes to true\nWill be printed when the condition evalutes to true\nWill be printed when the condition evalutes to true\nWill be printed when the condition evalutes to true\nWill be printed when the condition evalutes to true\nWill be printed when the condition evalutes to true\nWill be printed when the condition evalutes to true\nWill be printed when the condition evalutes to true\nWill be printed when the condition evalutes to true\nWill be printed when the condition evalutes to true\nWill be printed when the condition evalutes to true\nWill be printed when the condition evalutes to true\nWill be printed when the condition evalutes to true\nWill be printed when the condition evalutes to true\nWill be printed when the condition evalutes to true\nWill be printed when the condition evalutes to true\nWill be printed when the condition evalutes to true\nWill be printed when the condition evalutes to true\nWill be printed when the condition evalutes to true\nWill be printed when the condition evalutes to true\nWill be printed when the condition evalutes to true\nWill be printed when the condition evalutes to true\nWill be printed when the condition evalutes to true\nWill be printed when the condition evalutes to true\nWill be printed when the condition evalutes to true\nWill be printed when the condition evalutes to true\nWill be printed when the condition evalutes to true\nWill be printed when the condition evalutes to true\nWill be printed when the condition evalutes to true\nWill be printed when the condition evalutes to true\nWill be printed when the condition evalutes to true\nWill be printed when the condition evalutes to true\nWill be printed when the condition evalutes to true\nWill be printed when the condition evalutes to true\nWill be printed when the condition evalutes to true\nWill be printed when the condition evalutes to true\nWill be printed when the condition evalutes to true\nWill be printed when the condition evalutes to true\nWill be printed when the condition evalutes to true\nWill be printed when the condition evalutes to true\nWill be printed when the condition evalutes to true\nWill be printed when the condition evalutes to true\nWill be printed when the condition evalutes to true\nWill be printed when the condition evalutes to true\nWill be printed when the condition evalutes to true\nWill be printed when the condition evalutes to true\nWill be printed when the condition evalutes to true\nWill be printed when the condition evalutes to true\nWill be printed when the condition evalutes to true\nWill be printed when the condition evalutes to true\nWill be printed when the condition evalutes to true\nWill be printed when the condition evalutes to true\nWill be printed when the condition evalutes to true\nWill be printed when the condition evalutes to true\nWill be printed when the condition evalutes to true\nWill be printed when the condition evalutes to true\nWill be printed when the condition evalutes to true\nWill be printed when the condition evalutes to true\nWill be printed when the condition evalutes to true\nWill be printed when the condition evalutes to true\nWill be printed when the condition evalutes to true\nWill be printed when the condition evalutes to true\nWill be printed when the condition evalutes to true\nWill be printed when the condition evalutes to true\nWill be printed when the condition evalutes to true\nWill be printed when the condition evalutes to true\nWill be printed when the condition evalutes to true\nWill be printed when the condition evalutes to true\nWill be printed when the condition evalutes to true\nWill be printed when the condition evalutes to true\nWill be printed when the condition evalutes to true\nWill be printed when the condition evalutes to true\nWill be printed when the condition evalutes to true\nWill be printed when the condition evalutes to true\nWill be printed when the condition evalutes to true\nWill be printed when the condition evalutes to true\nWill be printed when the condition evalutes to true\nWill be printed when the condition evalutes to true\nWill be printed when the condition evalutes to true\nWill be printed when the condition evalutes to true\nWill be printed when the condition evalutes to true\nWill be printed when the condition evalutes to true\nWill be printed when the condition evalutes to true\nWill be printed when the condition evalutes to true\nWill be printed when the condition evalutes to true\n",
          "name": "stdout"
        },
        {
          "output_type": "stream",
          "text": "Will be printed when the condition evalutes to true\nWill be printed when the condition evalutes to true\nWill be printed when the condition evalutes to true\nWill be printed when the condition evalutes to true\nWill be printed when the condition evalutes to true\nWill be printed when the condition evalutes to true\nWill be printed when the condition evalutes to true\nWill be printed when the condition evalutes to true\nWill be printed when the condition evalutes to true\nWill be printed when the condition evalutes to true\nWill be printed when the condition evalutes to true\nWill be printed when the condition evalutes to true\nWill be printed when the condition evalutes to true\nWill be printed when the condition evalutes to true\nWill be printed when the condition evalutes to true\nWill be printed when the condition evalutes to true\nWill be printed when the condition evalutes to true\nWill be printed when the condition evalutes to true\nWill be printed when the condition evalutes to true\nWill be printed when the condition evalutes to true\nWill be printed when the condition evalutes to true\nWill be printed when the condition evalutes to true\nWill be printed when the condition evalutes to true\nWill be printed when the condition evalutes to true\nWill be printed when the condition evalutes to true\nWill be printed when the condition evalutes to true\nWill be printed when the condition evalutes to true\nWill be printed when the condition evalutes to true\nWill be printed when the condition evalutes to true\nWill be printed when the condition evalutes to true\nWill be printed when the condition evalutes to true\nWill be printed when the condition evalutes to true\nWill be printed when the condition evalutes to true\nWill be printed when the condition evalutes to true\nWill be printed when the condition evalutes to true\nWill be printed when the condition evalutes to true\nWill be printed when the condition evalutes to true\nWill be printed when the condition evalutes to true\nWill be printed when the condition evalutes to true\nWill be printed when the condition evalutes to true\nWill be printed when the condition evalutes to true\nWill be printed when the condition evalutes to true\nWill be printed when the condition evalutes to true\nWill be printed when the condition evalutes to true\nWill be printed when the condition evalutes to true\nWill be printed when the condition evalutes to true\nWill be printed when the condition evalutes to true\nWill be printed when the condition evalutes to true\nWill be printed when the condition evalutes to true\nWill be printed when the condition evalutes to true\nWill be printed when the condition evalutes to true\nWill be printed when the condition evalutes to true\nWill be printed when the condition evalutes to true\nWill be printed when the condition evalutes to true\nWill be printed when the condition evalutes to true\nWill be printed when the condition evalutes to true\nWill be printed when the condition evalutes to true\nWill be printed when the condition evalutes to true\nWill be printed when the condition evalutes to true\nWill be printed when the condition evalutes to true\nWill be printed when the condition evalutes to true\nWill be printed when the condition evalutes to true\nWill be printed when the condition evalutes to true\nWill be printed when the condition evalutes to true\nWill be printed when the condition evalutes to true\nWill be printed when the condition evalutes to true\nWill be printed when the condition evalutes to true\nWill be printed when the condition evalutes to true\nWill be printed when the condition evalutes to true\nWill be printed when the condition evalutes to true\nWill be printed when the condition evalutes to true\nWill be printed when the condition evalutes to true\nWill be printed when the condition evalutes to true\nWill be printed when the condition evalutes to true\nWill be printed when the condition evalutes to true\nWill be printed when the condition evalutes to true\nWill be printed when the condition evalutes to true\nWill be printed when the condition evalutes to true\nWill be printed when the condition evalutes to true\nWill be printed when the condition evalutes to true\nWill be printed when the condition evalutes to true\nWill be printed when the condition evalutes to true\nWill be printed when the condition evalutes to true\nWill be printed when the condition evalutes to true\nWill be printed when the condition evalutes to true\nWill be printed when the condition evalutes to true\nWill be printed when the condition evalutes to true\nWill be printed when the condition evalutes to true\nWill be printed when the condition evalutes to true\nWill be printed when the condition evalutes to true\nWill be printed when the condition evalutes to true\nWill be printed when the condition evalutes to true\nWill be printed when the condition evalutes to true\nWill be printed when the condition evalutes to true\nWill be printed when the condition evalutes to true\nWill be printed when the condition evalutes to true\nWill be printed when the condition evalutes to true\nWill be printed when the condition evalutes to true\nWill be printed when the condition evalutes to true\nWill be printed when the condition evalutes to true\nWill be printed when the condition evalutes to true\nWill be printed when the condition evalutes to true\nWill be printed when the condition evalutes to true\nWill be printed when the condition evalutes to true\nWill be printed when the condition evalutes to true\nWill be printed when the condition evalutes to true\nWill be printed when the condition evalutes to true\nWill be printed when the condition evalutes to true\nWill be printed when the condition evalutes to true\nWill be printed when the condition evalutes to true\nWill be printed when the condition evalutes to true\nWill be printed when the condition evalutes to true\nWill be printed when the condition evalutes to true\nWill be printed when the condition evalutes to true\nWill be printed when the condition evalutes to true\nWill be printed when the condition evalutes to true\nWill be printed when the condition evalutes to true\nWill be printed when the condition evalutes to true\nWill be printed when the condition evalutes to true\nWill be printed when the condition evalutes to true\nWill be printed when the condition evalutes to true\nWill be printed when the condition evalutes to true\nWill be printed when the condition evalutes to true\nWill be printed when the condition evalutes to true\nWill be printed when the condition evalutes to true\nWill be printed when the condition evalutes to true\nWill be printed when the condition evalutes to true\nWill be printed when the condition evalutes to true\nWill be printed when the condition evalutes to true\nWill be printed when the condition evalutes to true\nWill be printed when the condition evalutes to true\nWill be printed when the condition evalutes to true\nWill be printed when the condition evalutes to true\nWill be printed when the condition evalutes to true\nWill be printed when the condition evalutes to true\nWill be printed when the condition evalutes to true\nWill be printed when the condition evalutes to true\nWill be printed when the condition evalutes to true\nWill be printed when the condition evalutes to true\nWill be printed when the condition evalutes to true\nWill be printed when the condition evalutes to true\nWill be printed when the condition evalutes to true\nWill be printed when the condition evalutes to true\nWill be printed when the condition evalutes to true\nWill be printed when the condition evalutes to true\nWill be printed when the condition evalutes to true\nWill be printed when the condition evalutes to true\nWill be printed when the condition evalutes to true\nWill be printed when the condition evalutes to true\nWill be printed when the condition evalutes to true\nWill be printed when the condition evalutes to true\nWill be printed when the condition evalutes to true\nWill be printed when the condition evalutes to true\nWill be printed when the condition evalutes to true\nWill be printed when the condition evalutes to true\nWill be printed when the condition evalutes to true\nWill be printed when the condition evalutes to true\nWill be printed when the condition evalutes to true\nWill be printed when the condition evalutes to true\nWill be printed when the condition evalutes to true\nWill be printed when the condition evalutes to true\nWill be printed when the condition evalutes to true\nWill be printed when the condition evalutes to true\nWill be printed when the condition evalutes to true\nWill be printed when the condition evalutes to true\nWill be printed when the condition evalutes to true\nWill be printed when the condition evalutes to true\nWill be printed when the condition evalutes to true\nWill be printed when the condition evalutes to true\nWill be printed when the condition evalutes to true\nWill be printed when the condition evalutes to true\nWill be printed when the condition evalutes to true\nWill be printed when the condition evalutes to true\nWill be printed when the condition evalutes to true\nWill be printed when the condition evalutes to true\nWill be printed when the condition evalutes to true\nWill be printed when the condition evalutes to true\nWill be printed when the condition evalutes to true\nWill be printed when the condition evalutes to true\nWill be printed when the condition evalutes to true\nWill be printed when the condition evalutes to true\nWill be printed when the condition evalutes to true\nWill be printed when the condition evalutes to true\nWill be printed when the condition evalutes to true\nWill be printed when the condition evalutes to true\nWill be printed when the condition evalutes to true\nWill be printed when the condition evalutes to true\nWill be printed when the condition evalutes to true\nWill be printed when the condition evalutes to true\nWill be printed when the condition evalutes to true\nWill be printed when the condition evalutes to true\nWill be printed when the condition evalutes to true\nWill be printed when the condition evalutes to true\nWill be printed when the condition evalutes to true\nWill be printed when the condition evalutes to true\nWill be printed when the condition evalutes to true\nWill be printed when the condition evalutes to true\nWill be printed when the condition evalutes to true\nWill be printed when the condition evalutes to true\nWill be printed when the condition evalutes to true\nWill be printed when the condition evalutes to true\nWill be printed when the condition evalutes to true\nWill be printed when the condition evalutes to true\nWill be printed when the condition evalutes to true\nWill be printed when the condition evalutes to true\nWill be printed when the condition evalutes to true\nWill be printed when the condition evalutes to true\nWill be printed when the condition evalutes to true\nWill be printed when the condition evalutes to true\nWill be printed when the condition evalutes to true\nWill be printed when the condition evalutes to true\nWill be printed when the condition evalutes to true\nWill be printed when the condition evalutes to true\nWill be printed when the condition evalutes to true\nWill be printed when the condition evalutes to true\nWill be printed when the condition evalutes to true\nWill be printed when the condition evalutes to true\n",
          "name": "stdout"
        },
        {
          "output_type": "stream",
          "text": "Will be printed when the condition evalutes to true\nWill be printed when the condition evalutes to true\nWill be printed when the condition evalutes to true\nWill be printed when the condition evalutes to true\nWill be printed when the condition evalutes to true\nWill be printed when the condition evalutes to true\nWill be printed when the condition evalutes to true\nWill be printed when the condition evalutes to true\nWill be printed when the condition evalutes to true\nWill be printed when the condition evalutes to true\nWill be printed when the condition evalutes to true\nWill be printed when the condition evalutes to true\nWill be printed when the condition evalutes to true\nWill be printed when the condition evalutes to true\nWill be printed when the condition evalutes to true\nWill be printed when the condition evalutes to true\nWill be printed when the condition evalutes to true\nWill be printed when the condition evalutes to true\nWill be printed when the condition evalutes to true\nWill be printed when the condition evalutes to true\nWill be printed when the condition evalutes to true\nWill be printed when the condition evalutes to true\nWill be printed when the condition evalutes to true\nWill be printed when the condition evalutes to true\nWill be printed when the condition evalutes to true\nWill be printed when the condition evalutes to true\nWill be printed when the condition evalutes to true\nWill be printed when the condition evalutes to true\nWill be printed when the condition evalutes to true\nWill be printed when the condition evalutes to true\nWill be printed when the condition evalutes to true\nWill be printed when the condition evalutes to true\nWill be printed when the condition evalutes to true\nWill be printed when the condition evalutes to true\nWill be printed when the condition evalutes to true\nWill be printed when the condition evalutes to true\nWill be printed when the condition evalutes to true\nWill be printed when the condition evalutes to true\nWill be printed when the condition evalutes to true\nWill be printed when the condition evalutes to true\nWill be printed when the condition evalutes to true\nWill be printed when the condition evalutes to true\nWill be printed when the condition evalutes to true\nWill be printed when the condition evalutes to true\nWill be printed when the condition evalutes to true\nWill be printed when the condition evalutes to true\nWill be printed when the condition evalutes to true\nWill be printed when the condition evalutes to true\nWill be printed when the condition evalutes to true\nWill be printed when the condition evalutes to true\nWill be printed when the condition evalutes to true\nWill be printed when the condition evalutes to true\nWill be printed when the condition evalutes to true\nWill be printed when the condition evalutes to true\nWill be printed when the condition evalutes to true\nWill be printed when the condition evalutes to true\nWill be printed when the condition evalutes to true\nWill be printed when the condition evalutes to true\nWill be printed when the condition evalutes to true\nWill be printed when the condition evalutes to true\nWill be printed when the condition evalutes to true\nWill be printed when the condition evalutes to true\nWill be printed when the condition evalutes to true\nWill be printed when the condition evalutes to true\nWill be printed when the condition evalutes to true\nWill be printed when the condition evalutes to true\nWill be printed when the condition evalutes to true\nWill be printed when the condition evalutes to true\nWill be printed when the condition evalutes to true\nWill be printed when the condition evalutes to true\nWill be printed when the condition evalutes to true\nWill be printed when the condition evalutes to true\nWill be printed when the condition evalutes to true\nWill be printed when the condition evalutes to true\nWill be printed when the condition evalutes to true\nWill be printed when the condition evalutes to true\nWill be printed when the condition evalutes to true\nWill be printed when the condition evalutes to true\nWill be printed when the condition evalutes to true\nWill be printed when the condition evalutes to true\nWill be printed when the condition evalutes to true\nWill be printed when the condition evalutes to true\nWill be printed when the condition evalutes to true\nWill be printed when the condition evalutes to true\nWill be printed when the condition evalutes to true\nWill be printed when the condition evalutes to true\nWill be printed when the condition evalutes to true\nWill be printed when the condition evalutes to true\nWill be printed when the condition evalutes to true\nWill be printed when the condition evalutes to true\nWill be printed when the condition evalutes to true\nWill be printed when the condition evalutes to true\nWill be printed when the condition evalutes to true\nWill be printed when the condition evalutes to true\nWill be printed when the condition evalutes to true\nWill be printed when the condition evalutes to true\nWill be printed when the condition evalutes to true\nWill be printed when the condition evalutes to true\nWill be printed when the condition evalutes to true\nWill be printed when the condition evalutes to true\nWill be printed when the condition evalutes to true\nWill be printed when the condition evalutes to true\nWill be printed when the condition evalutes to true\nWill be printed when the condition evalutes to true\nWill be printed when the condition evalutes to true\nWill be printed when the condition evalutes to true\nWill be printed when the condition evalutes to true\nWill be printed when the condition evalutes to true\nWill be printed when the condition evalutes to true\nWill be printed when the condition evalutes to true\nWill be printed when the condition evalutes to true\nWill be printed when the condition evalutes to true\nWill be printed when the condition evalutes to true\nWill be printed when the condition evalutes to true\nWill be printed when the condition evalutes to true\nWill be printed when the condition evalutes to true\nWill be printed when the condition evalutes to true\nWill be printed when the condition evalutes to true\nWill be printed when the condition evalutes to true\nWill be printed when the condition evalutes to true\nWill be printed when the condition evalutes to true\nWill be printed when the condition evalutes to true\nWill be printed when the condition evalutes to true\nWill be printed when the condition evalutes to true\nWill be printed when the condition evalutes to true\nWill be printed when the condition evalutes to true\nWill be printed when the condition evalutes to true\nWill be printed when the condition evalutes to true\nWill be printed when the condition evalutes to true\nWill be printed when the condition evalutes to true\nWill be printed when the condition evalutes to true\nWill be printed when the condition evalutes to true\nWill be printed when the condition evalutes to true\nWill be printed when the condition evalutes to true\nWill be printed when the condition evalutes to true\nWill be printed when the condition evalutes to true\nWill be printed when the condition evalutes to true\nWill be printed when the condition evalutes to true\nWill be printed when the condition evalutes to true\nWill be printed when the condition evalutes to true\nWill be printed when the condition evalutes to true\nWill be printed when the condition evalutes to true\nWill be printed when the condition evalutes to true\nWill be printed when the condition evalutes to true\nWill be printed when the condition evalutes to true\nWill be printed when the condition evalutes to true\nWill be printed when the condition evalutes to true\nWill be printed when the condition evalutes to true\nWill be printed when the condition evalutes to true\nWill be printed when the condition evalutes to true\nWill be printed when the condition evalutes to true\nWill be printed when the condition evalutes to true\nWill be printed when the condition evalutes to true\nWill be printed when the condition evalutes to true\nWill be printed when the condition evalutes to true\nWill be printed when the condition evalutes to true\nWill be printed when the condition evalutes to true\nWill be printed when the condition evalutes to true\nWill be printed when the condition evalutes to true\nWill be printed when the condition evalutes to true\nWill be printed when the condition evalutes to true\nWill be printed when the condition evalutes to true\nWill be printed when the condition evalutes to true\nWill be printed when the condition evalutes to true\nWill be printed when the condition evalutes to true\nWill be printed when the condition evalutes to true\nWill be printed when the condition evalutes to true\nWill be printed when the condition evalutes to true\nWill be printed when the condition evalutes to true\nWill be printed when the condition evalutes to true\nWill be printed when the condition evalutes to true\nWill be printed when the condition evalutes to true\nWill be printed when the condition evalutes to true\nWill be printed when the condition evalutes to true\nWill be printed when the condition evalutes to true\nWill be printed when the condition evalutes to true\nWill be printed when the condition evalutes to true\nWill be printed when the condition evalutes to true\nWill be printed when the condition evalutes to true\nWill be printed when the condition evalutes to true\nWill be printed when the condition evalutes to true\nWill be printed when the condition evalutes to true\nWill be printed when the condition evalutes to true\nWill be printed when the condition evalutes to true\nWill be printed when the condition evalutes to true\nWill be printed when the condition evalutes to true\nWill be printed when the condition evalutes to true\nWill be printed when the condition evalutes to true\nWill be printed when the condition evalutes to true\nWill be printed when the condition evalutes to true\nWill be printed when the condition evalutes to true\nWill be printed when the condition evalutes to true\nWill be printed when the condition evalutes to true\nWill be printed when the condition evalutes to true\nWill be printed when the condition evalutes to true\nWill be printed when the condition evalutes to true\nWill be printed when the condition evalutes to true\nWill be printed when the condition evalutes to true\nWill be printed when the condition evalutes to true\nWill be printed when the condition evalutes to true\nWill be printed when the condition evalutes to true\nWill be printed when the condition evalutes to true\nWill be printed when the condition evalutes to true\nWill be printed when the condition evalutes to true\nWill be printed when the condition evalutes to true\nWill be printed when the condition evalutes to true\nWill be printed when the condition evalutes to true\nWill be printed when the condition evalutes to true\nWill be printed when the condition evalutes to true\nWill be printed when the condition evalutes to true\nWill be printed when the condition evalutes to true\nWill be printed when the condition evalutes to true\nWill be printed when the condition evalutes to true\nWill be printed when the condition evalutes to true\nWill be printed when the condition evalutes to true\nWill be printed when the condition evalutes to true\nWill be printed when the condition evalutes to true\nWill be printed when the condition evalutes to true\nWill be printed when the condition evalutes to true\nWill be printed when the condition evalutes to true\nWill be printed when the condition evalutes to true\nWill be printed when the condition evalutes to true\nWill be printed when the condition evalutes to true\nWill be printed when the condition evalutes to true\nWill be printed when the condition evalutes to true\nWill be printed when the condition evalutes to true\nWill be printed when the condition evalutes to true\nWill be printed when the condition evalutes to true\nWill be printed when the condition evalutes to true\nWill be printed when the condition evalutes to true\nWill be printed when the condition evalutes to true\nWill be printed when the condition evalutes to true\nWill be printed when the condition evalutes to true\nWill be printed when the condition evalutes to true\nWill be printed when the condition evalutes to true\nWill be printed when the condition evalutes to true\nWill be printed when the condition evalutes to true\nWill be printed when the condition evalutes to true\nWill be printed when the condition evalutes to true\nWill be printed when the condition evalutes to true\nWill be printed when the condition evalutes to true\nWill be printed when the condition evalutes to true\nWill be printed when the condition evalutes to true\nWill be printed when the condition evalutes to true\nWill be printed when the condition evalutes to true\nWill be printed when the condition evalutes to true\nWill be printed when the condition evalutes to true\nWill be printed when the condition evalutes to true\nWill be printed when the condition evalutes to true\nWill be printed when the condition evalutes to true\nWill be printed when the condition evalutes to true\nWill be printed when the condition evalutes to true\nWill be printed when the condition evalutes to true\nWill be printed when the condition evalutes to true\nWill be printed when the condition evalutes to true\nWill be printed when the condition evalutes to true\nWill be printed when the condition evalutes to true\nWill be printed when the condition evalutes to true\nWill be printed when the condition evalutes to true\nWill be printed when the condition evalutes to true\nWill be printed when the condition evalutes to true\nWill be printed when the condition evalutes to true\nWill be printed when the condition evalutes to true\nWill be printed when the condition evalutes to true\nWill be printed when the condition evalutes to true\nWill be printed when the condition evalutes to true\nWill be printed when the condition evalutes to true\nWill be printed when the condition evalutes to true\nWill be printed when the condition evalutes to true\nWill be printed when the condition evalutes to true\nWill be printed when the condition evalutes to true\nWill be printed when the condition evalutes to true\nWill be printed when the condition evalutes to true\nWill be printed when the condition evalutes to true\nWill be printed when the condition evalutes to true\nWill be printed when the condition evalutes to true\nWill be printed when the condition evalutes to true\nWill be printed when the condition evalutes to true\nWill be printed when the condition evalutes to true\nWill be printed when the condition evalutes to true\nWill be printed when the condition evalutes to true\nWill be printed when the condition evalutes to true\nWill be printed when the condition evalutes to true\nWill be printed when the condition evalutes to true\nWill be printed when the condition evalutes to true\nWill be printed when the condition evalutes to true\nWill be printed when the condition evalutes to true\nWill be printed when the condition evalutes to true\nWill be printed when the condition evalutes to true\nWill be printed when the condition evalutes to true\nWill be printed when the condition evalutes to true\nWill be printed when the condition evalutes to true\nWill be printed when the condition evalutes to true\nWill be printed when the condition evalutes to true\nWill be printed when the condition evalutes to true\nWill be printed when the condition evalutes to true\nWill be printed when the condition evalutes to true\nWill be printed when the condition evalutes to true\nWill be printed when the condition evalutes to true\nWill be printed when the condition evalutes to true\nWill be printed when the condition evalutes to true\nWill be printed when the condition evalutes to true\nWill be printed when the condition evalutes to true\nWill be printed when the condition evalutes to true\nWill be printed when the condition evalutes to true\nWill be printed when the condition evalutes to true\nWill be printed when the condition evalutes to true\nWill be printed when the condition evalutes to true\nWill be printed when the condition evalutes to true\nWill be printed when the condition evalutes to true\nWill be printed when the condition evalutes to true\nWill be printed when the condition evalutes to true\nWill be printed when the condition evalutes to true\nWill be printed when the condition evalutes to true\nWill be printed when the condition evalutes to true\nWill be printed when the condition evalutes to true\nWill be printed when the condition evalutes to true\nWill be printed when the condition evalutes to true\nWill be printed when the condition evalutes to true\nWill be printed when the condition evalutes to true\nWill be printed when the condition evalutes to true\nWill be printed when the condition evalutes to true\nWill be printed when the condition evalutes to true\nWill be printed when the condition evalutes to true\nWill be printed when the condition evalutes to true\nWill be printed when the condition evalutes to true\nWill be printed when the condition evalutes to true\nWill be printed when the condition evalutes to true\nWill be printed when the condition evalutes to true\nWill be printed when the condition evalutes to true\nWill be printed when the condition evalutes to true\nWill be printed when the condition evalutes to true\nWill be printed when the condition evalutes to true\nWill be printed when the condition evalutes to true\nWill be printed when the condition evalutes to true\nWill be printed when the condition evalutes to true\nWill be printed when the condition evalutes to true\nWill be printed when the condition evalutes to true\nWill be printed when the condition evalutes to true\nWill be printed when the condition evalutes to true\nWill be printed when the condition evalutes to true\nWill be printed when the condition evalutes to true\nWill be printed when the condition evalutes to true\nWill be printed when the condition evalutes to true\nWill be printed when the condition evalutes to true\nWill be printed when the condition evalutes to true\nWill be printed when the condition evalutes to true\nWill be printed when the condition evalutes to true\nWill be printed when the condition evalutes to true\nWill be printed when the condition evalutes to true\nWill be printed when the condition evalutes to true\nWill be printed when the condition evalutes to true\nWill be printed when the condition evalutes to true\nWill be printed when the condition evalutes to true\nWill be printed when the condition evalutes to true\nWill be printed when the condition evalutes to true\nWill be printed when the condition evalutes to true\nWill be printed when the condition evalutes to true\nWill be printed when the condition evalutes to true\nWill be printed when the condition evalutes to true\nWill be printed when the condition evalutes to true\nWill be printed when the condition evalutes to true\nWill be printed when the condition evalutes to true\nWill be printed when the condition evalutes to true\nWill be printed when the condition evalutes to true\nWill be printed when the condition evalutes to true\nWill be printed when the condition evalutes to true\nWill be printed when the condition evalutes to true\nWill be printed when the condition evalutes to true\nWill be printed when the condition evalutes to true\nWill be printed when the condition evalutes to true\nWill be printed when the condition evalutes to true\nWill be printed when the condition evalutes to true\nWill be printed when the condition evalutes to true\nWill be printed when the condition evalutes to true\nWill be printed when the condition evalutes to true\nWill be printed when the condition evalutes to true\nWill be printed when the condition evalutes to true\nWill be printed when the condition evalutes to true\nWill be printed when the condition evalutes to true\nWill be printed when the condition evalutes to true\nWill be printed when the condition evalutes to true\nWill be printed when the condition evalutes to true\nWill be printed when the condition evalutes to true\nWill be printed when the condition evalutes to true\nWill be printed when the condition evalutes to true\nWill be printed when the condition evalutes to true\nWill be printed when the condition evalutes to true\nWill be printed when the condition evalutes to true\nWill be printed when the condition evalutes to true\nWill be printed when the condition evalutes to true\nWill be printed when the condition evalutes to true\nWill be printed when the condition evalutes to true\nWill be printed when the condition evalutes to true\nWill be printed when the condition evalutes to true\nWill be printed when the condition evalutes to true\nWill be printed when the condition evalutes to true\nWill be printed when the condition evalutes to true\nWill be printed when the condition evalutes to true\nWill be printed when the condition evalutes to true\nWill be printed when the condition evalutes to true\nWill be printed when the condition evalutes to true\nWill be printed when the condition evalutes to true\nWill be printed when the condition evalutes to true\nWill be printed when the condition evalutes to true\nWill be printed when the condition evalutes to true\nWill be printed when the condition evalutes to true\nWill be printed when the condition evalutes to true\nWill be printed when the condition evalutes to true\nWill be printed when the condition evalutes to true\nWill be printed when the condition evalutes to true\nWill be printed when the condition evalutes to true\nWill be printed when the condition evalutes to true\nWill be printed when the condition evalutes to true\n",
          "name": "stdout"
        },
        {
          "output_type": "stream",
          "text": "Will be printed when the condition evalutes to true\nWill be printed when the condition evalutes to true\nWill be printed when the condition evalutes to true\nWill be printed when the condition evalutes to true\nWill be printed when the condition evalutes to true\nWill be printed when the condition evalutes to true\nWill be printed when the condition evalutes to true\nWill be printed when the condition evalutes to true\nWill be printed when the condition evalutes to true\nWill be printed when the condition evalutes to true\nWill be printed when the condition evalutes to true\nWill be printed when the condition evalutes to true\nWill be printed when the condition evalutes to true\nWill be printed when the condition evalutes to true\nWill be printed when the condition evalutes to true\nWill be printed when the condition evalutes to true\nWill be printed when the condition evalutes to true\nWill be printed when the condition evalutes to true\nWill be printed when the condition evalutes to true\nWill be printed when the condition evalutes to true\nWill be printed when the condition evalutes to true\nWill be printed when the condition evalutes to true\nWill be printed when the condition evalutes to true\nWill be printed when the condition evalutes to true\nWill be printed when the condition evalutes to true\nWill be printed when the condition evalutes to true\nWill be printed when the condition evalutes to true\nWill be printed when the condition evalutes to true\nWill be printed when the condition evalutes to true\nWill be printed when the condition evalutes to true\nWill be printed when the condition evalutes to true\nWill be printed when the condition evalutes to true\nWill be printed when the condition evalutes to true\nWill be printed when the condition evalutes to true\nWill be printed when the condition evalutes to true\nWill be printed when the condition evalutes to true\nWill be printed when the condition evalutes to true\nWill be printed when the condition evalutes to true\nWill be printed when the condition evalutes to true\nWill be printed when the condition evalutes to true\nWill be printed when the condition evalutes to true\nWill be printed when the condition evalutes to true\nWill be printed when the condition evalutes to true\nWill be printed when the condition evalutes to true\nWill be printed when the condition evalutes to true\nWill be printed when the condition evalutes to true\nWill be printed when the condition evalutes to true\nWill be printed when the condition evalutes to true\nWill be printed when the condition evalutes to true\nWill be printed when the condition evalutes to true\nWill be printed when the condition evalutes to true\nWill be printed when the condition evalutes to true\nWill be printed when the condition evalutes to true\nWill be printed when the condition evalutes to true\nWill be printed when the condition evalutes to true\nWill be printed when the condition evalutes to true\nWill be printed when the condition evalutes to true\nWill be printed when the condition evalutes to true\nWill be printed when the condition evalutes to true\nWill be printed when the condition evalutes to true\nWill be printed when the condition evalutes to true\nWill be printed when the condition evalutes to true\nWill be printed when the condition evalutes to true\nWill be printed when the condition evalutes to true\nWill be printed when the condition evalutes to true\nWill be printed when the condition evalutes to true\nWill be printed when the condition evalutes to true\nWill be printed when the condition evalutes to true\nWill be printed when the condition evalutes to true\nWill be printed when the condition evalutes to true\nWill be printed when the condition evalutes to true\nWill be printed when the condition evalutes to true\nWill be printed when the condition evalutes to true\nWill be printed when the condition evalutes to true\nWill be printed when the condition evalutes to true\nWill be printed when the condition evalutes to true\nWill be printed when the condition evalutes to true\nWill be printed when the condition evalutes to true\nWill be printed when the condition evalutes to true\nWill be printed when the condition evalutes to true\nWill be printed when the condition evalutes to true\nWill be printed when the condition evalutes to true\nWill be printed when the condition evalutes to true\nWill be printed when the condition evalutes to true\nWill be printed when the condition evalutes to true\nWill be printed when the condition evalutes to true\nWill be printed when the condition evalutes to true\nWill be printed when the condition evalutes to true\nWill be printed when the condition evalutes to true\nWill be printed when the condition evalutes to true\nWill be printed when the condition evalutes to true\nWill be printed when the condition evalutes to true\nWill be printed when the condition evalutes to true\nWill be printed when the condition evalutes to true\nWill be printed when the condition evalutes to true\nWill be printed when the condition evalutes to true\nWill be printed when the condition evalutes to true\nWill be printed when the condition evalutes to true\nWill be printed when the condition evalutes to true\nWill be printed when the condition evalutes to true\nWill be printed when the condition evalutes to true\nWill be printed when the condition evalutes to true\nWill be printed when the condition evalutes to true\nWill be printed when the condition evalutes to true\nWill be printed when the condition evalutes to true\nWill be printed when the condition evalutes to true\nWill be printed when the condition evalutes to true\nWill be printed when the condition evalutes to true\nWill be printed when the condition evalutes to true\nWill be printed when the condition evalutes to true\nWill be printed when the condition evalutes to true\nWill be printed when the condition evalutes to true\nWill be printed when the condition evalutes to true\nWill be printed when the condition evalutes to true\nWill be printed when the condition evalutes to true\nWill be printed when the condition evalutes to true\nWill be printed when the condition evalutes to true\nWill be printed when the condition evalutes to true\nWill be printed when the condition evalutes to true\nWill be printed when the condition evalutes to true\nWill be printed when the condition evalutes to true\nWill be printed when the condition evalutes to true\nWill be printed when the condition evalutes to true\nWill be printed when the condition evalutes to true\nWill be printed when the condition evalutes to true\nWill be printed when the condition evalutes to true\nWill be printed when the condition evalutes to true\nWill be printed when the condition evalutes to true\nWill be printed when the condition evalutes to true\nWill be printed when the condition evalutes to true\nWill be printed when the condition evalutes to true\nWill be printed when the condition evalutes to true\nWill be printed when the condition evalutes to true\nWill be printed when the condition evalutes to true\nWill be printed when the condition evalutes to true\nWill be printed when the condition evalutes to true\nWill be printed when the condition evalutes to true\nWill be printed when the condition evalutes to true\nWill be printed when the condition evalutes to true\nWill be printed when the condition evalutes to true\nWill be printed when the condition evalutes to true\nWill be printed when the condition evalutes to true\nWill be printed when the condition evalutes to true\nWill be printed when the condition evalutes to true\nWill be printed when the condition evalutes to true\nWill be printed when the condition evalutes to true\nWill be printed when the condition evalutes to true\nWill be printed when the condition evalutes to true\nWill be printed when the condition evalutes to true\nWill be printed when the condition evalutes to true\nWill be printed when the condition evalutes to true\nWill be printed when the condition evalutes to true\nWill be printed when the condition evalutes to true\nWill be printed when the condition evalutes to true\nWill be printed when the condition evalutes to true\nWill be printed when the condition evalutes to true\nWill be printed when the condition evalutes to true\nWill be printed when the condition evalutes to true\nWill be printed when the condition evalutes to true\nWill be printed when the condition evalutes to true\nWill be printed when the condition evalutes to true\nWill be printed when the condition evalutes to true\nWill be printed when the condition evalutes to true\nWill be printed when the condition evalutes to true\nWill be printed when the condition evalutes to true\nWill be printed when the condition evalutes to true\nWill be printed when the condition evalutes to true\nWill be printed when the condition evalutes to true\nWill be printed when the condition evalutes to true\nWill be printed when the condition evalutes to true\nWill be printed when the condition evalutes to true\nWill be printed when the condition evalutes to true\nWill be printed when the condition evalutes to true\nWill be printed when the condition evalutes to true\nWill be printed when the condition evalutes to true\nWill be printed when the condition evalutes to true\nWill be printed when the condition evalutes to true\nWill be printed when the condition evalutes to true\nWill be printed when the condition evalutes to true\nWill be printed when the condition evalutes to true\nWill be printed when the condition evalutes to true\nWill be printed when the condition evalutes to true\nWill be printed when the condition evalutes to true\nWill be printed when the condition evalutes to true\nWill be printed when the condition evalutes to true\nWill be printed when the condition evalutes to true\nWill be printed when the condition evalutes to true\nWill be printed when the condition evalutes to true\nWill be printed when the condition evalutes to true\nWill be printed when the condition evalutes to true\nWill be printed when the condition evalutes to true\nWill be printed when the condition evalutes to true\nWill be printed when the condition evalutes to true\nWill be printed when the condition evalutes to true\nWill be printed when the condition evalutes to true\nWill be printed when the condition evalutes to true\nWill be printed when the condition evalutes to true\nWill be printed when the condition evalutes to true\nWill be printed when the condition evalutes to true\nWill be printed when the condition evalutes to true\nWill be printed when the condition evalutes to true\nWill be printed when the condition evalutes to true\nWill be printed when the condition evalutes to true\nWill be printed when the condition evalutes to true\nWill be printed when the condition evalutes to true\nWill be printed when the condition evalutes to true\nWill be printed when the condition evalutes to true\nWill be printed when the condition evalutes to true\nWill be printed when the condition evalutes to true\nWill be printed when the condition evalutes to true\nWill be printed when the condition evalutes to true\nWill be printed when the condition evalutes to true\nWill be printed when the condition evalutes to true\nWill be printed when the condition evalutes to true\nWill be printed when the condition evalutes to true\nWill be printed when the condition evalutes to true\nWill be printed when the condition evalutes to true\nWill be printed when the condition evalutes to true\nWill be printed when the condition evalutes to true\nWill be printed when the condition evalutes to true\nWill be printed when the condition evalutes to true\nWill be printed when the condition evalutes to true\nWill be printed when the condition evalutes to true\nWill be printed when the condition evalutes to true\nWill be printed when the condition evalutes to true\nWill be printed when the condition evalutes to true\nWill be printed when the condition evalutes to true\nWill be printed when the condition evalutes to true\nWill be printed when the condition evalutes to true\nWill be printed when the condition evalutes to true\nWill be printed when the condition evalutes to true\nWill be printed when the condition evalutes to true\nWill be printed when the condition evalutes to true\nWill be printed when the condition evalutes to true\nWill be printed when the condition evalutes to true\nWill be printed when the condition evalutes to true\nWill be printed when the condition evalutes to true\nWill be printed when the condition evalutes to true\nWill be printed when the condition evalutes to true\nWill be printed when the condition evalutes to true\nWill be printed when the condition evalutes to true\nWill be printed when the condition evalutes to true\nWill be printed when the condition evalutes to true\nWill be printed when the condition evalutes to true\nWill be printed when the condition evalutes to true\nWill be printed when the condition evalutes to true\nWill be printed when the condition evalutes to true\nWill be printed when the condition evalutes to true\nWill be printed when the condition evalutes to true\nWill be printed when the condition evalutes to true\nWill be printed when the condition evalutes to true\nWill be printed when the condition evalutes to true\nWill be printed when the condition evalutes to true\nWill be printed when the condition evalutes to true\nWill be printed when the condition evalutes to true\nWill be printed when the condition evalutes to true\nWill be printed when the condition evalutes to true\nWill be printed when the condition evalutes to true\nWill be printed when the condition evalutes to true\nWill be printed when the condition evalutes to true\nWill be printed when the condition evalutes to true\nWill be printed when the condition evalutes to true\nWill be printed when the condition evalutes to true\nWill be printed when the condition evalutes to true\nWill be printed when the condition evalutes to true\nWill be printed when the condition evalutes to true\nWill be printed when the condition evalutes to true\nWill be printed when the condition evalutes to true\nWill be printed when the condition evalutes to true\nWill be printed when the condition evalutes to true\nWill be printed when the condition evalutes to true\nWill be printed when the condition evalutes to true\nWill be printed when the condition evalutes to true\nWill be printed when the condition evalutes to true\nWill be printed when the condition evalutes to true\nWill be printed when the condition evalutes to true\nWill be printed when the condition evalutes to true\nWill be printed when the condition evalutes to true\nWill be printed when the condition evalutes to true\nWill be printed when the condition evalutes to true\nWill be printed when the condition evalutes to true\nWill be printed when the condition evalutes to true\nWill be printed when the condition evalutes to true\nWill be printed when the condition evalutes to true\nWill be printed when the condition evalutes to true\nWill be printed when the condition evalutes to true\nWill be printed when the condition evalutes to true\nWill be printed when the condition evalutes to true\nWill be printed when the condition evalutes to true\nWill be printed when the condition evalutes to true\nWill be printed when the condition evalutes to true\nWill be printed when the condition evalutes to true\nWill be printed when the condition evalutes to true\nWill be printed when the condition evalutes to true\nWill be printed when the condition evalutes to true\nWill be printed when the condition evalutes to true\nWill be printed when the condition evalutes to true\nWill be printed when the condition evalutes to true\nWill be printed when the condition evalutes to true\nWill be printed when the condition evalutes to true\nWill be printed when the condition evalutes to true\nWill be printed when the condition evalutes to true\nWill be printed when the condition evalutes to true\nWill be printed when the condition evalutes to true\nWill be printed when the condition evalutes to true\nWill be printed when the condition evalutes to true\nWill be printed when the condition evalutes to true\nWill be printed when the condition evalutes to true\nWill be printed when the condition evalutes to true\nWill be printed when the condition evalutes to true\nWill be printed when the condition evalutes to true\nWill be printed when the condition evalutes to true\nWill be printed when the condition evalutes to true\nWill be printed when the condition evalutes to true\nWill be printed when the condition evalutes to true\nWill be printed when the condition evalutes to true\nWill be printed when the condition evalutes to true\nWill be printed when the condition evalutes to true\nWill be printed when the condition evalutes to true\nWill be printed when the condition evalutes to true\nWill be printed when the condition evalutes to true\nWill be printed when the condition evalutes to true\nWill be printed when the condition evalutes to true\nWill be printed when the condition evalutes to true\nWill be printed when the condition evalutes to true\nWill be printed when the condition evalutes to true\nWill be printed when the condition evalutes to true\nWill be printed when the condition evalutes to true\nWill be printed when the condition evalutes to true\nWill be printed when the condition evalutes to true\nWill be printed when the condition evalutes to true\nWill be printed when the condition evalutes to true\nWill be printed when the condition evalutes to true\nWill be printed when the condition evalutes to true\nWill be printed when the condition evalutes to true\nWill be printed when the condition evalutes to true\nWill be printed when the condition evalutes to true\nWill be printed when the condition evalutes to true\nWill be printed when the condition evalutes to true\nWill be printed when the condition evalutes to true\nWill be printed when the condition evalutes to true\nWill be printed when the condition evalutes to true\nWill be printed when the condition evalutes to true\nWill be printed when the condition evalutes to true\nWill be printed when the condition evalutes to true\nWill be printed when the condition evalutes to true\nWill be printed when the condition evalutes to true\nWill be printed when the condition evalutes to true\nWill be printed when the condition evalutes to true\nWill be printed when the condition evalutes to true\nWill be printed when the condition evalutes to true\nWill be printed when the condition evalutes to true\nWill be printed when the condition evalutes to true\nWill be printed when the condition evalutes to true\nWill be printed when the condition evalutes to true\nWill be printed when the condition evalutes to true\nWill be printed when the condition evalutes to true\nWill be printed when the condition evalutes to true\nWill be printed when the condition evalutes to true\nWill be printed when the condition evalutes to true\nWill be printed when the condition evalutes to true\nWill be printed when the condition evalutes to true\nWill be printed when the condition evalutes to true\nWill be printed when the condition evalutes to true\nWill be printed when the condition evalutes to true\nWill be printed when the condition evalutes to true\nWill be printed when the condition evalutes to true\nWill be printed when the condition evalutes to true\nWill be printed when the condition evalutes to true\nWill be printed when the condition evalutes to true\nWill be printed when the condition evalutes to true\nWill be printed when the condition evalutes to true\nWill be printed when the condition evalutes to true\nWill be printed when the condition evalutes to true\nWill be printed when the condition evalutes to true\nWill be printed when the condition evalutes to true\nWill be printed when the condition evalutes to true\nWill be printed when the condition evalutes to true\nWill be printed when the condition evalutes to true\nWill be printed when the condition evalutes to true\nWill be printed when the condition evalutes to true\nWill be printed when the condition evalutes to true\nWill be printed when the condition evalutes to true\nWill be printed when the condition evalutes to true\nWill be printed when the condition evalutes to true\nWill be printed when the condition evalutes to true\nWill be printed when the condition evalutes to true\nWill be printed when the condition evalutes to true\nWill be printed when the condition evalutes to true\nWill be printed when the condition evalutes to true\nWill be printed when the condition evalutes to true\nWill be printed when the condition evalutes to true\nWill be printed when the condition evalutes to true\nWill be printed when the condition evalutes to true\nWill be printed when the condition evalutes to true\nWill be printed when the condition evalutes to true\nWill be printed when the condition evalutes to true\nWill be printed when the condition evalutes to true\nWill be printed when the condition evalutes to true\nWill be printed when the condition evalutes to true\nWill be printed when the condition evalutes to true\nWill be printed when the condition evalutes to true\nWill be printed when the condition evalutes to true\nWill be printed when the condition evalutes to true\nWill be printed when the condition evalutes to true\nWill be printed when the condition evalutes to true\nWill be printed when the condition evalutes to true\nWill be printed when the condition evalutes to true\nWill be printed when the condition evalutes to true\nWill be printed when the condition evalutes to true\nWill be printed when the condition evalutes to true\nWill be printed when the condition evalutes to true\nWill be printed when the condition evalutes to true\nWill be printed when the condition evalutes to true\nWill be printed when the condition evalutes to true\nWill be printed when the condition evalutes to true\nWill be printed when the condition evalutes to true\nWill be printed when the condition evalutes to true\nWill be printed when the condition evalutes to true\nWill be printed when the condition evalutes to true\nWill be printed when the condition evalutes to true\nWill be printed when the condition evalutes to true\nWill be printed when the condition evalutes to true\nWill be printed when the condition evalutes to true\nWill be printed when the condition evalutes to true\nWill be printed when the condition evalutes to true\nWill be printed when the condition evalutes to true\nWill be printed when the condition evalutes to true\nWill be printed when the condition evalutes to true\nWill be printed when the condition evalutes to true\nWill be printed when the condition evalutes to true\nWill be printed when the condition evalutes to true\nWill be printed when the condition evalutes to true\nWill be printed when the condition evalutes to true\nWill be printed when the condition evalutes to true\nWill be printed when the condition evalutes to true\nWill be printed when the condition evalutes to true\nWill be printed when the condition evalutes to true\nWill be printed when the condition evalutes to true\nWill be printed when the condition evalutes to true\nWill be printed when the condition evalutes to true\nWill be printed when the condition evalutes to true\nWill be printed when the condition evalutes to true\nWill be printed when the condition evalutes to true\nWill be printed when the condition evalutes to true\nWill be printed when the condition evalutes to true\nWill be printed when the condition evalutes to true\nWill be printed when the condition evalutes to true\nWill be printed when the condition evalutes to true\nWill be printed when the condition evalutes to true\nWill be printed when the condition evalutes to true\nWill be printed when the condition evalutes to true\nWill be printed when the condition evalutes to true\nWill be printed when the condition evalutes to true\nWill be printed when the condition evalutes to true\nWill be printed when the condition evalutes to true\nWill be printed when the condition evalutes to true\nWill be printed when the condition evalutes to true\nWill be printed when the condition evalutes to true\nWill be printed when the condition evalutes to true\nWill be printed when the condition evalutes to true\nWill be printed when the condition evalutes to true\nWill be printed when the condition evalutes to true\nWill be printed when the condition evalutes to true\nWill be printed when the condition evalutes to true\nWill be printed when the condition evalutes to true\nWill be printed when the condition evalutes to true\nWill be printed when the condition evalutes to true\nWill be printed when the condition evalutes to true\nWill be printed when the condition evalutes to true\nWill be printed when the condition evalutes to true\nWill be printed when the condition evalutes to true\nWill be printed when the condition evalutes to true\nWill be printed when the condition evalutes to true\nWill be printed when the condition evalutes to true\nWill be printed when the condition evalutes to true\nWill be printed when the condition evalutes to true\nWill be printed when the condition evalutes to true\nWill be printed when the condition evalutes to true\nWill be printed when the condition evalutes to true\nWill be printed when the condition evalutes to true\nWill be printed when the condition evalutes to true\nWill be printed when the condition evalutes to true\nWill be printed when the condition evalutes to true\nWill be printed when the condition evalutes to true\nWill be printed when the condition evalutes to true\nWill be printed when the condition evalutes to true\nWill be printed when the condition evalutes to true\nWill be printed when the condition evalutes to true\nWill be printed when the condition evalutes to true\nWill be printed when the condition evalutes to true\nWill be printed when the condition evalutes to true\nWill be printed when the condition evalutes to true\nWill be printed when the condition evalutes to true\nWill be printed when the condition evalutes to true\nWill be printed when the condition evalutes to true\nWill be printed when the condition evalutes to true\nWill be printed when the condition evalutes to true\nWill be printed when the condition evalutes to true\n",
          "name": "stdout"
        },
        {
          "output_type": "stream",
          "text": "Will be printed when the condition evalutes to true\nWill be printed when the condition evalutes to true\nWill be printed when the condition evalutes to true\nWill be printed when the condition evalutes to true\nWill be printed when the condition evalutes to true\nWill be printed when the condition evalutes to true\nWill be printed when the condition evalutes to true\nWill be printed when the condition evalutes to true\nWill be printed when the condition evalutes to true\nWill be printed when the condition evalutes to true\nWill be printed when the condition evalutes to true\nWill be printed when the condition evalutes to true\nWill be printed when the condition evalutes to true\nWill be printed when the condition evalutes to true\nWill be printed when the condition evalutes to true\nWill be printed when the condition evalutes to true\nWill be printed when the condition evalutes to true\nWill be printed when the condition evalutes to true\nWill be printed when the condition evalutes to true\nWill be printed when the condition evalutes to true\nWill be printed when the condition evalutes to true\nWill be printed when the condition evalutes to true\nWill be printed when the condition evalutes to true\nWill be printed when the condition evalutes to true\nWill be printed when the condition evalutes to true\nWill be printed when the condition evalutes to true\nWill be printed when the condition evalutes to true\nWill be printed when the condition evalutes to true\nWill be printed when the condition evalutes to true\nWill be printed when the condition evalutes to true\nWill be printed when the condition evalutes to true\nWill be printed when the condition evalutes to true\nWill be printed when the condition evalutes to true\nWill be printed when the condition evalutes to true\nWill be printed when the condition evalutes to true\nWill be printed when the condition evalutes to true\nWill be printed when the condition evalutes to true\nWill be printed when the condition evalutes to true\nWill be printed when the condition evalutes to true\nWill be printed when the condition evalutes to true\nWill be printed when the condition evalutes to true\nWill be printed when the condition evalutes to true\nWill be printed when the condition evalutes to true\nWill be printed when the condition evalutes to true\nWill be printed when the condition evalutes to true\nWill be printed when the condition evalutes to true\nWill be printed when the condition evalutes to true\nWill be printed when the condition evalutes to true\nWill be printed when the condition evalutes to true\nWill be printed when the condition evalutes to true\nWill be printed when the condition evalutes to true\nWill be printed when the condition evalutes to true\nWill be printed when the condition evalutes to true\nWill be printed when the condition evalutes to true\nWill be printed when the condition evalutes to true\nWill be printed when the condition evalutes to true\nWill be printed when the condition evalutes to true\nWill be printed when the condition evalutes to true\nWill be printed when the condition evalutes to true\nWill be printed when the condition evalutes to true\nWill be printed when the condition evalutes to true\nWill be printed when the condition evalutes to true\nWill be printed when the condition evalutes to true\nWill be printed when the condition evalutes to true\nWill be printed when the condition evalutes to true\nWill be printed when the condition evalutes to true\nWill be printed when the condition evalutes to true\nWill be printed when the condition evalutes to true\nWill be printed when the condition evalutes to true\nWill be printed when the condition evalutes to true\nWill be printed when the condition evalutes to true\nWill be printed when the condition evalutes to true\nWill be printed when the condition evalutes to true\nWill be printed when the condition evalutes to true\nWill be printed when the condition evalutes to true\nWill be printed when the condition evalutes to true\nWill be printed when the condition evalutes to true\nWill be printed when the condition evalutes to true\nWill be printed when the condition evalutes to true\nWill be printed when the condition evalutes to true\nWill be printed when the condition evalutes to true\nWill be printed when the condition evalutes to true\nWill be printed when the condition evalutes to true\nWill be printed when the condition evalutes to true\nWill be printed when the condition evalutes to true\nWill be printed when the condition evalutes to true\nWill be printed when the condition evalutes to true\nWill be printed when the condition evalutes to true\nWill be printed when the condition evalutes to true\nWill be printed when the condition evalutes to true\nWill be printed when the condition evalutes to true\nWill be printed when the condition evalutes to true\nWill be printed when the condition evalutes to true\nWill be printed when the condition evalutes to true\nWill be printed when the condition evalutes to true\nWill be printed when the condition evalutes to true\nWill be printed when the condition evalutes to true\nWill be printed when the condition evalutes to true\nWill be printed when the condition evalutes to true\nWill be printed when the condition evalutes to true\nWill be printed when the condition evalutes to true\nWill be printed when the condition evalutes to true\nWill be printed when the condition evalutes to true\nWill be printed when the condition evalutes to true\nWill be printed when the condition evalutes to true\nWill be printed when the condition evalutes to true\nWill be printed when the condition evalutes to true\nWill be printed when the condition evalutes to true\nWill be printed when the condition evalutes to true\nWill be printed when the condition evalutes to true\nWill be printed when the condition evalutes to true\nWill be printed when the condition evalutes to true\nWill be printed when the condition evalutes to true\nWill be printed when the condition evalutes to true\nWill be printed when the condition evalutes to true\nWill be printed when the condition evalutes to true\nWill be printed when the condition evalutes to true\nWill be printed when the condition evalutes to true\nWill be printed when the condition evalutes to true\nWill be printed when the condition evalutes to true\nWill be printed when the condition evalutes to true\nWill be printed when the condition evalutes to true\nWill be printed when the condition evalutes to true\nWill be printed when the condition evalutes to true\nWill be printed when the condition evalutes to true\nWill be printed when the condition evalutes to true\nWill be printed when the condition evalutes to true\nWill be printed when the condition evalutes to true\nWill be printed when the condition evalutes to true\nWill be printed when the condition evalutes to true\nWill be printed when the condition evalutes to true\nWill be printed when the condition evalutes to true\nWill be printed when the condition evalutes to true\nWill be printed when the condition evalutes to true\nWill be printed when the condition evalutes to true\nWill be printed when the condition evalutes to true\nWill be printed when the condition evalutes to true\nWill be printed when the condition evalutes to true\nWill be printed when the condition evalutes to true\nWill be printed when the condition evalutes to true\nWill be printed when the condition evalutes to true\nWill be printed when the condition evalutes to true\nWill be printed when the condition evalutes to true\nWill be printed when the condition evalutes to true\nWill be printed when the condition evalutes to true\nWill be printed when the condition evalutes to true\nWill be printed when the condition evalutes to true\nWill be printed when the condition evalutes to true\nWill be printed when the condition evalutes to true\nWill be printed when the condition evalutes to true\nWill be printed when the condition evalutes to true\nWill be printed when the condition evalutes to true\nWill be printed when the condition evalutes to true\nWill be printed when the condition evalutes to true\nWill be printed when the condition evalutes to true\nWill be printed when the condition evalutes to true\nWill be printed when the condition evalutes to true\nWill be printed when the condition evalutes to true\nWill be printed when the condition evalutes to true\nWill be printed when the condition evalutes to true\nWill be printed when the condition evalutes to true\nWill be printed when the condition evalutes to true\nWill be printed when the condition evalutes to true\nWill be printed when the condition evalutes to true\nWill be printed when the condition evalutes to true\nWill be printed when the condition evalutes to true\nWill be printed when the condition evalutes to true\nWill be printed when the condition evalutes to true\nWill be printed when the condition evalutes to true\nWill be printed when the condition evalutes to true\nWill be printed when the condition evalutes to true\nWill be printed when the condition evalutes to true\nWill be printed when the condition evalutes to true\nWill be printed when the condition evalutes to true\nWill be printed when the condition evalutes to true\nWill be printed when the condition evalutes to true\nWill be printed when the condition evalutes to true\nWill be printed when the condition evalutes to true\nWill be printed when the condition evalutes to true\nWill be printed when the condition evalutes to true\nWill be printed when the condition evalutes to true\nWill be printed when the condition evalutes to true\nWill be printed when the condition evalutes to true\nWill be printed when the condition evalutes to true\nWill be printed when the condition evalutes to true\nWill be printed when the condition evalutes to true\nWill be printed when the condition evalutes to true\nWill be printed when the condition evalutes to true\nWill be printed when the condition evalutes to true\nWill be printed when the condition evalutes to true\nWill be printed when the condition evalutes to true\nWill be printed when the condition evalutes to true\nWill be printed when the condition evalutes to true\nWill be printed when the condition evalutes to true\nWill be printed when the condition evalutes to true\nWill be printed when the condition evalutes to true\nWill be printed when the condition evalutes to true\nWill be printed when the condition evalutes to true\nWill be printed when the condition evalutes to true\nWill be printed when the condition evalutes to true\nWill be printed when the condition evalutes to true\nWill be printed when the condition evalutes to true\nWill be printed when the condition evalutes to true\nWill be printed when the condition evalutes to true\nWill be printed when the condition evalutes to true\nWill be printed when the condition evalutes to true\nWill be printed when the condition evalutes to true\nWill be printed when the condition evalutes to true\nWill be printed when the condition evalutes to true\nWill be printed when the condition evalutes to true\nWill be printed when the condition evalutes to true\nWill be printed when the condition evalutes to true\nWill be printed when the condition evalutes to true\nWill be printed when the condition evalutes to true\nWill be printed when the condition evalutes to true\nWill be printed when the condition evalutes to true\nWill be printed when the condition evalutes to true\nWill be printed when the condition evalutes to true\nWill be printed when the condition evalutes to true\nWill be printed when the condition evalutes to true\nWill be printed when the condition evalutes to true\nWill be printed when the condition evalutes to true\nWill be printed when the condition evalutes to true\nWill be printed when the condition evalutes to true\nWill be printed when the condition evalutes to true\nWill be printed when the condition evalutes to true\nWill be printed when the condition evalutes to true\nWill be printed when the condition evalutes to true\nWill be printed when the condition evalutes to true\nWill be printed when the condition evalutes to true\nWill be printed when the condition evalutes to true\nWill be printed when the condition evalutes to true\nWill be printed when the condition evalutes to true\nWill be printed when the condition evalutes to true\nWill be printed when the condition evalutes to true\nWill be printed when the condition evalutes to true\nWill be printed when the condition evalutes to true\nWill be printed when the condition evalutes to true\nWill be printed when the condition evalutes to true\nWill be printed when the condition evalutes to true\nWill be printed when the condition evalutes to true\nWill be printed when the condition evalutes to true\nWill be printed when the condition evalutes to true\nWill be printed when the condition evalutes to true\nWill be printed when the condition evalutes to true\nWill be printed when the condition evalutes to true\nWill be printed when the condition evalutes to true\nWill be printed when the condition evalutes to true\nWill be printed when the condition evalutes to true\nWill be printed when the condition evalutes to true\nWill be printed when the condition evalutes to true\nWill be printed when the condition evalutes to true\nWill be printed when the condition evalutes to true\nWill be printed when the condition evalutes to true\nWill be printed when the condition evalutes to true\nWill be printed when the condition evalutes to true\nWill be printed when the condition evalutes to true\nWill be printed when the condition evalutes to true\nWill be printed when the condition evalutes to true\nWill be printed when the condition evalutes to true\nWill be printed when the condition evalutes to true\nWill be printed when the condition evalutes to true\nWill be printed when the condition evalutes to true\nWill be printed when the condition evalutes to true\nWill be printed when the condition evalutes to true\nWill be printed when the condition evalutes to true\nWill be printed when the condition evalutes to true\nWill be printed when the condition evalutes to true\nWill be printed when the condition evalutes to true\n",
          "name": "stdout"
        },
        {
          "output_type": "stream",
          "text": "Will be printed when the condition evalutes to true\nWill be printed when the condition evalutes to true\nWill be printed when the condition evalutes to true\nWill be printed when the condition evalutes to true\nWill be printed when the condition evalutes to true\nWill be printed when the condition evalutes to true\nWill be printed when the condition evalutes to true\nWill be printed when the condition evalutes to true\nWill be printed when the condition evalutes to true\nWill be printed when the condition evalutes to true\nWill be printed when the condition evalutes to true\nWill be printed when the condition evalutes to true\nWill be printed when the condition evalutes to true\nWill be printed when the condition evalutes to true\nWill be printed when the condition evalutes to true\nWill be printed when the condition evalutes to true\nWill be printed when the condition evalutes to true\nWill be printed when the condition evalutes to true\nWill be printed when the condition evalutes to true\nWill be printed when the condition evalutes to true\nWill be printed when the condition evalutes to true\nWill be printed when the condition evalutes to true\nWill be printed when the condition evalutes to true\nWill be printed when the condition evalutes to true\nWill be printed when the condition evalutes to true\nWill be printed when the condition evalutes to true\nWill be printed when the condition evalutes to true\nWill be printed when the condition evalutes to true\nWill be printed when the condition evalutes to true\nWill be printed when the condition evalutes to true\nWill be printed when the condition evalutes to true\nWill be printed when the condition evalutes to true\nWill be printed when the condition evalutes to true\nWill be printed when the condition evalutes to true\nWill be printed when the condition evalutes to true\nWill be printed when the condition evalutes to true\nWill be printed when the condition evalutes to true\nWill be printed when the condition evalutes to true\nWill be printed when the condition evalutes to true\nWill be printed when the condition evalutes to true\nWill be printed when the condition evalutes to true\nWill be printed when the condition evalutes to true\nWill be printed when the condition evalutes to true\nWill be printed when the condition evalutes to true\nWill be printed when the condition evalutes to true\nWill be printed when the condition evalutes to true\nWill be printed when the condition evalutes to true\nWill be printed when the condition evalutes to true\nWill be printed when the condition evalutes to true\nWill be printed when the condition evalutes to true\nWill be printed when the condition evalutes to true\nWill be printed when the condition evalutes to true\nWill be printed when the condition evalutes to true\nWill be printed when the condition evalutes to true\nWill be printed when the condition evalutes to true\nWill be printed when the condition evalutes to true\nWill be printed when the condition evalutes to true\nWill be printed when the condition evalutes to true\nWill be printed when the condition evalutes to true\nWill be printed when the condition evalutes to true\nWill be printed when the condition evalutes to true\nWill be printed when the condition evalutes to true\nWill be printed when the condition evalutes to true\nWill be printed when the condition evalutes to true\nWill be printed when the condition evalutes to true\nWill be printed when the condition evalutes to true\nWill be printed when the condition evalutes to true\nWill be printed when the condition evalutes to true\nWill be printed when the condition evalutes to true\nWill be printed when the condition evalutes to true\nWill be printed when the condition evalutes to true\nWill be printed when the condition evalutes to true\nWill be printed when the condition evalutes to true\nWill be printed when the condition evalutes to true\nWill be printed when the condition evalutes to true\nWill be printed when the condition evalutes to true\nWill be printed when the condition evalutes to true\nWill be printed when the condition evalutes to true\nWill be printed when the condition evalutes to true\nWill be printed when the condition evalutes to true\nWill be printed when the condition evalutes to true\nWill be printed when the condition evalutes to true\nWill be printed when the condition evalutes to true\nWill be printed when the condition evalutes to true\nWill be printed when the condition evalutes to true\nWill be printed when the condition evalutes to true\nWill be printed when the condition evalutes to true\nWill be printed when the condition evalutes to true\nWill be printed when the condition evalutes to true\nWill be printed when the condition evalutes to true\nWill be printed when the condition evalutes to true\nWill be printed when the condition evalutes to true\nWill be printed when the condition evalutes to true\nWill be printed when the condition evalutes to true\nWill be printed when the condition evalutes to true\nWill be printed when the condition evalutes to true\nWill be printed when the condition evalutes to true\nWill be printed when the condition evalutes to true\nWill be printed when the condition evalutes to true\nWill be printed when the condition evalutes to true\nWill be printed when the condition evalutes to true\nWill be printed when the condition evalutes to true\nWill be printed when the condition evalutes to true\nWill be printed when the condition evalutes to true\nWill be printed when the condition evalutes to true\nWill be printed when the condition evalutes to true\nWill be printed when the condition evalutes to true\nWill be printed when the condition evalutes to true\nWill be printed when the condition evalutes to true\nWill be printed when the condition evalutes to true\nWill be printed when the condition evalutes to true\nWill be printed when the condition evalutes to true\nWill be printed when the condition evalutes to true\nWill be printed when the condition evalutes to true\nWill be printed when the condition evalutes to true\nWill be printed when the condition evalutes to true\nWill be printed when the condition evalutes to true\nWill be printed when the condition evalutes to true\nWill be printed when the condition evalutes to true\nWill be printed when the condition evalutes to true\nWill be printed when the condition evalutes to true\nWill be printed when the condition evalutes to true\nWill be printed when the condition evalutes to true\nWill be printed when the condition evalutes to true\nWill be printed when the condition evalutes to true\nWill be printed when the condition evalutes to true\nWill be printed when the condition evalutes to true\nWill be printed when the condition evalutes to true\nWill be printed when the condition evalutes to true\nWill be printed when the condition evalutes to true\nWill be printed when the condition evalutes to true\nWill be printed when the condition evalutes to true\nWill be printed when the condition evalutes to true\nWill be printed when the condition evalutes to true\nWill be printed when the condition evalutes to true\nWill be printed when the condition evalutes to true\nWill be printed when the condition evalutes to true\nWill be printed when the condition evalutes to true\nWill be printed when the condition evalutes to true\nWill be printed when the condition evalutes to true\nWill be printed when the condition evalutes to true\nWill be printed when the condition evalutes to true\nWill be printed when the condition evalutes to true\nWill be printed when the condition evalutes to true\nWill be printed when the condition evalutes to true\nWill be printed when the condition evalutes to true\nWill be printed when the condition evalutes to true\nWill be printed when the condition evalutes to true\nWill be printed when the condition evalutes to true\nWill be printed when the condition evalutes to true\nWill be printed when the condition evalutes to true\nWill be printed when the condition evalutes to true\nWill be printed when the condition evalutes to true\nWill be printed when the condition evalutes to true\nWill be printed when the condition evalutes to true\nWill be printed when the condition evalutes to true\nWill be printed when the condition evalutes to true\nWill be printed when the condition evalutes to true\nWill be printed when the condition evalutes to true\nWill be printed when the condition evalutes to true\nWill be printed when the condition evalutes to true\nWill be printed when the condition evalutes to true\nWill be printed when the condition evalutes to true\nWill be printed when the condition evalutes to true\nWill be printed when the condition evalutes to true\nWill be printed when the condition evalutes to true\nWill be printed when the condition evalutes to true\nWill be printed when the condition evalutes to true\nWill be printed when the condition evalutes to true\nWill be printed when the condition evalutes to true\nWill be printed when the condition evalutes to true\nWill be printed when the condition evalutes to true\nWill be printed when the condition evalutes to true\nWill be printed when the condition evalutes to true\nWill be printed when the condition evalutes to true\nWill be printed when the condition evalutes to true\nWill be printed when the condition evalutes to true\nWill be printed when the condition evalutes to true\nWill be printed when the condition evalutes to true\nWill be printed when the condition evalutes to true\nWill be printed when the condition evalutes to true\nWill be printed when the condition evalutes to true\nWill be printed when the condition evalutes to true\nWill be printed when the condition evalutes to true\nWill be printed when the condition evalutes to true\nWill be printed when the condition evalutes to true\nWill be printed when the condition evalutes to true\nWill be printed when the condition evalutes to true\nWill be printed when the condition evalutes to true\nWill be printed when the condition evalutes to true\nWill be printed when the condition evalutes to true\nWill be printed when the condition evalutes to true\nWill be printed when the condition evalutes to true\nWill be printed when the condition evalutes to true\nWill be printed when the condition evalutes to true\nWill be printed when the condition evalutes to true\nWill be printed when the condition evalutes to true\nWill be printed when the condition evalutes to true\nWill be printed when the condition evalutes to true\nWill be printed when the condition evalutes to true\nWill be printed when the condition evalutes to true\nWill be printed when the condition evalutes to true\nWill be printed when the condition evalutes to true\nWill be printed when the condition evalutes to true\nWill be printed when the condition evalutes to true\nWill be printed when the condition evalutes to true\nWill be printed when the condition evalutes to true\nWill be printed when the condition evalutes to true\nWill be printed when the condition evalutes to true\nWill be printed when the condition evalutes to true\nWill be printed when the condition evalutes to true\nWill be printed when the condition evalutes to true\nWill be printed when the condition evalutes to true\nWill be printed when the condition evalutes to true\nWill be printed when the condition evalutes to true\nWill be printed when the condition evalutes to true\nWill be printed when the condition evalutes to true\nWill be printed when the condition evalutes to true\nWill be printed when the condition evalutes to true\nWill be printed when the condition evalutes to true\nWill be printed when the condition evalutes to true\nWill be printed when the condition evalutes to true\nWill be printed when the condition evalutes to true\nWill be printed when the condition evalutes to true\nWill be printed when the condition evalutes to true\nWill be printed when the condition evalutes to true\nWill be printed when the condition evalutes to true\nWill be printed when the condition evalutes to true\nWill be printed when the condition evalutes to true\nWill be printed when the condition evalutes to true\n",
          "name": "stdout"
        },
        {
          "output_type": "stream",
          "text": "Will be printed when the condition evalutes to true\nWill be printed when the condition evalutes to true\nWill be printed when the condition evalutes to true\nWill be printed when the condition evalutes to true\nWill be printed when the condition evalutes to true\nWill be printed when the condition evalutes to true\nWill be printed when the condition evalutes to true\nWill be printed when the condition evalutes to true\nWill be printed when the condition evalutes to true\nWill be printed when the condition evalutes to true\nWill be printed when the condition evalutes to true\nWill be printed when the condition evalutes to true\nWill be printed when the condition evalutes to true\nWill be printed when the condition evalutes to true\nWill be printed when the condition evalutes to true\nWill be printed when the condition evalutes to true\nWill be printed when the condition evalutes to true\nWill be printed when the condition evalutes to true\nWill be printed when the condition evalutes to true\nWill be printed when the condition evalutes to true\nWill be printed when the condition evalutes to true\nWill be printed when the condition evalutes to true\nWill be printed when the condition evalutes to true\nWill be printed when the condition evalutes to true\nWill be printed when the condition evalutes to true\nWill be printed when the condition evalutes to true\nWill be printed when the condition evalutes to true\nWill be printed when the condition evalutes to true\nWill be printed when the condition evalutes to true\nWill be printed when the condition evalutes to true\nWill be printed when the condition evalutes to true\nWill be printed when the condition evalutes to true\nWill be printed when the condition evalutes to true\nWill be printed when the condition evalutes to true\nWill be printed when the condition evalutes to true\nWill be printed when the condition evalutes to true\nWill be printed when the condition evalutes to true\nWill be printed when the condition evalutes to true\nWill be printed when the condition evalutes to true\nWill be printed when the condition evalutes to true\nWill be printed when the condition evalutes to true\nWill be printed when the condition evalutes to true\nWill be printed when the condition evalutes to true\nWill be printed when the condition evalutes to true\nWill be printed when the condition evalutes to true\nWill be printed when the condition evalutes to true\nWill be printed when the condition evalutes to true\nWill be printed when the condition evalutes to true\nWill be printed when the condition evalutes to true\nWill be printed when the condition evalutes to true\nWill be printed when the condition evalutes to true\nWill be printed when the condition evalutes to true\nWill be printed when the condition evalutes to true\nWill be printed when the condition evalutes to true\nWill be printed when the condition evalutes to true\nWill be printed when the condition evalutes to true\nWill be printed when the condition evalutes to true\nWill be printed when the condition evalutes to true\nWill be printed when the condition evalutes to true\nWill be printed when the condition evalutes to true\nWill be printed when the condition evalutes to true\nWill be printed when the condition evalutes to true\nWill be printed when the condition evalutes to true\nWill be printed when the condition evalutes to true\nWill be printed when the condition evalutes to true\nWill be printed when the condition evalutes to true\nWill be printed when the condition evalutes to true\nWill be printed when the condition evalutes to true\nWill be printed when the condition evalutes to true\nWill be printed when the condition evalutes to true\nWill be printed when the condition evalutes to true\nWill be printed when the condition evalutes to true\nWill be printed when the condition evalutes to true\nWill be printed when the condition evalutes to true\nWill be printed when the condition evalutes to true\nWill be printed when the condition evalutes to true\nWill be printed when the condition evalutes to true\nWill be printed when the condition evalutes to true\nWill be printed when the condition evalutes to true\nWill be printed when the condition evalutes to true\nWill be printed when the condition evalutes to true\nWill be printed when the condition evalutes to true\nWill be printed when the condition evalutes to true\nWill be printed when the condition evalutes to true\nWill be printed when the condition evalutes to true\nWill be printed when the condition evalutes to true\nWill be printed when the condition evalutes to true\nWill be printed when the condition evalutes to true\nWill be printed when the condition evalutes to true\nWill be printed when the condition evalutes to true\nWill be printed when the condition evalutes to true\nWill be printed when the condition evalutes to true\nWill be printed when the condition evalutes to true\nWill be printed when the condition evalutes to true\nWill be printed when the condition evalutes to true\nWill be printed when the condition evalutes to true\nWill be printed when the condition evalutes to true\nWill be printed when the condition evalutes to true\nWill be printed when the condition evalutes to true\nWill be printed when the condition evalutes to true\nWill be printed when the condition evalutes to true\nWill be printed when the condition evalutes to true\nWill be printed when the condition evalutes to true\nWill be printed when the condition evalutes to true\nWill be printed when the condition evalutes to true\nWill be printed when the condition evalutes to true\nWill be printed when the condition evalutes to true\nWill be printed when the condition evalutes to true\nWill be printed when the condition evalutes to true\nWill be printed when the condition evalutes to true\nWill be printed when the condition evalutes to true\nWill be printed when the condition evalutes to true\nWill be printed when the condition evalutes to true\nWill be printed when the condition evalutes to true\nWill be printed when the condition evalutes to true\nWill be printed when the condition evalutes to true\nWill be printed when the condition evalutes to true\nWill be printed when the condition evalutes to true\nWill be printed when the condition evalutes to true\nWill be printed when the condition evalutes to true\nWill be printed when the condition evalutes to true\nWill be printed when the condition evalutes to true\nWill be printed when the condition evalutes to true\nWill be printed when the condition evalutes to true\nWill be printed when the condition evalutes to true\nWill be printed when the condition evalutes to true\nWill be printed when the condition evalutes to true\nWill be printed when the condition evalutes to true\nWill be printed when the condition evalutes to true\nWill be printed when the condition evalutes to true\nWill be printed when the condition evalutes to true\nWill be printed when the condition evalutes to true\nWill be printed when the condition evalutes to true\nWill be printed when the condition evalutes to true\nWill be printed when the condition evalutes to true\nWill be printed when the condition evalutes to true\nWill be printed when the condition evalutes to true\nWill be printed when the condition evalutes to true\nWill be printed when the condition evalutes to true\nWill be printed when the condition evalutes to true\nWill be printed when the condition evalutes to true\nWill be printed when the condition evalutes to true\nWill be printed when the condition evalutes to true\nWill be printed when the condition evalutes to true\nWill be printed when the condition evalutes to true\nWill be printed when the condition evalutes to true\nWill be printed when the condition evalutes to true\nWill be printed when the condition evalutes to true\nWill be printed when the condition evalutes to true\nWill be printed when the condition evalutes to true\nWill be printed when the condition evalutes to true\nWill be printed when the condition evalutes to true\nWill be printed when the condition evalutes to true\nWill be printed when the condition evalutes to true\nWill be printed when the condition evalutes to true\nWill be printed when the condition evalutes to true\nWill be printed when the condition evalutes to true\nWill be printed when the condition evalutes to true\nWill be printed when the condition evalutes to true\nWill be printed when the condition evalutes to true\nWill be printed when the condition evalutes to true\nWill be printed when the condition evalutes to true\nWill be printed when the condition evalutes to true\nWill be printed when the condition evalutes to true\nWill be printed when the condition evalutes to true\nWill be printed when the condition evalutes to true\nWill be printed when the condition evalutes to true\nWill be printed when the condition evalutes to true\nWill be printed when the condition evalutes to true\nWill be printed when the condition evalutes to true\nWill be printed when the condition evalutes to true\nWill be printed when the condition evalutes to true\nWill be printed when the condition evalutes to true\nWill be printed when the condition evalutes to true\nWill be printed when the condition evalutes to true\nWill be printed when the condition evalutes to true\nWill be printed when the condition evalutes to true\nWill be printed when the condition evalutes to true\nWill be printed when the condition evalutes to true\nWill be printed when the condition evalutes to true\nWill be printed when the condition evalutes to true\nWill be printed when the condition evalutes to true\nWill be printed when the condition evalutes to true\nWill be printed when the condition evalutes to true\nWill be printed when the condition evalutes to true\nWill be printed when the condition evalutes to true\nWill be printed when the condition evalutes to true\nWill be printed when the condition evalutes to true\nWill be printed when the condition evalutes to true\nWill be printed when the condition evalutes to true\nWill be printed when the condition evalutes to true\nWill be printed when the condition evalutes to true\nWill be printed when the condition evalutes to true\nWill be printed when the condition evalutes to true\nWill be printed when the condition evalutes to true\nWill be printed when the condition evalutes to true\nWill be printed when the condition evalutes to true\nWill be printed when the condition evalutes to true\nWill be printed when the condition evalutes to true\nWill be printed when the condition evalutes to true\nWill be printed when the condition evalutes to true\nWill be printed when the condition evalutes to true\nWill be printed when the condition evalutes to true\nWill be printed when the condition evalutes to true\nWill be printed when the condition evalutes to true\nWill be printed when the condition evalutes to true\nWill be printed when the condition evalutes to true\nWill be printed when the condition evalutes to true\nWill be printed when the condition evalutes to true\nWill be printed when the condition evalutes to true\nWill be printed when the condition evalutes to true\nWill be printed when the condition evalutes to true\nWill be printed when the condition evalutes to true\nWill be printed when the condition evalutes to true\nWill be printed when the condition evalutes to true\nWill be printed when the condition evalutes to true\nWill be printed when the condition evalutes to true\nWill be printed when the condition evalutes to true\nWill be printed when the condition evalutes to true\nWill be printed when the condition evalutes to true\nWill be printed when the condition evalutes to true\nWill be printed when the condition evalutes to true\nWill be printed when the condition evalutes to true\nWill be printed when the condition evalutes to true\nWill be printed when the condition evalutes to true\nWill be printed when the condition evalutes to true\nWill be printed when the condition evalutes to true\nWill be printed when the condition evalutes to true\nWill be printed when the condition evalutes to true\nWill be printed when the condition evalutes to true\nWill be printed when the condition evalutes to true\nWill be printed when the condition evalutes to true\nWill be printed when the condition evalutes to true\nWill be printed when the condition evalutes to true\nWill be printed when the condition evalutes to true\nWill be printed when the condition evalutes to true\nWill be printed when the condition evalutes to true\nWill be printed when the condition evalutes to true\nWill be printed when the condition evalutes to true\nWill be printed when the condition evalutes to true\nWill be printed when the condition evalutes to true\nWill be printed when the condition evalutes to true\nWill be printed when the condition evalutes to true\nWill be printed when the condition evalutes to true\nWill be printed when the condition evalutes to true\nWill be printed when the condition evalutes to true\nWill be printed when the condition evalutes to true\nWill be printed when the condition evalutes to true\nWill be printed when the condition evalutes to true\nWill be printed when the condition evalutes to true\nWill be printed when the condition evalutes to true\nWill be printed when the condition evalutes to true\nWill be printed when the condition evalutes to true\nWill be printed when the condition evalutes to true\nWill be printed when the condition evalutes to true\nWill be printed when the condition evalutes to true\nWill be printed when the condition evalutes to true\nWill be printed when the condition evalutes to true\nWill be printed when the condition evalutes to true\nWill be printed when the condition evalutes to true\nWill be printed when the condition evalutes to true\nWill be printed when the condition evalutes to true\nWill be printed when the condition evalutes to true\nWill be printed when the condition evalutes to true\nWill be printed when the condition evalutes to true\nWill be printed when the condition evalutes to true\nWill be printed when the condition evalutes to true\nWill be printed when the condition evalutes to true\nWill be printed when the condition evalutes to true\nWill be printed when the condition evalutes to true\nWill be printed when the condition evalutes to true\nWill be printed when the condition evalutes to true\nWill be printed when the condition evalutes to true\nWill be printed when the condition evalutes to true\nWill be printed when the condition evalutes to true\nWill be printed when the condition evalutes to true\nWill be printed when the condition evalutes to true\nWill be printed when the condition evalutes to true\nWill be printed when the condition evalutes to true\nWill be printed when the condition evalutes to true\nWill be printed when the condition evalutes to true\nWill be printed when the condition evalutes to true\nWill be printed when the condition evalutes to true\nWill be printed when the condition evalutes to true\nWill be printed when the condition evalutes to true\nWill be printed when the condition evalutes to true\nWill be printed when the condition evalutes to true\nWill be printed when the condition evalutes to true\nWill be printed when the condition evalutes to true\nWill be printed when the condition evalutes to true\nWill be printed when the condition evalutes to true\nWill be printed when the condition evalutes to true\nWill be printed when the condition evalutes to true\nWill be printed when the condition evalutes to true\nWill be printed when the condition evalutes to true\nWill be printed when the condition evalutes to true\nWill be printed when the condition evalutes to true\nWill be printed when the condition evalutes to true\nWill be printed when the condition evalutes to true\nWill be printed when the condition evalutes to true\nWill be printed when the condition evalutes to true\nWill be printed when the condition evalutes to true\nWill be printed when the condition evalutes to true\nWill be printed when the condition evalutes to true\nWill be printed when the condition evalutes to true\nWill be printed when the condition evalutes to true\nWill be printed when the condition evalutes to true\nWill be printed when the condition evalutes to true\nWill be printed when the condition evalutes to true\nWill be printed when the condition evalutes to true\nWill be printed when the condition evalutes to true\nWill be printed when the condition evalutes to true\nWill be printed when the condition evalutes to true\nWill be printed when the condition evalutes to true\nWill be printed when the condition evalutes to true\nWill be printed when the condition evalutes to true\nWill be printed when the condition evalutes to true\nWill be printed when the condition evalutes to true\nWill be printed when the condition evalutes to true\nWill be printed when the condition evalutes to true\nWill be printed when the condition evalutes to true\nWill be printed when the condition evalutes to true\nWill be printed when the condition evalutes to true\nWill be printed when the condition evalutes to true\nWill be printed when the condition evalutes to true\nWill be printed when the condition evalutes to true\nWill be printed when the condition evalutes to true\nWill be printed when the condition evalutes to true\nWill be printed when the condition evalutes to true\nWill be printed when the condition evalutes to true\nWill be printed when the condition evalutes to true\nWill be printed when the condition evalutes to true\nWill be printed when the condition evalutes to true\nWill be printed when the condition evalutes to true\nWill be printed when the condition evalutes to true\nWill be printed when the condition evalutes to true\nWill be printed when the condition evalutes to true\nWill be printed when the condition evalutes to true\nWill be printed when the condition evalutes to true\nWill be printed when the condition evalutes to true\nWill be printed when the condition evalutes to true\nWill be printed when the condition evalutes to true\nWill be printed when the condition evalutes to true\nWill be printed when the condition evalutes to true\nWill be printed when the condition evalutes to true\nWill be printed when the condition evalutes to true\nWill be printed when the condition evalutes to true\nWill be printed when the condition evalutes to true\nWill be printed when the condition evalutes to true\nWill be printed when the condition evalutes to true\nWill be printed when the condition evalutes to true\nWill be printed when the condition evalutes to true\nWill be printed when the condition evalutes to true\nWill be printed when the condition evalutes to true\nWill be printed when the condition evalutes to true\nWill be printed when the condition evalutes to true\nWill be printed when the condition evalutes to true\nWill be printed when the condition evalutes to true\nWill be printed when the condition evalutes to true\nWill be printed when the condition evalutes to true\nWill be printed when the condition evalutes to true\nWill be printed when the condition evalutes to true\nWill be printed when the condition evalutes to true\nWill be printed when the condition evalutes to true\nWill be printed when the condition evalutes to true\nWill be printed when the condition evalutes to true\nWill be printed when the condition evalutes to true\nWill be printed when the condition evalutes to true\nWill be printed when the condition evalutes to true\nWill be printed when the condition evalutes to true\nWill be printed when the condition evalutes to true\nWill be printed when the condition evalutes to true\nWill be printed when the condition evalutes to true\nWill be printed when the condition evalutes to true\nWill be printed when the condition evalutes to true\nWill be printed when the condition evalutes to true\n",
          "name": "stdout"
        },
        {
          "output_type": "stream",
          "text": "Will be printed when the condition evalutes to true\nWill be printed when the condition evalutes to true\nWill be printed when the condition evalutes to true\nWill be printed when the condition evalutes to true\nWill be printed when the condition evalutes to true\nWill be printed when the condition evalutes to true\nWill be printed when the condition evalutes to true\nWill be printed when the condition evalutes to true\nWill be printed when the condition evalutes to true\nWill be printed when the condition evalutes to true\nWill be printed when the condition evalutes to true\nWill be printed when the condition evalutes to true\nWill be printed when the condition evalutes to true\nWill be printed when the condition evalutes to true\nWill be printed when the condition evalutes to true\nWill be printed when the condition evalutes to true\nWill be printed when the condition evalutes to true\nWill be printed when the condition evalutes to true\nWill be printed when the condition evalutes to true\nWill be printed when the condition evalutes to true\nWill be printed when the condition evalutes to true\nWill be printed when the condition evalutes to true\nWill be printed when the condition evalutes to true\nWill be printed when the condition evalutes to true\nWill be printed when the condition evalutes to true\nWill be printed when the condition evalutes to true\nWill be printed when the condition evalutes to true\nWill be printed when the condition evalutes to true\nWill be printed when the condition evalutes to true\nWill be printed when the condition evalutes to true\nWill be printed when the condition evalutes to true\nWill be printed when the condition evalutes to true\nWill be printed when the condition evalutes to true\nWill be printed when the condition evalutes to true\nWill be printed when the condition evalutes to true\nWill be printed when the condition evalutes to true\nWill be printed when the condition evalutes to true\nWill be printed when the condition evalutes to true\nWill be printed when the condition evalutes to true\nWill be printed when the condition evalutes to true\nWill be printed when the condition evalutes to true\nWill be printed when the condition evalutes to true\nWill be printed when the condition evalutes to true\nWill be printed when the condition evalutes to true\nWill be printed when the condition evalutes to true\nWill be printed when the condition evalutes to true\nWill be printed when the condition evalutes to true\nWill be printed when the condition evalutes to true\nWill be printed when the condition evalutes to true\nWill be printed when the condition evalutes to true\nWill be printed when the condition evalutes to true\nWill be printed when the condition evalutes to true\nWill be printed when the condition evalutes to true\nWill be printed when the condition evalutes to true\nWill be printed when the condition evalutes to true\nWill be printed when the condition evalutes to true\nWill be printed when the condition evalutes to true\nWill be printed when the condition evalutes to true\nWill be printed when the condition evalutes to true\nWill be printed when the condition evalutes to true\nWill be printed when the condition evalutes to true\nWill be printed when the condition evalutes to true\nWill be printed when the condition evalutes to true\nWill be printed when the condition evalutes to true\nWill be printed when the condition evalutes to true\nWill be printed when the condition evalutes to true\nWill be printed when the condition evalutes to true\nWill be printed when the condition evalutes to true\nWill be printed when the condition evalutes to true\nWill be printed when the condition evalutes to true\nWill be printed when the condition evalutes to true\nWill be printed when the condition evalutes to true\nWill be printed when the condition evalutes to true\nWill be printed when the condition evalutes to true\nWill be printed when the condition evalutes to true\nWill be printed when the condition evalutes to true\nWill be printed when the condition evalutes to true\nWill be printed when the condition evalutes to true\nWill be printed when the condition evalutes to true\nWill be printed when the condition evalutes to true\nWill be printed when the condition evalutes to true\nWill be printed when the condition evalutes to true\nWill be printed when the condition evalutes to true\nWill be printed when the condition evalutes to true\nWill be printed when the condition evalutes to true\nWill be printed when the condition evalutes to true\nWill be printed when the condition evalutes to true\nWill be printed when the condition evalutes to true\nWill be printed when the condition evalutes to true\nWill be printed when the condition evalutes to true\nWill be printed when the condition evalutes to true\nWill be printed when the condition evalutes to true\nWill be printed when the condition evalutes to true\nWill be printed when the condition evalutes to true\nWill be printed when the condition evalutes to true\nWill be printed when the condition evalutes to true\nWill be printed when the condition evalutes to true\nWill be printed when the condition evalutes to true\nWill be printed when the condition evalutes to true\nWill be printed when the condition evalutes to true\nWill be printed when the condition evalutes to true\nWill be printed when the condition evalutes to true\nWill be printed when the condition evalutes to true\nWill be printed when the condition evalutes to true\nWill be printed when the condition evalutes to true\nWill be printed when the condition evalutes to true\nWill be printed when the condition evalutes to true\nWill be printed when the condition evalutes to true\nWill be printed when the condition evalutes to true\nWill be printed when the condition evalutes to true\nWill be printed when the condition evalutes to true\nWill be printed when the condition evalutes to true\nWill be printed when the condition evalutes to true\nWill be printed when the condition evalutes to true\nWill be printed when the condition evalutes to true\nWill be printed when the condition evalutes to true\nWill be printed when the condition evalutes to true\nWill be printed when the condition evalutes to true\nWill be printed when the condition evalutes to true\nWill be printed when the condition evalutes to true\nWill be printed when the condition evalutes to true\nWill be printed when the condition evalutes to true\nWill be printed when the condition evalutes to true\nWill be printed when the condition evalutes to true\nWill be printed when the condition evalutes to true\nWill be printed when the condition evalutes to true\nWill be printed when the condition evalutes to true\nWill be printed when the condition evalutes to true\nWill be printed when the condition evalutes to true\nWill be printed when the condition evalutes to true\nWill be printed when the condition evalutes to true\nWill be printed when the condition evalutes to true\nWill be printed when the condition evalutes to true\nWill be printed when the condition evalutes to true\nWill be printed when the condition evalutes to true\nWill be printed when the condition evalutes to true\nWill be printed when the condition evalutes to true\nWill be printed when the condition evalutes to true\nWill be printed when the condition evalutes to true\nWill be printed when the condition evalutes to true\nWill be printed when the condition evalutes to true\nWill be printed when the condition evalutes to true\nWill be printed when the condition evalutes to true\nWill be printed when the condition evalutes to true\nWill be printed when the condition evalutes to true\nWill be printed when the condition evalutes to true\nWill be printed when the condition evalutes to true\nWill be printed when the condition evalutes to true\nWill be printed when the condition evalutes to true\nWill be printed when the condition evalutes to true\nWill be printed when the condition evalutes to true\nWill be printed when the condition evalutes to true\nWill be printed when the condition evalutes to true\nWill be printed when the condition evalutes to true\nWill be printed when the condition evalutes to true\nWill be printed when the condition evalutes to true\nWill be printed when the condition evalutes to true\nWill be printed when the condition evalutes to true\nWill be printed when the condition evalutes to true\nWill be printed when the condition evalutes to true\nWill be printed when the condition evalutes to true\nWill be printed when the condition evalutes to true\nWill be printed when the condition evalutes to true\nWill be printed when the condition evalutes to true\nWill be printed when the condition evalutes to true\nWill be printed when the condition evalutes to true\nWill be printed when the condition evalutes to true\nWill be printed when the condition evalutes to true\nWill be printed when the condition evalutes to true\nWill be printed when the condition evalutes to true\nWill be printed when the condition evalutes to true\nWill be printed when the condition evalutes to true\nWill be printed when the condition evalutes to true\nWill be printed when the condition evalutes to true\nWill be printed when the condition evalutes to true\nWill be printed when the condition evalutes to true\nWill be printed when the condition evalutes to true\nWill be printed when the condition evalutes to true\nWill be printed when the condition evalutes to true\nWill be printed when the condition evalutes to true\nWill be printed when the condition evalutes to true\nWill be printed when the condition evalutes to true\nWill be printed when the condition evalutes to true\nWill be printed when the condition evalutes to true\nWill be printed when the condition evalutes to true\nWill be printed when the condition evalutes to true\nWill be printed when the condition evalutes to true\nWill be printed when the condition evalutes to true\nWill be printed when the condition evalutes to true\nWill be printed when the condition evalutes to true\nWill be printed when the condition evalutes to true\nWill be printed when the condition evalutes to true\nWill be printed when the condition evalutes to true\nWill be printed when the condition evalutes to true\nWill be printed when the condition evalutes to true\nWill be printed when the condition evalutes to true\nWill be printed when the condition evalutes to true\nWill be printed when the condition evalutes to true\nWill be printed when the condition evalutes to true\nWill be printed when the condition evalutes to true\nWill be printed when the condition evalutes to true\nWill be printed when the condition evalutes to true\nWill be printed when the condition evalutes to true\nWill be printed when the condition evalutes to true\nWill be printed when the condition evalutes to true\nWill be printed when the condition evalutes to true\nWill be printed when the condition evalutes to true\nWill be printed when the condition evalutes to true\nWill be printed when the condition evalutes to true\nWill be printed when the condition evalutes to true\nWill be printed when the condition evalutes to true\nWill be printed when the condition evalutes to true\nWill be printed when the condition evalutes to true\nWill be printed when the condition evalutes to true\nWill be printed when the condition evalutes to true\nWill be printed when the condition evalutes to true\nWill be printed when the condition evalutes to true\nWill be printed when the condition evalutes to true\nWill be printed when the condition evalutes to true\nWill be printed when the condition evalutes to true\nWill be printed when the condition evalutes to true\nWill be printed when the condition evalutes to true\nWill be printed when the condition evalutes to true\nWill be printed when the condition evalutes to true\nWill be printed when the condition evalutes to true\nWill be printed when the condition evalutes to true\nWill be printed when the condition evalutes to true\nWill be printed when the condition evalutes to true\nWill be printed when the condition evalutes to true\nWill be printed when the condition evalutes to true\nWill be printed when the condition evalutes to true\nWill be printed when the condition evalutes to true\nWill be printed when the condition evalutes to true\nWill be printed when the condition evalutes to true\nWill be printed when the condition evalutes to true\nWill be printed when the condition evalutes to true\nWill be printed when the condition evalutes to true\nWill be printed when the condition evalutes to true\nWill be printed when the condition evalutes to true\nWill be printed when the condition evalutes to true\nWill be printed when the condition evalutes to true\nWill be printed when the condition evalutes to true\nWill be printed when the condition evalutes to true\nWill be printed when the condition evalutes to true\nWill be printed when the condition evalutes to true\nWill be printed when the condition evalutes to true\nWill be printed when the condition evalutes to true\nWill be printed when the condition evalutes to true\nWill be printed when the condition evalutes to true\nWill be printed when the condition evalutes to true\nWill be printed when the condition evalutes to true\nWill be printed when the condition evalutes to true\nWill be printed when the condition evalutes to true\nWill be printed when the condition evalutes to true\nWill be printed when the condition evalutes to true\nWill be printed when the condition evalutes to true\nWill be printed when the condition evalutes to true\nWill be printed when the condition evalutes to true\nWill be printed when the condition evalutes to true\nWill be printed when the condition evalutes to true\nWill be printed when the condition evalutes to true\nWill be printed when the condition evalutes to true\nWill be printed when the condition evalutes to true\nWill be printed when the condition evalutes to true\nWill be printed when the condition evalutes to true\nWill be printed when the condition evalutes to true\nWill be printed when the condition evalutes to true\nWill be printed when the condition evalutes to true\nWill be printed when the condition evalutes to true\nWill be printed when the condition evalutes to true\nWill be printed when the condition evalutes to true\nWill be printed when the condition evalutes to true\nWill be printed when the condition evalutes to true\nWill be printed when the condition evalutes to true\nWill be printed when the condition evalutes to true\nWill be printed when the condition evalutes to true\nWill be printed when the condition evalutes to true\n",
          "name": "stdout"
        },
        {
          "output_type": "error",
          "ename": "KeyboardInterrupt",
          "evalue": "",
          "traceback": [
            "\u001b[0;31m\u001b[0m",
            "\u001b[0;31mKeyboardInterrupt\u001b[0mTraceback (most recent call last)",
            "\u001b[0;32m<ipython-input-82-c553aeccef57>\u001b[0m in \u001b[0;36m<module>\u001b[0;34m()\u001b[0m\n\u001b[1;32m      1\u001b[0m \u001b[0;32mwhile\u001b[0m \u001b[0mTrue\u001b[0m\u001b[0;34m:\u001b[0m\u001b[0;34m\u001b[0m\u001b[0m\n\u001b[0;32m----> 2\u001b[0;31m     \u001b[0;32mprint\u001b[0m\u001b[0;34m(\u001b[0m\u001b[0;34m\"Will be printed when the condition evalutes to true\"\u001b[0m\u001b[0;34m)\u001b[0m\u001b[0;34m\u001b[0m\u001b[0m\n\u001b[0m",
            "\u001b[0;32m/home/nbuser/anaconda2_501/lib/python2.7/site-packages/ipykernel/iostream.pyc\u001b[0m in \u001b[0;36mwrite\u001b[0;34m(self, string)\u001b[0m\n\u001b[1;32m    398\u001b[0m             \u001b[0mis_child\u001b[0m \u001b[0;34m=\u001b[0m \u001b[0;34m(\u001b[0m\u001b[0;32mnot\u001b[0m \u001b[0mself\u001b[0m\u001b[0;34m.\u001b[0m\u001b[0m_is_master_process\u001b[0m\u001b[0;34m(\u001b[0m\u001b[0;34m)\u001b[0m\u001b[0;34m)\u001b[0m\u001b[0;34m\u001b[0m\u001b[0m\n\u001b[1;32m    399\u001b[0m             \u001b[0;31m# only touch the buffer in the IO thread to avoid races\u001b[0m\u001b[0;34m\u001b[0m\u001b[0;34m\u001b[0m\u001b[0m\n\u001b[0;32m--> 400\u001b[0;31m             \u001b[0mself\u001b[0m\u001b[0;34m.\u001b[0m\u001b[0mpub_thread\u001b[0m\u001b[0;34m.\u001b[0m\u001b[0mschedule\u001b[0m\u001b[0;34m(\u001b[0m\u001b[0;32mlambda\u001b[0m \u001b[0;34m:\u001b[0m \u001b[0mself\u001b[0m\u001b[0;34m.\u001b[0m\u001b[0m_buffer\u001b[0m\u001b[0;34m.\u001b[0m\u001b[0mwrite\u001b[0m\u001b[0;34m(\u001b[0m\u001b[0mstring\u001b[0m\u001b[0;34m)\u001b[0m\u001b[0;34m)\u001b[0m\u001b[0;34m\u001b[0m\u001b[0m\n\u001b[0m\u001b[1;32m    401\u001b[0m             \u001b[0;32mif\u001b[0m \u001b[0mis_child\u001b[0m\u001b[0;34m:\u001b[0m\u001b[0;34m\u001b[0m\u001b[0m\n\u001b[1;32m    402\u001b[0m                 \u001b[0;31m# newlines imply flush in subprocesses\u001b[0m\u001b[0;34m\u001b[0m\u001b[0;34m\u001b[0m\u001b[0m\n",
            "\u001b[0;32m/home/nbuser/anaconda2_501/lib/python2.7/site-packages/ipykernel/iostream.pyc\u001b[0m in \u001b[0;36mschedule\u001b[0;34m(self, f)\u001b[0m\n\u001b[1;32m    201\u001b[0m             \u001b[0mself\u001b[0m\u001b[0;34m.\u001b[0m\u001b[0m_events\u001b[0m\u001b[0;34m.\u001b[0m\u001b[0mappend\u001b[0m\u001b[0;34m(\u001b[0m\u001b[0mf\u001b[0m\u001b[0;34m)\u001b[0m\u001b[0;34m\u001b[0m\u001b[0m\n\u001b[1;32m    202\u001b[0m             \u001b[0;31m# wake event thread (message content is ignored)\u001b[0m\u001b[0;34m\u001b[0m\u001b[0;34m\u001b[0m\u001b[0m\n\u001b[0;32m--> 203\u001b[0;31m             \u001b[0mself\u001b[0m\u001b[0;34m.\u001b[0m\u001b[0m_event_pipe\u001b[0m\u001b[0;34m.\u001b[0m\u001b[0msend\u001b[0m\u001b[0;34m(\u001b[0m\u001b[0;34mb''\u001b[0m\u001b[0;34m)\u001b[0m\u001b[0;34m\u001b[0m\u001b[0m\n\u001b[0m\u001b[1;32m    204\u001b[0m         \u001b[0;32melse\u001b[0m\u001b[0;34m:\u001b[0m\u001b[0;34m\u001b[0m\u001b[0m\n\u001b[1;32m    205\u001b[0m             \u001b[0mf\u001b[0m\u001b[0;34m(\u001b[0m\u001b[0;34m)\u001b[0m\u001b[0;34m\u001b[0m\u001b[0m\n",
            "\u001b[0;32m/home/nbuser/anaconda2_501/lib/python2.7/site-packages/zmq/sugar/socket.pyc\u001b[0m in \u001b[0;36msend\u001b[0;34m(self, data, flags, copy, track, routing_id, group)\u001b[0m\n\u001b[1;32m    390\u001b[0m                                  copy_threshold=self.copy_threshold)\n\u001b[1;32m    391\u001b[0m             \u001b[0mdata\u001b[0m\u001b[0;34m.\u001b[0m\u001b[0mgroup\u001b[0m \u001b[0;34m=\u001b[0m \u001b[0mgroup\u001b[0m\u001b[0;34m\u001b[0m\u001b[0m\n\u001b[0;32m--> 392\u001b[0;31m         \u001b[0;32mreturn\u001b[0m \u001b[0msuper\u001b[0m\u001b[0;34m(\u001b[0m\u001b[0mSocket\u001b[0m\u001b[0;34m,\u001b[0m \u001b[0mself\u001b[0m\u001b[0;34m)\u001b[0m\u001b[0;34m.\u001b[0m\u001b[0msend\u001b[0m\u001b[0;34m(\u001b[0m\u001b[0mdata\u001b[0m\u001b[0;34m,\u001b[0m \u001b[0mflags\u001b[0m\u001b[0;34m=\u001b[0m\u001b[0mflags\u001b[0m\u001b[0;34m,\u001b[0m \u001b[0mcopy\u001b[0m\u001b[0;34m=\u001b[0m\u001b[0mcopy\u001b[0m\u001b[0;34m,\u001b[0m \u001b[0mtrack\u001b[0m\u001b[0;34m=\u001b[0m\u001b[0mtrack\u001b[0m\u001b[0;34m)\u001b[0m\u001b[0;34m\u001b[0m\u001b[0m\n\u001b[0m\u001b[1;32m    393\u001b[0m \u001b[0;34m\u001b[0m\u001b[0m\n\u001b[1;32m    394\u001b[0m     \u001b[0;32mdef\u001b[0m \u001b[0msend_multipart\u001b[0m\u001b[0;34m(\u001b[0m\u001b[0mself\u001b[0m\u001b[0;34m,\u001b[0m \u001b[0mmsg_parts\u001b[0m\u001b[0;34m,\u001b[0m \u001b[0mflags\u001b[0m\u001b[0;34m=\u001b[0m\u001b[0;36m0\u001b[0m\u001b[0;34m,\u001b[0m \u001b[0mcopy\u001b[0m\u001b[0;34m=\u001b[0m\u001b[0mTrue\u001b[0m\u001b[0;34m,\u001b[0m \u001b[0mtrack\u001b[0m\u001b[0;34m=\u001b[0m\u001b[0mFalse\u001b[0m\u001b[0;34m,\u001b[0m \u001b[0;34m**\u001b[0m\u001b[0mkwargs\u001b[0m\u001b[0;34m)\u001b[0m\u001b[0;34m:\u001b[0m\u001b[0;34m\u001b[0m\u001b[0m\n",
            "\u001b[0;32mzmq/backend/cython/socket.pyx\u001b[0m in \u001b[0;36mzmq.backend.cython.socket.Socket.send\u001b[0;34m()\u001b[0m\n",
            "\u001b[0;32mzmq/backend/cython/socket.pyx\u001b[0m in \u001b[0;36mzmq.backend.cython.socket.Socket.send\u001b[0;34m()\u001b[0m\n",
            "\u001b[0;32mzmq/backend/cython/socket.pyx\u001b[0m in \u001b[0;36mzmq.backend.cython.socket._send_copy\u001b[0;34m()\u001b[0m\n",
            "\u001b[0;32m/home/nbuser/anaconda2_501/lib/python2.7/site-packages/zmq/backend/cython/checkrc.pxd\u001b[0m in \u001b[0;36mzmq.backend.cython.checkrc._check_rc\u001b[0;34m()\u001b[0m\n\u001b[1;32m     10\u001b[0m     \"\"\"\n\u001b[1;32m     11\u001b[0m     \u001b[0mcdef\u001b[0m \u001b[0mint\u001b[0m \u001b[0merrno\u001b[0m \u001b[0;34m=\u001b[0m \u001b[0mzmq_errno\u001b[0m\u001b[0;34m(\u001b[0m\u001b[0;34m)\u001b[0m\u001b[0;34m\u001b[0m\u001b[0m\n\u001b[0;32m---> 12\u001b[0;31m     \u001b[0mPyErr_CheckSignals\u001b[0m\u001b[0;34m(\u001b[0m\u001b[0;34m)\u001b[0m\u001b[0;34m\u001b[0m\u001b[0m\n\u001b[0m\u001b[1;32m     13\u001b[0m     \u001b[0;32mif\u001b[0m \u001b[0mrc\u001b[0m \u001b[0;34m==\u001b[0m \u001b[0;34m-\u001b[0m\u001b[0;36m1\u001b[0m\u001b[0;34m:\u001b[0m \u001b[0;31m# if rc < -1, it's a bug in libzmq. Should we warn?\u001b[0m\u001b[0;34m\u001b[0m\u001b[0m\n\u001b[1;32m     14\u001b[0m         \u001b[0;32mif\u001b[0m \u001b[0merrno\u001b[0m \u001b[0;34m==\u001b[0m \u001b[0mEINTR\u001b[0m\u001b[0;34m:\u001b[0m\u001b[0;34m\u001b[0m\u001b[0m\n",
            "\u001b[0;31mKeyboardInterrupt\u001b[0m: "
          ]
        }
      ]
    },
    {
      "metadata": {
        "trusted": true
      },
      "cell_type": "code",
      "source": "a = 5\n\nwhile a < 10:\n    a += 1\n    print (a)\n    ",
      "execution_count": 86,
      "outputs": [
        {
          "output_type": "stream",
          "text": " 6\n7\n8\n9\n10\n",
          "name": "stdout"
        }
      ]
    },
    {
      "metadata": {
        "trusted": true
      },
      "cell_type": "code",
      "source": "b = 7\n\nwhile b == 7:\n    b = b*2\n    print (b)",
      "execution_count": 87,
      "outputs": [
        {
          "output_type": "stream",
          "text": "14\n",
          "name": "stdout"
        }
      ]
    },
    {
      "metadata": {
        "trusted": true
      },
      "cell_type": "code",
      "source": "c = 45\n\nwhile c <= 50:\n    print(c)\n    c = c+1\n    print(c)",
      "execution_count": 90,
      "outputs": [
        {
          "output_type": "stream",
          "text": "45\n46\n46\n47\n47\n48\n48\n49\n49\n50\n50\n51\n",
          "name": "stdout"
        }
      ]
    },
    {
      "metadata": {
        "trusted": true
      },
      "cell_type": "code",
      "source": "d = 64\n\nwhile d <= 75:\n    print(d)\n    d = d+3",
      "execution_count": 91,
      "outputs": [
        {
          "output_type": "stream",
          "text": "64\n67\n70\n73\n",
          "name": "stdout"
        }
      ]
    },
    {
      "metadata": {
        "trusted": true
      },
      "cell_type": "code",
      "source": "d",
      "execution_count": 92,
      "outputs": [
        {
          "output_type": "execute_result",
          "execution_count": 92,
          "data": {
            "text/plain": "76"
          },
          "metadata": {}
        }
      ]
    },
    {
      "metadata": {
        "trusted": true
      },
      "cell_type": "code",
      "source": "p = 5\n\nwhile p:\n    print (\"p is still positive :\", p)\n    \n    p -=1",
      "execution_count": 93,
      "outputs": [
        {
          "output_type": "stream",
          "text": "('p is still positive :', 5)\n('p is still positive :', 4)\n('p is still positive :', 3)\n('p is still positive :', 2)\n('p is still positive :', 1)\n",
          "name": "stdout"
        }
      ]
    },
    {
      "metadata": {
        "trusted": true
      },
      "cell_type": "code",
      "source": "p\n",
      "execution_count": 94,
      "outputs": [
        {
          "output_type": "execute_result",
          "execution_count": 94,
          "data": {
            "text/plain": "0"
          },
          "metadata": {}
        }
      ]
    },
    {
      "metadata": {
        "trusted": true
      },
      "cell_type": "code",
      "source": "num = 10\n\nwhile num < 20:\n    print (num + num)\n    num = num + 2",
      "execution_count": 97,
      "outputs": [
        {
          "output_type": "stream",
          "text": "20\n24\n28\n32\n36\n",
          "name": "stdout"
        }
      ]
    },
    {
      "metadata": {
        "trusted": true
      },
      "cell_type": "code",
      "source": "car = input(\"What's my favorite car? \")\n\nwhile car != \"AstonMartin\":\n    car = input(\"Wrong,guess again\\n\")\n    \nprint(\"That's right:-)\")\n    ",
      "execution_count": 128,
      "outputs": [
        {
          "output_type": "stream",
          "name": "stdout",
          "text": "What's my favorite car? Innova\n"
        },
        {
          "output_type": "error",
          "ename": "NameError",
          "evalue": "name 'Innova' is not defined",
          "traceback": [
            "\u001b[0;31m\u001b[0m",
            "\u001b[0;31mNameError\u001b[0mTraceback (most recent call last)",
            "\u001b[0;32m<ipython-input-128-0fa2fec44b29>\u001b[0m in \u001b[0;36m<module>\u001b[0;34m()\u001b[0m\n\u001b[0;32m----> 1\u001b[0;31m \u001b[0mcar\u001b[0m \u001b[0;34m=\u001b[0m \u001b[0minput\u001b[0m\u001b[0;34m(\u001b[0m\u001b[0;34m\"What's my favorite car? \"\u001b[0m\u001b[0;34m)\u001b[0m\u001b[0;34m\u001b[0m\u001b[0m\n\u001b[0m\u001b[1;32m      2\u001b[0m \u001b[0;34m\u001b[0m\u001b[0m\n\u001b[1;32m      3\u001b[0m \u001b[0;32mwhile\u001b[0m \u001b[0mcar\u001b[0m \u001b[0;34m!=\u001b[0m \u001b[0;34m\"AstonMartin\"\u001b[0m\u001b[0;34m:\u001b[0m\u001b[0;34m\u001b[0m\u001b[0m\n\u001b[1;32m      4\u001b[0m     \u001b[0mcar\u001b[0m \u001b[0;34m=\u001b[0m \u001b[0minput\u001b[0m\u001b[0;34m(\u001b[0m\u001b[0;34m\"Wrong,guess again\\n\"\u001b[0m\u001b[0;34m)\u001b[0m\u001b[0;34m\u001b[0m\u001b[0m\n\u001b[1;32m      5\u001b[0m \u001b[0;34m\u001b[0m\u001b[0m\n",
            "\u001b[0;32m/home/nbuser/anaconda2_501/lib/python2.7/site-packages/ipykernel/ipkernel.pyc\u001b[0m in \u001b[0;36m<lambda>\u001b[0;34m(prompt)\u001b[0m\n\u001b[1;32m    174\u001b[0m             \u001b[0mself\u001b[0m\u001b[0;34m.\u001b[0m\u001b[0m_sys_eval_input\u001b[0m \u001b[0;34m=\u001b[0m \u001b[0mbuiltin_mod\u001b[0m\u001b[0;34m.\u001b[0m\u001b[0minput\u001b[0m\u001b[0;34m\u001b[0m\u001b[0m\n\u001b[1;32m    175\u001b[0m             \u001b[0mbuiltin_mod\u001b[0m\u001b[0;34m.\u001b[0m\u001b[0mraw_input\u001b[0m \u001b[0;34m=\u001b[0m \u001b[0mself\u001b[0m\u001b[0;34m.\u001b[0m\u001b[0mraw_input\u001b[0m\u001b[0;34m\u001b[0m\u001b[0m\n\u001b[0;32m--> 176\u001b[0;31m             \u001b[0mbuiltin_mod\u001b[0m\u001b[0;34m.\u001b[0m\u001b[0minput\u001b[0m \u001b[0;34m=\u001b[0m \u001b[0;32mlambda\u001b[0m \u001b[0mprompt\u001b[0m\u001b[0;34m=\u001b[0m\u001b[0;34m''\u001b[0m\u001b[0;34m:\u001b[0m \u001b[0meval\u001b[0m\u001b[0;34m(\u001b[0m\u001b[0mself\u001b[0m\u001b[0;34m.\u001b[0m\u001b[0mraw_input\u001b[0m\u001b[0;34m(\u001b[0m\u001b[0mprompt\u001b[0m\u001b[0;34m)\u001b[0m\u001b[0;34m)\u001b[0m\u001b[0;34m\u001b[0m\u001b[0m\n\u001b[0m\u001b[1;32m    177\u001b[0m         \u001b[0mself\u001b[0m\u001b[0;34m.\u001b[0m\u001b[0m_save_getpass\u001b[0m \u001b[0;34m=\u001b[0m \u001b[0mgetpass\u001b[0m\u001b[0;34m.\u001b[0m\u001b[0mgetpass\u001b[0m\u001b[0;34m\u001b[0m\u001b[0m\n\u001b[1;32m    178\u001b[0m         \u001b[0mgetpass\u001b[0m\u001b[0;34m.\u001b[0m\u001b[0mgetpass\u001b[0m \u001b[0;34m=\u001b[0m \u001b[0mself\u001b[0m\u001b[0;34m.\u001b[0m\u001b[0mgetpass\u001b[0m\u001b[0;34m\u001b[0m\u001b[0m\n",
            "\u001b[0;32m/home/nbuser/anaconda2_501/lib/python2.7/site-packages/ipykernel/ipkernel.pyc\u001b[0m in \u001b[0;36m<module>\u001b[0;34m()\u001b[0m\n",
            "\u001b[0;31mNameError\u001b[0m: name 'Innova' is not defined"
          ]
        }
      ]
    },
    {
      "metadata": {
        "trusted": true
      },
      "cell_type": "code",
      "source": "car = input(\"What's my favorite car? \")",
      "execution_count": null,
      "outputs": []
    },
    {
      "metadata": {
        "trusted": true
      },
      "cell_type": "code",
      "source": "while car != \"AstonMartin\":\n    car = input(\"Wrong,guess again\\n\")\n    \nprint(\"That's right:-)\")",
      "execution_count": null,
      "outputs": []
    },
    {
      "metadata": {
        "trusted": true
      },
      "cell_type": "code",
      "source": "classic_cars = (\"Pierce Arrow\", \"Oldsmobile\", \"Mustang\", \"Corvette\", \"Alfa Romeo Spider\")",
      "execution_count": 104,
      "outputs": []
    },
    {
      "metadata": {
        "trusted": true
      },
      "cell_type": "code",
      "source": "for car in classic_cars:\n    print(car)\n    break",
      "execution_count": 105,
      "outputs": [
        {
          "output_type": "stream",
          "text": "Pierce Arrow\n",
          "name": "stdout"
        }
      ]
    },
    {
      "metadata": {
        "trusted": true
      },
      "cell_type": "code",
      "source": "for car in classic_cars:\n    print(car)\n    \n    if car == \"Corvette\":\n        print(\"This is my favorite!\", car)\n        break",
      "execution_count": 107,
      "outputs": [
        {
          "output_type": "stream",
          "text": "Pierce Arrow\nOldsmobile\nMustang\nCorvette\n('This is my favorite!', 'Corvette')\n",
          "name": "stdout"
        }
      ]
    },
    {
      "metadata": {
        "trusted": true
      },
      "cell_type": "code",
      "source": "car",
      "execution_count": 108,
      "outputs": [
        {
          "output_type": "execute_result",
          "execution_count": 108,
          "data": {
            "text/plain": "'Corvette'"
          },
          "metadata": {}
        }
      ]
    },
    {
      "metadata": {
        "trusted": true
      },
      "cell_type": "code",
      "source": "for car in classic_cars:\n    if car == \"Corvotte\":\n        print(\"This is my favourite!\", car)\n        break\n    print(\"Still within the for loop:\", car)",
      "execution_count": 109,
      "outputs": [
        {
          "output_type": "stream",
          "text": "('Still within the for loop:', 'Pierce Arrow')\n('Still within the for loop:', 'Oldsmobile')\n('Still within the for loop:', 'Mustang')\n('Still within the for loop:', 'Corvette')\n('Still within the for loop:', 'Alfa Romeo Spider')\n",
          "name": "stdout"
        }
      ]
    },
    {
      "metadata": {
        "trusted": true
      },
      "cell_type": "code",
      "source": "numbers_list = [100, 34, 67, 89, 78, 21, 36]\n\nfor num in numbers_list:\n    print(\"Checking...\", num)\n    \n    if num % 3 == 0:\n        print(\"Multiple of 3 - yippee!\")\n        break\n        \n    print(\"Not a multiple of 3:-(\")",
      "execution_count": 110,
      "outputs": [
        {
          "output_type": "stream",
          "text": "('Checking...', 100)\nNot a multiple of 3:-(\n('Checking...', 34)\nNot a multiple of 3:-(\n('Checking...', 67)\nNot a multiple of 3:-(\n('Checking...', 89)\nNot a multiple of 3:-(\n('Checking...', 78)\nMultiple of 3 - yippee!\n",
          "name": "stdout"
        }
      ]
    },
    {
      "metadata": {
        "trusted": true
      },
      "cell_type": "code",
      "source": "classic_cars = [\"Pierre Arrow\", \"Oldsmobile\", \"Mustang\", \"Corvette\", \"Alfa Rome Spider\", \"BMW\", \"BENZ\"]",
      "execution_count": 111,
      "outputs": []
    },
    {
      "metadata": {
        "trusted": true
      },
      "cell_type": "code",
      "source": "for car in classic_cars:\n    if car not in (\"Mustang\", \"BMW\"):\n        continue\n        \n    print(car)",
      "execution_count": 114,
      "outputs": [
        {
          "output_type": "stream",
          "text": "Mustang\nBMW\n",
          "name": "stdout"
        }
      ]
    },
    {
      "metadata": {
        "trusted": true
      },
      "cell_type": "code",
      "source": "for i in range(10):\n    if i % 2 == 0:\n        continue\n    print(i)",
      "execution_count": 115,
      "outputs": [
        {
          "output_type": "stream",
          "text": "1\n3\n5\n7\n9\n",
          "name": "stdout"
        }
      ]
    },
    {
      "metadata": {
        "trusted": true
      },
      "cell_type": "code",
      "source": "for i in range(10, 21):\n    if i >= 13 and i <= 16:\n        pass\n        continue\n    else:\n        print(i)",
      "execution_count": 122,
      "outputs": [
        {
          "output_type": "stream",
          "text": "10\n11\n12\n17\n18\n19\n20\n",
          "name": "stdout"
        }
      ]
    },
    {
      "metadata": {
        "trusted": true
      },
      "cell_type": "code",
      "source": "for i in range(10,21):\n    pass",
      "execution_count": 120,
      "outputs": []
    },
    {
      "metadata": {
        "trusted": true
      },
      "cell_type": "code",
      "source": "# Defining and Invoking Custom Functions\n# Built-in Function in Python are available as a part of Python standard distributions.\nprint(\"Hello!\")",
      "execution_count": 123,
      "outputs": [
        {
          "output_type": "stream",
          "text": "Hello!\n",
          "name": "stdout"
        }
      ]
    },
    {
      "metadata": {
        "trusted": true
      },
      "cell_type": "code",
      "source": "len (\"Hello\")",
      "execution_count": 125,
      "outputs": [
        {
          "output_type": "execute_result",
          "execution_count": 125,
          "data": {
            "text/plain": "5"
          },
          "metadata": {}
        }
      ]
    },
    {
      "metadata": {
        "trusted": true
      },
      "cell_type": "code",
      "source": "num_list = [2,4,6,8]\n\nsum(num_list)",
      "execution_count": 129,
      "outputs": [
        {
          "output_type": "execute_result",
          "execution_count": 129,
          "data": {
            "text/plain": "20"
          },
          "metadata": {}
        }
      ]
    },
    {
      "metadata": {
        "trusted": true
      },
      "cell_type": "code",
      "source": "abs(-10)",
      "execution_count": 130,
      "outputs": [
        {
          "output_type": "execute_result",
          "execution_count": 130,
          "data": {
            "text/plain": "10"
          },
          "metadata": {}
        }
      ]
    },
    {
      "metadata": {
        "trusted": true
      },
      "cell_type": "code",
      "source": "",
      "execution_count": null,
      "outputs": []
    },
    {
      "metadata": {
        "trusted": true
      },
      "cell_type": "code",
      "source": "",
      "execution_count": null,
      "outputs": []
    },
    {
      "metadata": {
        "trusted": true
      },
      "cell_type": "code",
      "source": "",
      "execution_count": null,
      "outputs": []
    }
  ],
  "metadata": {
    "kernelspec": {
      "name": "python2",
      "display_name": "Python 2",
      "language": "python"
    }
  },
  "nbformat": 4,
  "nbformat_minor": 1
}