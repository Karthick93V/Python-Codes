{
  "nbformat": 4,
  "nbformat_minor": 0,
  "metadata": {
    "colab": {
      "name": "Local Concentration and Dispersion.ipynb",
      "provenance": [],
      "collapsed_sections": [],
      "authorship_tag": "ABX9TyM7nXqiEYSuD7XTcXz7KDiQ",
      "include_colab_link": true
    },
    "kernelspec": {
      "name": "python3",
      "display_name": "Python 3"
    }
  },
  "cells": [
    {
      "cell_type": "markdown",
      "metadata": {
        "id": "view-in-github",
        "colab_type": "text"
      },
      "source": [
        "<a href=\"https://colab.research.google.com/github/Karthick93V/Python-Codes/blob/master/Local_Concentration_and_Dispersion.ipynb\" target=\"_parent\"><img src=\"https://colab.research.google.com/assets/colab-badge.svg\" alt=\"Open In Colab\"/></a>"
      ]
    },
    {
      "cell_type": "code",
      "metadata": {
        "id": "f824JpmbrIZ1",
        "outputId": "6fbdeb6c-20ca-4784-81de-f4add99127db",
        "colab": {
          "base_uri": "https://localhost:8080/",
          "height": 71
        }
      },
      "source": [
        "import pandas as pd\n",
        "import numpy as np\n",
        "import matplotlib.pyplot as plt\n",
        "import seaborn as sns"
      ],
      "execution_count": 2,
      "outputs": [
        {
          "output_type": "stream",
          "text": [
            "/usr/local/lib/python3.6/dist-packages/statsmodels/tools/_testing.py:19: FutureWarning: pandas.util.testing is deprecated. Use the functions in the public API at pandas.testing instead.\n",
            "  import pandas.util.testing as tm\n"
          ],
          "name": "stderr"
        }
      ]
    },
    {
      "cell_type": "code",
      "metadata": {
        "id": "lSyLtnnArc18"
      },
      "source": [
        "##Looking at the features"
      ],
      "execution_count": 3,
      "outputs": []
    },
    {
      "cell_type": "code",
      "metadata": {
        "id": "G_ll8cU1r79I"
      },
      "source": [
        "data = pd.read_csv('http://www.dsi.uminho.pt/~pcortez/forestfires/forestfires.csv')"
      ],
      "execution_count": 4,
      "outputs": []
    },
    {
      "cell_type": "code",
      "metadata": {
        "id": "ORp2H2-ksjo5",
        "outputId": "db6d2863-18b7-4816-ee5e-67f77438b9d0",
        "colab": {
          "base_uri": "https://localhost:8080/",
          "height": 359
        }
      },
      "source": [
        "data.head(10)"
      ],
      "execution_count": 5,
      "outputs": [
        {
          "output_type": "execute_result",
          "data": {
            "text/html": [
              "<div>\n",
              "<style scoped>\n",
              "    .dataframe tbody tr th:only-of-type {\n",
              "        vertical-align: middle;\n",
              "    }\n",
              "\n",
              "    .dataframe tbody tr th {\n",
              "        vertical-align: top;\n",
              "    }\n",
              "\n",
              "    .dataframe thead th {\n",
              "        text-align: right;\n",
              "    }\n",
              "</style>\n",
              "<table border=\"1\" class=\"dataframe\">\n",
              "  <thead>\n",
              "    <tr style=\"text-align: right;\">\n",
              "      <th></th>\n",
              "      <th>X</th>\n",
              "      <th>Y</th>\n",
              "      <th>month</th>\n",
              "      <th>day</th>\n",
              "      <th>FFMC</th>\n",
              "      <th>DMC</th>\n",
              "      <th>DC</th>\n",
              "      <th>ISI</th>\n",
              "      <th>temp</th>\n",
              "      <th>RH</th>\n",
              "      <th>wind</th>\n",
              "      <th>rain</th>\n",
              "      <th>area</th>\n",
              "    </tr>\n",
              "  </thead>\n",
              "  <tbody>\n",
              "    <tr>\n",
              "      <th>0</th>\n",
              "      <td>7</td>\n",
              "      <td>5</td>\n",
              "      <td>mar</td>\n",
              "      <td>fri</td>\n",
              "      <td>86.2</td>\n",
              "      <td>26.2</td>\n",
              "      <td>94.3</td>\n",
              "      <td>5.1</td>\n",
              "      <td>8.2</td>\n",
              "      <td>51</td>\n",
              "      <td>6.7</td>\n",
              "      <td>0.0</td>\n",
              "      <td>0.0</td>\n",
              "    </tr>\n",
              "    <tr>\n",
              "      <th>1</th>\n",
              "      <td>7</td>\n",
              "      <td>4</td>\n",
              "      <td>oct</td>\n",
              "      <td>tue</td>\n",
              "      <td>90.6</td>\n",
              "      <td>35.4</td>\n",
              "      <td>669.1</td>\n",
              "      <td>6.7</td>\n",
              "      <td>18.0</td>\n",
              "      <td>33</td>\n",
              "      <td>0.9</td>\n",
              "      <td>0.0</td>\n",
              "      <td>0.0</td>\n",
              "    </tr>\n",
              "    <tr>\n",
              "      <th>2</th>\n",
              "      <td>7</td>\n",
              "      <td>4</td>\n",
              "      <td>oct</td>\n",
              "      <td>sat</td>\n",
              "      <td>90.6</td>\n",
              "      <td>43.7</td>\n",
              "      <td>686.9</td>\n",
              "      <td>6.7</td>\n",
              "      <td>14.6</td>\n",
              "      <td>33</td>\n",
              "      <td>1.3</td>\n",
              "      <td>0.0</td>\n",
              "      <td>0.0</td>\n",
              "    </tr>\n",
              "    <tr>\n",
              "      <th>3</th>\n",
              "      <td>8</td>\n",
              "      <td>6</td>\n",
              "      <td>mar</td>\n",
              "      <td>fri</td>\n",
              "      <td>91.7</td>\n",
              "      <td>33.3</td>\n",
              "      <td>77.5</td>\n",
              "      <td>9.0</td>\n",
              "      <td>8.3</td>\n",
              "      <td>97</td>\n",
              "      <td>4.0</td>\n",
              "      <td>0.2</td>\n",
              "      <td>0.0</td>\n",
              "    </tr>\n",
              "    <tr>\n",
              "      <th>4</th>\n",
              "      <td>8</td>\n",
              "      <td>6</td>\n",
              "      <td>mar</td>\n",
              "      <td>sun</td>\n",
              "      <td>89.3</td>\n",
              "      <td>51.3</td>\n",
              "      <td>102.2</td>\n",
              "      <td>9.6</td>\n",
              "      <td>11.4</td>\n",
              "      <td>99</td>\n",
              "      <td>1.8</td>\n",
              "      <td>0.0</td>\n",
              "      <td>0.0</td>\n",
              "    </tr>\n",
              "    <tr>\n",
              "      <th>5</th>\n",
              "      <td>8</td>\n",
              "      <td>6</td>\n",
              "      <td>aug</td>\n",
              "      <td>sun</td>\n",
              "      <td>92.3</td>\n",
              "      <td>85.3</td>\n",
              "      <td>488.0</td>\n",
              "      <td>14.7</td>\n",
              "      <td>22.2</td>\n",
              "      <td>29</td>\n",
              "      <td>5.4</td>\n",
              "      <td>0.0</td>\n",
              "      <td>0.0</td>\n",
              "    </tr>\n",
              "    <tr>\n",
              "      <th>6</th>\n",
              "      <td>8</td>\n",
              "      <td>6</td>\n",
              "      <td>aug</td>\n",
              "      <td>mon</td>\n",
              "      <td>92.3</td>\n",
              "      <td>88.9</td>\n",
              "      <td>495.6</td>\n",
              "      <td>8.5</td>\n",
              "      <td>24.1</td>\n",
              "      <td>27</td>\n",
              "      <td>3.1</td>\n",
              "      <td>0.0</td>\n",
              "      <td>0.0</td>\n",
              "    </tr>\n",
              "    <tr>\n",
              "      <th>7</th>\n",
              "      <td>8</td>\n",
              "      <td>6</td>\n",
              "      <td>aug</td>\n",
              "      <td>mon</td>\n",
              "      <td>91.5</td>\n",
              "      <td>145.4</td>\n",
              "      <td>608.2</td>\n",
              "      <td>10.7</td>\n",
              "      <td>8.0</td>\n",
              "      <td>86</td>\n",
              "      <td>2.2</td>\n",
              "      <td>0.0</td>\n",
              "      <td>0.0</td>\n",
              "    </tr>\n",
              "    <tr>\n",
              "      <th>8</th>\n",
              "      <td>8</td>\n",
              "      <td>6</td>\n",
              "      <td>sep</td>\n",
              "      <td>tue</td>\n",
              "      <td>91.0</td>\n",
              "      <td>129.5</td>\n",
              "      <td>692.6</td>\n",
              "      <td>7.0</td>\n",
              "      <td>13.1</td>\n",
              "      <td>63</td>\n",
              "      <td>5.4</td>\n",
              "      <td>0.0</td>\n",
              "      <td>0.0</td>\n",
              "    </tr>\n",
              "    <tr>\n",
              "      <th>9</th>\n",
              "      <td>7</td>\n",
              "      <td>5</td>\n",
              "      <td>sep</td>\n",
              "      <td>sat</td>\n",
              "      <td>92.5</td>\n",
              "      <td>88.0</td>\n",
              "      <td>698.6</td>\n",
              "      <td>7.1</td>\n",
              "      <td>22.8</td>\n",
              "      <td>40</td>\n",
              "      <td>4.0</td>\n",
              "      <td>0.0</td>\n",
              "      <td>0.0</td>\n",
              "    </tr>\n",
              "  </tbody>\n",
              "</table>\n",
              "</div>"
            ],
            "text/plain": [
              "   X  Y month  day  FFMC    DMC     DC   ISI  temp  RH  wind  rain  area\n",
              "0  7  5   mar  fri  86.2   26.2   94.3   5.1   8.2  51   6.7   0.0   0.0\n",
              "1  7  4   oct  tue  90.6   35.4  669.1   6.7  18.0  33   0.9   0.0   0.0\n",
              "2  7  4   oct  sat  90.6   43.7  686.9   6.7  14.6  33   1.3   0.0   0.0\n",
              "3  8  6   mar  fri  91.7   33.3   77.5   9.0   8.3  97   4.0   0.2   0.0\n",
              "4  8  6   mar  sun  89.3   51.3  102.2   9.6  11.4  99   1.8   0.0   0.0\n",
              "5  8  6   aug  sun  92.3   85.3  488.0  14.7  22.2  29   5.4   0.0   0.0\n",
              "6  8  6   aug  mon  92.3   88.9  495.6   8.5  24.1  27   3.1   0.0   0.0\n",
              "7  8  6   aug  mon  91.5  145.4  608.2  10.7   8.0  86   2.2   0.0   0.0\n",
              "8  8  6   sep  tue  91.0  129.5  692.6   7.0  13.1  63   5.4   0.0   0.0\n",
              "9  7  5   sep  sat  92.5   88.0  698.6   7.1  22.8  40   4.0   0.0   0.0"
            ]
          },
          "metadata": {
            "tags": []
          },
          "execution_count": 5
        }
      ]
    },
    {
      "cell_type": "code",
      "metadata": {
        "id": "_N2k5qQwsmC2"
      },
      "source": [
        "## Local Concentration"
      ],
      "execution_count": 6,
      "outputs": []
    },
    {
      "cell_type": "code",
      "metadata": {
        "id": "jXhgBJUxs4gH",
        "outputId": "16c46f8d-4068-4d5f-f8c5-39d672fd83fd",
        "colab": {
          "base_uri": "https://localhost:8080/",
          "height": 34
        }
      },
      "source": [
        "from statistics import mean\n",
        "\n",
        "a1 = data['temp'].mean()  # pandas function\n",
        "a2 = mean(data['temp'])   # statistics function\n",
        "a3 = np.mean(data['temp']) # numpy mean\n",
        "\n",
        "print(f'{a1}, {a2}, {a3}')"
      ],
      "execution_count": 9,
      "outputs": [
        {
          "output_type": "stream",
          "text": [
            "18.88916827852998, 18.88916827852998, 18.88916827852998\n"
          ],
          "name": "stdout"
        }
      ]
    },
    {
      "cell_type": "code",
      "metadata": {
        "id": "JQ7qi2JXs914",
        "outputId": "730f01c2-945d-4b90-f0bd-f4bd47f5c97d",
        "colab": {
          "base_uri": "https://localhost:8080/",
          "height": 68
        }
      },
      "source": [
        "## Numpy doesn't have a way to compute the mode, so we're going to use the stats library. As you can see, the mode function from the statistics library \n",
        "## gives an error as it expects only value to be mode.\n",
        "\n",
        "from statistics import mode\n",
        "from scipy import stats\n",
        "\n",
        "a1 = data['temp'].mode()  # pandas function\n",
        "##a2 = mean(data['temp'])   # statistics function\n",
        "a3 = stats.mode(data['temp']) # stats function\n",
        "\n",
        "print (f'{a1}, {a3}')"
      ],
      "execution_count": 10,
      "outputs": [
        {
          "output_type": "stream",
          "text": [
            "0    17.4\n",
            "1    19.6\n",
            "dtype: float64, ModeResult(mode=array([17.4]), count=array([8]))\n"
          ],
          "name": "stdout"
        }
      ]
    },
    {
      "cell_type": "code",
      "metadata": {
        "id": "9Zr0ItE8uPH1",
        "outputId": "f29dc4e0-b83a-4a30-8785-7a745e99bc1a",
        "colab": {
          "base_uri": "https://localhost:8080/",
          "height": 34
        }
      },
      "source": [
        "from statistics import median\n",
        "\n",
        "a1 = data['temp'].median()  # pandas function\n",
        "a2 = median(data['temp'])   # statistics function\n",
        "a3 = np.median(data['temp']) # numpy mean\n",
        "\n",
        "print(f'{a1}, {a2}, {a3}')"
      ],
      "execution_count": 11,
      "outputs": [
        {
          "output_type": "stream",
          "text": [
            "19.3, 19.3, 19.3\n"
          ],
          "name": "stdout"
        }
      ]
    },
    {
      "cell_type": "code",
      "metadata": {
        "id": "8RV5DL-EvaHn"
      },
      "source": [
        "## 3. Dispersion"
      ],
      "execution_count": 12,
      "outputs": []
    },
    {
      "cell_type": "code",
      "metadata": {
        "id": "ixw0TS0Gvnj6",
        "outputId": "5d19742e-d7b3-4a55-b408-1aec121ee3a6",
        "colab": {
          "base_uri": "https://localhost:8080/",
          "height": 34
        }
      },
      "source": [
        "from statistics import stdev\n",
        "\n",
        "a1 = data['temp'].std() # pandas function\n",
        "a2 = stdev(data['temp']) # statistics function\n",
        "a3 = np.std(data['temp']) # numpy function\n",
        "\n",
        "print(f'{a1}, {a2}, {a3}')"
      ],
      "execution_count": 13,
      "outputs": [
        {
          "output_type": "stream",
          "text": [
            "5.806625349573503, 5.806625349573505, 5.8010069395983646\n"
          ],
          "name": "stdout"
        }
      ]
    },
    {
      "cell_type": "code",
      "metadata": {
        "id": "iK-xz8LswNPI",
        "outputId": "bb65606c-6e13-4754-ff51-551fc94e7439",
        "colab": {
          "base_uri": "https://localhost:8080/",
          "height": 34
        }
      },
      "source": [
        "from statistics import variance\n",
        "\n",
        "a1 = data['temp'].var() # pandas function\n",
        "a2 = variance(data['temp']) # statistics function\n",
        "a3 = np.var(data['temp']) # numpy function\n",
        "\n",
        "print(f'{a1}, {a2}, {a3}')"
      ],
      "execution_count": 14,
      "outputs": [
        {
          "output_type": "stream",
          "text": [
            "33.7168979503096, 33.71689795030963, 33.65168151326838\n"
          ],
          "name": "stdout"
        }
      ]
    },
    {
      "cell_type": "code",
      "metadata": {
        "id": "bE9Idl6uwd-e"
      },
      "source": [
        "## Shape"
      ],
      "execution_count": 15,
      "outputs": []
    },
    {
      "cell_type": "markdown",
      "metadata": {
        "id": "CVj_rYwV6KyQ"
      },
      "source": [
        ""
      ]
    },
    {
      "cell_type": "code",
      "metadata": {
        "id": "SnVgzYERwo9U",
        "outputId": "5894cb63-ed6d-49a8-c0bf-297da1101481",
        "colab": {
          "base_uri": "https://localhost:8080/",
          "height": 34
        }
      },
      "source": [
        "from scipy.stats import skew\n",
        "\n",
        "a1 = data['temp'].skew() # pandas function\n",
        "a2 = skew(data['temp'])  # scipy stats\n",
        "\n",
        "print(a1, a2)"
      ],
      "execution_count": 16,
      "outputs": [
        {
          "output_type": "stream",
          "text": [
            "-0.331172237347285 -0.3302106140354586\n"
          ],
          "name": "stdout"
        }
      ]
    },
    {
      "cell_type": "code",
      "metadata": {
        "id": "P9ArH0FixH0U",
        "outputId": "bb7725e1-3b1d-4a7c-c0d7-08a2722df5ef",
        "colab": {
          "base_uri": "https://localhost:8080/",
          "height": 34
        }
      },
      "source": [
        "from scipy.stats import kurtosis\n",
        "\n",
        "a1 = data['temp'].kurt() # pandas function\n",
        "a2 = kurtosis(data['temp'])  # scipy stats\n",
        "\n",
        "print(a1, a2)"
      ],
      "execution_count": 17,
      "outputs": [
        {
          "output_type": "stream",
          "text": [
            "0.1361655076587991 0.12326917606611909\n"
          ],
          "name": "stdout"
        }
      ]
    },
    {
      "cell_type": "code",
      "metadata": {
        "id": "SZDsNj3vzIba",
        "outputId": "d614f9c4-7777-45d5-d9ff-1f9a52464c86",
        "colab": {
          "base_uri": "https://localhost:8080/",
          "height": 170
        }
      },
      "source": [
        "## Describe Model\n",
        "\n",
        "data.describe()\n",
        "\n",
        "result = data.describe()\n",
        "result['temp']"
      ],
      "execution_count": 23,
      "outputs": [
        {
          "output_type": "execute_result",
          "data": {
            "text/plain": [
              "count    517.000000\n",
              "mean      18.889168\n",
              "std        5.806625\n",
              "min        2.200000\n",
              "25%       15.500000\n",
              "50%       19.300000\n",
              "75%       22.800000\n",
              "max       33.300000\n",
              "Name: temp, dtype: float64"
            ]
          },
          "metadata": {
            "tags": []
          },
          "execution_count": 23
        }
      ]
    },
    {
      "cell_type": "code",
      "metadata": {
        "id": "lD5Cq2lGzUZ-"
      },
      "source": [
        "##Visualization"
      ],
      "execution_count": 19,
      "outputs": []
    },
    {
      "cell_type": "code",
      "metadata": {
        "id": "R9dlyZZ12yPL",
        "cellView": "code",
        "outputId": "96c00d09-3f5b-4274-b0db-377b64374c6a",
        "colab": {
          "base_uri": "https://localhost:8080/",
          "height": 285
        }
      },
      "source": [
        "import seaborn as sns\n",
        "import matplotlib.pyplot as plt\n",
        "\n",
        "sns.set(color_codes = True)\n",
        "sns.kdeplot(data['temp'], shade = True)\n",
        "\n",
        "plt.axvline(data['temp'].mean(), 0, 1)\n",
        "plt.axvline(data['temp'].median(), 0, 1, color = 'r')\n",
        "plt.axvline(result['temp']['25%'], 0, 1, color = 'g')\n",
        "plt.axvline(result['temp']['75%'], 0, 1, color = 'g')\n",
        "\n",
        "IQR = result['temp']['75%'] - result['temp']['25%']\n",
        "\n",
        "upper_outliers = result['temp']['75%'] + 1.5*IQR\n",
        "lower_outliers = result['temp']['25%'] - 1.5*IQR\n",
        "\n",
        "plt.axvline(upper_outliers, 0, 1, color = 'b')\n",
        "plt.axvline(lower_outliers, 0, 1, color = 'b')\n",
        "\n"
      ],
      "execution_count": 26,
      "outputs": [
        {
          "output_type": "execute_result",
          "data": {
            "text/plain": [
              "<matplotlib.lines.Line2D at 0x7fbf9c109e80>"
            ]
          },
          "metadata": {
            "tags": []
          },
          "execution_count": 26
        },
        {
          "output_type": "display_data",
          "data": {
            "image/png": "[encoded data removed]",
            "text/plain": [
              "<Figure size 432x288 with 1 Axes>"
            ]
          },
          "metadata": {
            "tags": []
          }
        }
      ]
    },
    {
      "cell_type": "code",
      "metadata": {
        "id": "dbnbAbzi3qNp"
      },
      "source": [
        "# Univariate Distribution plots,Lets divide our dataset into intervals of observations and let's call them classes. This way we can plot a histogram.\n",
        "# It is a set of rectangles on a horizontal axis with centers at the Classmate Point on lends equal to the class intervals sizes. The rectangle is called a bin.\n",
        "# As you can see, it's rectangle has a same width on the horizontal axis. Although, they don't need to, they are usually the same \n",
        "# but can have different heights on a vertical axis. This way, it rectangle area is proportional to the class frequency.This is bcoz our \n",
        "# frequency distribution. A histogram let us know what is the shape of the distribution where the mean approximately is on if it has low or high dispersion.\n",
        "# This lets us introduced frequency Polygon is a line graph, of class frequency Plotted against the classmate points. It basically the same information \n",
        "# that in the histogram but plotted in other style. Group data is generally destroyed much of the original detail of the data but highlights the main features \n",
        "# contained in both histogram and frequency Polygon. If you are able to choose infinite Bins, it will approximate as max crop, we have a density plot, Lets \n",
        "# visualize our distribution of data over a continuous interval on the continuous interval instead of an absolute frequency. It tells us what is called the \n",
        "# probability density function. \n",
        "# The probability density function is the probability unit on the horizontal axis and its properties is that the area under the curve should sumup to one.\n",
        " "
      ],
      "execution_count": null,
      "outputs": []
    }
  ]
}