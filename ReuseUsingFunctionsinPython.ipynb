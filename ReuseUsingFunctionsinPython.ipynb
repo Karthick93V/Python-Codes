{
  "cells": [
    {
      "metadata": {
        "trusted": true
      },
      "cell_type": "code",
      "source": "# Returning Values from Functions by passing values as an arguments\ndef raise_to_the_power(num, exponent):\n    power = num ** exponent\n    print(power)",
      "execution_count": 8,
      "outputs": []
    },
    {
      "metadata": {
        "trusted": true
      },
      "cell_type": "code",
      "source": "raise_to_the_power(4,2)",
      "execution_count": 9,
      "outputs": [
        {
          "output_type": "stream",
          "text": "16\n",
          "name": "stdout"
        }
      ]
    },
    {
      "metadata": {
        "trusted": true
      },
      "cell_type": "code",
      "source": "raise_to_the_power(4,4)",
      "execution_count": 10,
      "outputs": [
        {
          "output_type": "stream",
          "text": "256\n",
          "name": "stdout"
        }
      ]
    },
    {
      "metadata": {
        "trusted": true
      },
      "cell_type": "code",
      "source": "result = raise_to_the_power(3,3)",
      "execution_count": 11,
      "outputs": [
        {
          "output_type": "stream",
          "text": "27\n",
          "name": "stdout"
        }
      ]
    },
    {
      "metadata": {
        "trusted": true
      },
      "cell_type": "code",
      "source": "result",
      "execution_count": 12,
      "outputs": []
    },
    {
      "metadata": {
        "trusted": true
      },
      "cell_type": "code",
      "source": "type(result)",
      "execution_count": 13,
      "outputs": [
        {
          "output_type": "execute_result",
          "execution_count": 13,
          "data": {
            "text/plain": "NoneType"
          },
          "metadata": {}
        }
      ]
    },
    {
      "metadata": {
        "trusted": true
      },
      "cell_type": "code",
      "source": "print(result)",
      "execution_count": 14,
      "outputs": [
        {
          "output_type": "stream",
          "text": "None\n",
          "name": "stdout"
        }
      ]
    },
    {
      "metadata": {
        "trusted": true
      },
      "cell_type": "code",
      "source": "def raise_to_the_power(num, exponent):\n    power = num ** exponent\n    return power",
      "execution_count": 15,
      "outputs": []
    },
    {
      "metadata": {
        "trusted": true
      },
      "cell_type": "code",
      "source": "raise_to_the_power(3,3)",
      "execution_count": 16,
      "outputs": [
        {
          "output_type": "execute_result",
          "execution_count": 16,
          "data": {
            "text/plain": "27"
          },
          "metadata": {}
        }
      ]
    },
    {
      "metadata": {
        "trusted": true
      },
      "cell_type": "code",
      "source": "result = raise_to_the_power(4,3)",
      "execution_count": 18,
      "outputs": []
    },
    {
      "metadata": {
        "trusted": true
      },
      "cell_type": "code",
      "source": "result",
      "execution_count": 19,
      "outputs": [
        {
          "output_type": "execute_result",
          "execution_count": 19,
          "data": {
            "text/plain": "64"
          },
          "metadata": {}
        }
      ]
    },
    {
      "metadata": {
        "trusted": true
      },
      "cell_type": "code",
      "source": "def square_and_cube(num):\n    square = num ** 2\n    cube = num ** 3\n    return square, cube",
      "execution_count": 20,
      "outputs": []
    },
    {
      "metadata": {
        "trusted": true
      },
      "cell_type": "code",
      "source": "square_and_cube(5)",
      "execution_count": 21,
      "outputs": [
        {
          "output_type": "execute_result",
          "execution_count": 21,
          "data": {
            "text/plain": "(25, 125)"
          },
          "metadata": {}
        }
      ]
    },
    {
      "metadata": {
        "trusted": true
      },
      "cell_type": "code",
      "source": "square, cube = square_and_cube(5)",
      "execution_count": 24,
      "outputs": []
    },
    {
      "metadata": {
        "trusted": true
      },
      "cell_type": "code",
      "source": "square",
      "execution_count": 25,
      "outputs": [
        {
          "output_type": "execute_result",
          "execution_count": 25,
          "data": {
            "text/plain": "25"
          },
          "metadata": {}
        }
      ]
    },
    {
      "metadata": {
        "trusted": true
      },
      "cell_type": "code",
      "source": "cube",
      "execution_count": 26,
      "outputs": [
        {
          "output_type": "execute_result",
          "execution_count": 26,
          "data": {
            "text/plain": "125"
          },
          "metadata": {}
        }
      ]
    },
    {
      "metadata": {
        "trusted": true
      },
      "cell_type": "code",
      "source": "def divisible_by_5(num):\n    if num % 5 == 0:\n        return \"This number is divisible by 5\"\n    else:\n        return \"This number is not divisible by 5\"",
      "execution_count": 27,
      "outputs": []
    },
    {
      "metadata": {
        "trusted": true
      },
      "cell_type": "code",
      "source": "divisible_by_5(25)",
      "execution_count": 28,
      "outputs": [
        {
          "output_type": "execute_result",
          "execution_count": 28,
          "data": {
            "text/plain": "'This number is divisible by 5'"
          },
          "metadata": {}
        }
      ]
    },
    {
      "metadata": {
        "trusted": true
      },
      "cell_type": "code",
      "source": "# Note : When defining a function you can have any number of input arguments to your function, \n# and the input arguments can be of any data type. Similarly, you can have any number of return statement \n# with in a function and also the \n# return statements can return any data type of data.",
      "execution_count": null,
      "outputs": []
    },
    {
      "metadata": {
        "trusted": true
      },
      "cell_type": "code",
      "source": "# Argument Reassignment and modifying variables with in a function",
      "execution_count": 29,
      "outputs": []
    },
    {
      "metadata": {
        "trusted": true
      },
      "cell_type": "code",
      "source": "int_var = 3\nfloat_var = 3.3\nstring_var = \"Hello\"\nbool_var = True",
      "execution_count": 30,
      "outputs": []
    },
    {
      "metadata": {
        "trusted": true
      },
      "cell_type": "code",
      "source": "def reassign_arguments_basictypes(int_var, float_var, string_var, bool_var):\n    int_var = 30\n    float_var = 33.3\n    string_var = \"GoodBye\"\n    bool_var = False\n    \n    print(\"Inside the Function:\", int_var, float_var, string_var, bool_var)",
      "execution_count": 32,
      "outputs": []
    },
    {
      "metadata": {
        "trusted": true
      },
      "cell_type": "code",
      "source": "reassign_arguments_basictypes(0,0.0,\" string\",False)",
      "execution_count": 34,
      "outputs": [
        {
          "output_type": "stream",
          "text": "Inside the Function: 30 33.3 GoodBye False\n",
          "name": "stdout"
        }
      ]
    },
    {
      "metadata": {
        "trusted": true
      },
      "cell_type": "code",
      "source": "print(\"Outside the Function:\", int_var, float_var, string_var, bool_var)",
      "execution_count": 38,
      "outputs": [
        {
          "output_type": "stream",
          "text": "Outside the Function: 3 3.3 Hello True\n",
          "name": "stdout"
        }
      ]
    },
    {
      "metadata": {
        "trusted": true
      },
      "cell_type": "code",
      "source": "some_list = [\"John\", \"Mary\", 1, True]\nsome_tuple =(\"John\", \"Mary\", 1, True)\nsome_dict = {\"John\" : 50, \"Mary\" : 55}",
      "execution_count": 39,
      "outputs": []
    },
    {
      "metadata": {
        "trusted": true
      },
      "cell_type": "code",
      "source": "def reassign_arguments_complextypes(some_list, some_tuple, some_dict):\n    some_list = [\"Alice\"]\n    some_tuple = (\"Alice\")\n    some_dict = {\"Alice\": 25}\n    print(\"Inside the Function:\", some_list, some_tuple, some_dict)",
      "execution_count": 40,
      "outputs": []
    },
    {
      "metadata": {
        "trusted": true
      },
      "cell_type": "code",
      "source": "reassign_arguments_complextypes(some_list, some_tuple, some_dict)",
      "execution_count": 41,
      "outputs": [
        {
          "output_type": "stream",
          "text": "Inside the Function: ['Alice'] Alice {'Alice': 25}\n",
          "name": "stdout"
        }
      ]
    },
    {
      "metadata": {
        "trusted": true
      },
      "cell_type": "code",
      "source": "print(\"Outside the Function:\", some_list, some_tuple, some_dict)",
      "execution_count": 43,
      "outputs": [
        {
          "output_type": "stream",
          "text": "Outside the Function: ['John', 'Mary', 1, True] ('John', 'Mary', 1, True) {'John': 50, 'Mary': 55}\n",
          "name": "stdout"
        }
      ]
    },
    {
      "metadata": {
        "trusted": true
      },
      "cell_type": "code",
      "source": "popular_story_books = [\"Geronimo Stilton\", \"Thea Stilton\", \"Timmy Failure\", \"Asterix\", \"Tintin\"]",
      "execution_count": 44,
      "outputs": []
    },
    {
      "metadata": {
        "trusted": true
      },
      "cell_type": "code",
      "source": "def modify_list(popular_story_books):\n    popular_story_books.append(\"Dr.Seuss\")",
      "execution_count": 45,
      "outputs": []
    },
    {
      "metadata": {
        "trusted": true
      },
      "cell_type": "code",
      "source": "modify_list(popular_story_books)",
      "execution_count": 46,
      "outputs": []
    },
    {
      "metadata": {
        "trusted": true
      },
      "cell_type": "code",
      "source": "popular_story_books",
      "execution_count": 47,
      "outputs": [
        {
          "output_type": "execute_result",
          "execution_count": 47,
          "data": {
            "text/plain": "['Geronimo Stilton',\n 'Thea Stilton',\n 'Timmy Failure',\n 'Asterix',\n 'Tintin',\n 'Dr.Seuss']"
          },
          "metadata": {}
        }
      ]
    },
    {
      "metadata": {
        "trusted": true
      },
      "cell_type": "code",
      "source": "def modify_list(story_books):\n    story_books[1] = \"Junie B Jones\"\n    story_books.pop()",
      "execution_count": 48,
      "outputs": []
    },
    {
      "metadata": {
        "trusted": true
      },
      "cell_type": "code",
      "source": "modify_list(popular_story_books)",
      "execution_count": 49,
      "outputs": []
    },
    {
      "metadata": {
        "trusted": true
      },
      "cell_type": "code",
      "source": "popular_story_books",
      "execution_count": 50,
      "outputs": [
        {
          "output_type": "execute_result",
          "execution_count": 50,
          "data": {
            "text/plain": "['Geronimo Stilton', 'Junie B Jones', 'Timmy Failure', 'Asterix', 'Tintin']"
          },
          "metadata": {}
        }
      ]
    },
    {
      "metadata": {
        "trusted": true
      },
      "cell_type": "code",
      "source": "popular_story_books_dict = {\"Geronimo Stilton\":4,\n                           \"Thea Stilton\" : 5,\n                           \"Timmy Failure\" : 2,\n                           \"Asterix\" : 12,\n                           \"Tintin\" : 8}",
      "execution_count": 58,
      "outputs": []
    },
    {
      "metadata": {
        "trusted": true
      },
      "cell_type": "code",
      "source": "def modify_dict(story_books_dict):\n    del story_books_dict[\"Tintin\"]\n    \n    story_books_dict[\"Famous Five\"] = 3",
      "execution_count": 59,
      "outputs": []
    },
    {
      "metadata": {
        "trusted": true
      },
      "cell_type": "code",
      "source": "modify_dict(popular_story_books_dict)\n\npopular_story_books_dict",
      "execution_count": 60,
      "outputs": [
        {
          "output_type": "execute_result",
          "execution_count": 60,
          "data": {
            "text/plain": "{'Geronimo Stilton': 4,\n 'Thea Stilton': 5,\n 'Timmy Failure': 2,\n 'Asterix': 12,\n 'Famous Five': 3}"
          },
          "metadata": {}
        }
      ]
    },
    {
      "metadata": {
        "trusted": true
      },
      "cell_type": "code",
      "source": "# Using the keyword arguments\n\ndef car_parts(name, brand, hp, engine, zero_to_sixty, top_speed, price):\n    \n    other_details = hp, engine, top_speed, price\n    \n    print(\"Name of the car :\", name)\n    print(\"Brand :\", brand, \"\\n 0 to 60:\",zero_to_sixty)\n    print(\"Price :\", price)\n    print(\"Remaining details(hp, engine, top_speed, price):\", other_details)",
      "execution_count": 64,
      "outputs": []
    },
    {
      "metadata": {
        "trusted": true
      },
      "cell_type": "code",
      "source": "car_parts(\"Aventador\", \"Lamborghini\", 544, 7.0,2.9, 220, 261000)",
      "execution_count": 65,
      "outputs": [
        {
          "output_type": "stream",
          "text": "Name of the car : Aventador\nBrand : Lamborghini \n 0 to 60: 2.9\nPrice : 261000\nRemaining details(hp, engine, top_speed, price): (544, 7.0, 220, 261000)\n",
          "name": "stdout"
        }
      ]
    },
    {
      "metadata": {
        "trusted": true
      },
      "cell_type": "code",
      "source": "car_parts(\"Aventador\", \"Lamborghini\", 544, 7.0,2.9, 220, price = 261000)",
      "execution_count": 66,
      "outputs": [
        {
          "output_type": "stream",
          "text": "Name of the car : Aventador\nBrand : Lamborghini \n 0 to 60: 2.9\nPrice : 261000\nRemaining details(hp, engine, top_speed, price): (544, 7.0, 220, 261000)\n",
          "name": "stdout"
        }
      ]
    },
    {
      "metadata": {
        "trusted": true
      },
      "cell_type": "code",
      "source": "car_parts(\"Aventador\", \"Lamborghini\", hp = 544, engine = 7.0, zero_to_sixty = 2.9, top_speed = 220, price = 261000)",
      "execution_count": 67,
      "outputs": [
        {
          "output_type": "stream",
          "text": "Name of the car : Aventador\nBrand : Lamborghini \n 0 to 60: 2.9\nPrice : 261000\nRemaining details(hp, engine, top_speed, price): (544, 7.0, 220, 261000)\n",
          "name": "stdout"
        }
      ]
    },
    {
      "metadata": {
        "trusted": true
      },
      "cell_type": "code",
      "source": "## If you need to assign values in the keyword arguments, all the positional arguments needs to be at the beginning while defining the function\n## Assigning a positional argument in the middle of the keyword argument it willthrow error\ncar_parts(\"Aventador\", \"Lamborghini\", hp = 544, engine = 7.0, zero_to_sixty = 2.9, top_speed = 220, price = 261000)",
      "execution_count": 68,
      "outputs": [
        {
          "output_type": "stream",
          "text": "Name of the car : Aventador\nBrand : Lamborghini \n 0 to 60: 2.9\nPrice : 261000\nRemaining details(hp, engine, top_speed, price): (544, 7.0, 220, 261000)\n",
          "name": "stdout"
        }
      ]
    },
    {
      "metadata": {
        "trusted": true
      },
      "cell_type": "code",
      "source": "##If the values are assigned to the variables using the ketyword then we can mix up the orders of the variables\n\ncar_parts(brand = \"Lamborghini\", name = \"Aventador\",  hp = 544, engine = 7.0, zero_to_sixty = 2.9, top_speed = 220, price = 261000)",
      "execution_count": 73,
      "outputs": [
        {
          "output_type": "stream",
          "text": "Name of the car : Aventador\nBrand : Lamborghini \n 0 to 60: 2.9\nPrice : 261000\nRemaining details(hp, engine, top_speed, price): (544, 7.0, 220, 261000)\n",
          "name": "stdout"
        }
      ]
    },
    {
      "metadata": {
        "trusted": true
      },
      "cell_type": "code",
      "source": "## Assigning the default Values for Input Arguments\n\ndef car_parts(name, brand, hp, engine, zero_to_sixty, top_speed, price = 35000):\n    other_details = hp, engine, top_speed, price\n    \n    print(\"Name of the car :\", name)\n    print(\"Brand :\", brand, \"\\n 0 to 60:\",zero_to_sixty)\n    print(\"Price :\", price)\n    print(\"Remaining details(hp, engine, top_speed, price):\", other_details)\n    ",
      "execution_count": 79,
      "outputs": []
    },
    {
      "metadata": {
        "trusted": true
      },
      "cell_type": "code",
      "source": "car_parts(\"Mustang\", \"Ford\", hp= 295, engine = 5.0, zero_to_sixty = 7.0, top_speed = 150)",
      "execution_count": 81,
      "outputs": [
        {
          "output_type": "stream",
          "text": "Name of the car : Mustang\nBrand : Ford \n 0 to 60: 7.0\nPrice : 35000\nRemaining details(hp, engine, top_speed, price): (295, 5.0, 150, 35000)\n",
          "name": "stdout"
        }
      ]
    },
    {
      "metadata": {
        "trusted": true
      },
      "cell_type": "code",
      "source": "def car_parts(name = \"Mustang\", brand = \"Ford\", hp = 295, engine = 5.0, zero_to_sixty = 7.0, top_speed = 150, price = 30000):\n    other_details = hp, engine, top_speed, price\n    \n    print(\"Name of the car :\", name)\n    print(\"Brand :\", brand, \"\\n 0 to 60:\",zero_to_sixty)\n    print(\"Price :\", price)\n    print(\"Remaining details(hp, engine, top_speed, price):\", other_details)",
      "execution_count": 82,
      "outputs": []
    },
    {
      "metadata": {
        "trusted": true
      },
      "cell_type": "code",
      "source": "car_parts()",
      "execution_count": 83,
      "outputs": [
        {
          "output_type": "stream",
          "text": "Name of the car : Mustang\nBrand : Ford \n 0 to 60: 7.0\nPrice : 30000\nRemaining details(hp, engine, top_speed, price): (295, 5.0, 150, 30000)\n",
          "name": "stdout"
        }
      ]
    },
    {
      "metadata": {
        "trusted": true
      },
      "cell_type": "code",
      "source": "car_parts(name = \"Viper\", brand = \"Benz\")",
      "execution_count": 86,
      "outputs": [
        {
          "output_type": "stream",
          "text": "Name of the car : Viper\nBrand : Benz \n 0 to 60: 7.0\nPrice : 30000\nRemaining details(hp, engine, top_speed, price): (295, 5.0, 150, 30000)\n",
          "name": "stdout"
        }
      ]
    },
    {
      "metadata": {
        "trusted": true
      },
      "cell_type": "code",
      "source": "# First Class Functions",
      "execution_count": 87,
      "outputs": []
    },
    {
      "metadata": {
        "trusted": true
      },
      "cell_type": "code",
      "source": "def my_car(car):\n    print(\"My car is a\", car)",
      "execution_count": 88,
      "outputs": []
    },
    {
      "metadata": {
        "trusted": true
      },
      "cell_type": "code",
      "source": "my_car(\"MercedzBenz\")",
      "execution_count": 89,
      "outputs": [
        {
          "output_type": "stream",
          "text": "My car is a MercedzBenz\n",
          "name": "stdout"
        }
      ]
    },
    {
      "metadata": {
        "trusted": true
      },
      "cell_type": "code",
      "source": "my_car",
      "execution_count": 90,
      "outputs": [
        {
          "output_type": "execute_result",
          "execution_count": 90,
          "data": {
            "text/plain": "<function __main__.my_car(car)>"
          },
          "metadata": {}
        }
      ]
    },
    {
      "metadata": {
        "trusted": true
      },
      "cell_type": "code",
      "source": "car_fn = my_car",
      "execution_count": 92,
      "outputs": []
    },
    {
      "metadata": {
        "trusted": true
      },
      "cell_type": "code",
      "source": "car_fn(\"BMW\")",
      "execution_count": 93,
      "outputs": [
        {
          "output_type": "stream",
          "text": "My car is a BMW\n",
          "name": "stdout"
        }
      ]
    },
    {
      "metadata": {
        "trusted": true
      },
      "cell_type": "code",
      "source": "maximum = max",
      "execution_count": 94,
      "outputs": []
    },
    {
      "metadata": {
        "trusted": true
      },
      "cell_type": "code",
      "source": "num_list = [56, 54, 8, 9678, 987, 7]\n\nmaximum(num_list)",
      "execution_count": 95,
      "outputs": [
        {
          "output_type": "execute_result",
          "execution_count": 95,
          "data": {
            "text/plain": "9678"
          },
          "metadata": {}
        }
      ]
    },
    {
      "metadata": {
        "trusted": true
      },
      "cell_type": "code",
      "source": "maximum == max",
      "execution_count": 96,
      "outputs": [
        {
          "output_type": "execute_result",
          "execution_count": 96,
          "data": {
            "text/plain": "True"
          },
          "metadata": {}
        }
      ]
    },
    {
      "metadata": {
        "trusted": true
      },
      "cell_type": "code",
      "source": "def calculate_GST(price, type_of_item):\n    if type_of_item == \"Product\":\n        return price * 1.05\n    \n    elif type_of_item == \"Service\":\n        return price * 1.18\n    \n    return price * 1.35",
      "execution_count": 97,
      "outputs": []
    },
    {
      "metadata": {
        "trusted": true
      },
      "cell_type": "code",
      "source": "def calculate_VAT(price, type_of_item):\n    return price * 1.2",
      "execution_count": 98,
      "outputs": []
    },
    {
      "metadata": {
        "trusted": true
      },
      "cell_type": "code",
      "source": "type_of_tax = calculate_GST",
      "execution_count": 99,
      "outputs": []
    },
    {
      "metadata": {
        "trusted": true
      },
      "cell_type": "code",
      "source": "type_of_tax(1000, \"Product\")",
      "execution_count": 100,
      "outputs": [
        {
          "output_type": "execute_result",
          "execution_count": 100,
          "data": {
            "text/plain": "1050.0"
          },
          "metadata": {}
        }
      ]
    },
    {
      "metadata": {
        "trusted": true
      },
      "cell_type": "code",
      "source": "def find_tax_calculator(type_of_tax):\n    if type_of_tax == \"GST\":\n        return calculate_GST\n    elif type_of_tax == \"VAT\":\n        return calculate_VAT",
      "execution_count": 101,
      "outputs": []
    },
    {
      "metadata": {
        "trusted": true
      },
      "cell_type": "code",
      "source": "gst_fn = find_tax_calculator(\"GST\")\n\ngst_fn",
      "execution_count": 102,
      "outputs": [
        {
          "output_type": "execute_result",
          "execution_count": 102,
          "data": {
            "text/plain": "<function __main__.calculate_GST(price, type_of_item)>"
          },
          "metadata": {}
        }
      ]
    },
    {
      "metadata": {
        "trusted": true
      },
      "cell_type": "code",
      "source": "vat_fn = find_tax_calculator(\"VAT\")",
      "execution_count": 103,
      "outputs": []
    },
    {
      "metadata": {
        "trusted": true
      },
      "cell_type": "code",
      "source": "vat_fn",
      "execution_count": 104,
      "outputs": [
        {
          "output_type": "execute_result",
          "execution_count": 104,
          "data": {
            "text/plain": "<function __main__.calculate_VAT(price, type_of_item)>"
          },
          "metadata": {}
        }
      ]
    },
    {
      "metadata": {
        "trusted": true
      },
      "cell_type": "code",
      "source": "gst_fn(1000, \"Product\")",
      "execution_count": 105,
      "outputs": [
        {
          "output_type": "execute_result",
          "execution_count": 105,
          "data": {
            "text/plain": "1050.0"
          },
          "metadata": {}
        }
      ]
    },
    {
      "metadata": {
        "trusted": true
      },
      "cell_type": "code",
      "source": "def get_price_plus_taxes(price, type_of_item, tax_fn):\n    return tax_fn(price, type_of_item)",
      "execution_count": 107,
      "outputs": []
    },
    {
      "metadata": {
        "trusted": true
      },
      "cell_type": "code",
      "source": "get_price_plus_taxes(2000, \"Product\", tax_fn= calculate_GST)",
      "execution_count": 108,
      "outputs": [
        {
          "output_type": "execute_result",
          "execution_count": 108,
          "data": {
            "text/plain": "2100.0"
          },
          "metadata": {}
        }
      ]
    },
    {
      "metadata": {
        "trusted": true
      },
      "cell_type": "code",
      "source": "get_price_plus_taxes(2000, \"Product\", tax_fn = calculate_VAT)",
      "execution_count": 109,
      "outputs": [
        {
          "output_type": "execute_result",
          "execution_count": 109,
          "data": {
            "text/plain": "2400.0"
          },
          "metadata": {}
        }
      ]
    },
    {
      "metadata": {
        "trusted": true
      },
      "cell_type": "code",
      "source": "",
      "execution_count": null,
      "outputs": []
    },
    {
      "metadata": {
        "trusted": true
      },
      "cell_type": "code",
      "source": "",
      "execution_count": null,
      "outputs": []
    },
    {
      "metadata": {
        "trusted": true
      },
      "cell_type": "code",
      "source": "",
      "execution_count": null,
      "outputs": []
    }
  ],
  "metadata": {
    "kernelspec": {
      "name": "python36",
      "display_name": "Python 3.6",
      "language": "python"
    }
  },
  "nbformat": 4,
  "nbformat_minor": 2
}